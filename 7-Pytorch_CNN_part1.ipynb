{
  "cells": [
    {
      "cell_type": "markdown",
      "metadata": {
        "id": "nRYL3Ry1bl4a"
      },
      "source": [
        "some part of this notebook are copied from Jose Marcial Portilla works."
      ]
    },
    {
      "cell_type": "markdown",
      "metadata": {
        "id": "weMEyad9omIs"
      },
      "source": [
        "# MNIST Code Along with CNN"
      ]
    },
    {
      "cell_type": "markdown",
      "metadata": {
        "id": "j01lqV1Wo0ZF"
      },
      "source": [
        "## Perform standard imports"
      ]
    },
    {
      "cell_type": "code",
      "execution_count": null,
      "metadata": {
        "id": "gOhF3o1Xouis"
      },
      "outputs": [],
      "source": [
        "import torch\n",
        "import torch.nn as nn\n",
        "import torch.nn.functional as F          # adds some efficiency\n",
        "from torch.utils.data import DataLoader  # lets us load data in batches\n",
        "from torchvision import datasets, transforms\n",
        "\n",
        "import numpy as np\n",
        "import pandas as pd\n",
        "from sklearn.metrics import confusion_matrix  # for evaluating results\n",
        "import matplotlib.pyplot as plt\n",
        "%matplotlib inline"
      ]
    },
    {
      "cell_type": "markdown",
      "metadata": {
        "id": "Jfe7Mq3vo6gk"
      },
      "source": [
        "## Load the MNIST dataset\n",
        "PyTorch makes the MNIST dataset available through <a href='https://pytorch.org/docs/stable/torchvision/index.html'><tt><strong>torchvision</strong></tt></a>. The first time it's called, the dataset will be downloaded onto your computer to the path specified. From that point, torchvision will always look for a local copy before attempting another download.\n",
        "### Define transform\n",
        "As part of the loading process, we can apply multiple transformations (reshape, convert to tensor, normalize, etc.) to the incoming data.<br>For this exercise we only need to convert images to tensors. "
      ]
    },
    {
      "cell_type": "code",
      "execution_count": null,
      "metadata": {
        "id": "XtJjVBoSo2Wy"
      },
      "outputs": [],
      "source": [
        "transform = transforms.ToTensor()"
      ]
    },
    {
      "cell_type": "markdown",
      "metadata": {
        "id": "M_AAgt-SjeAF"
      },
      "source": [
        "### Load the training set"
      ]
    },
    {
      "cell_type": "code",
      "execution_count": null,
      "metadata": {
        "colab": {
          "base_uri": "https://localhost:8080/",
          "height": 534,
          "referenced_widgets": [
            "52768b065d5c4f019cf2dd922500b34d",
            "a46ada0e1db84b7ba85ad0e4fc844357",
            "39556ce91bf54abab1f38592d5743aa4",
            "773a7282d6e44647b473b161f6688379",
            "4b4446c3c8d941b19f76f28d5d6f4c81",
            "03c3f6deb9b04f44b2845d5b853242d7",
            "ed007b5d82d941098ccade1d7e0f6e0b",
            "5cb89b7d6f69439ea61f0f5dae39fd84",
            "d78b0bc7f0d5474e908f88d19417d0a1",
            "f23da95e88d9416cb240074b570987cf",
            "1e168a93460d4e95bd10ac8a3e334ca3",
            "950ed92a918c4f4f8e3ed66caf56157b",
            "d569ff3f2c3745ec8b3fd2907e8f050c",
            "c991707d88e7494cac3082fa056c6aea",
            "e5a9b33ec0b54777b32a7667b8bf721e",
            "3fc7ac133d294243a09684bfde8fe957",
            "f55cced9f831464597560a6be459c175",
            "317c6123f11a4754a8d3cd7370309176",
            "90edc61272d449ca9c4b9d596ed6667c",
            "3a24b78b614648d09ba24e28c5c8ecaa",
            "3abe886991ac47be82bed2f68221680e",
            "0601c774ac294afd915511900e910809",
            "316caeb6c5ff484a8b6dfc57fa0f7492",
            "382599d08fa448969ebf0a218a44a9f0",
            "41d02baa1c1542c99bceafbd54beff0f",
            "89ede7402af04c0785a4ae73becf8b52",
            "0bed057fbb044e2faba5e8bfda7f9b1d",
            "53475be78da04d4e8c47097283f7e932",
            "8da2078e487041d8bc3859df476e678d",
            "f9a00116e6b5446089d908cedd29fc35",
            "1053661193a641e4bc952ea39c27a52d",
            "0d7190fa3e3a4ddc921c5daf7d2be809",
            "8f564ba1e58c44408cd8872db660802f",
            "e41b9fea996d4974b4640997751c824a",
            "5f1f977b8d0143c2a66a6c23657cd029",
            "c4dd274be5694f689e6721cb3f618774",
            "d306e632810143ad80246d59e0cf2458",
            "7632ca33bc9346cb951a1c7b6a35902f",
            "f869edb0b9e94bd8bc7067bd3566fcdc",
            "73ed2414f62545aea2478e967f933d66",
            "df48d6e7fad940a58777360b76c38d67",
            "abcec5624aed40909ba93ef7c3456539",
            "f650a664139f4408a70dc1d0a500d394",
            "b4ad1bcefcf34134a0f48cef31ba87a5"
          ]
        },
        "id": "d00ndFncjeAF",
        "outputId": "ff91670f-520f-46c6-a573-9041a95de354"
      },
      "outputs": [
        {
          "name": "stdout",
          "output_type": "stream",
          "text": [
            "Downloading http://yann.lecun.com/exdb/mnist/train-images-idx3-ubyte.gz\n",
            "Downloading http://yann.lecun.com/exdb/mnist/train-images-idx3-ubyte.gz to ../Data/MNIST/raw/train-images-idx3-ubyte.gz\n"
          ]
        },
        {
          "data": {
            "application/vnd.jupyter.widget-view+json": {
              "model_id": "52768b065d5c4f019cf2dd922500b34d",
              "version_major": 2,
              "version_minor": 0
            },
            "text/plain": [
              "  0%|          | 0/9912422 [00:00<?, ?it/s]"
            ]
          },
          "metadata": {},
          "output_type": "display_data"
        },
        {
          "name": "stdout",
          "output_type": "stream",
          "text": [
            "Extracting ../Data/MNIST/raw/train-images-idx3-ubyte.gz to ../Data/MNIST/raw\n",
            "\n",
            "Downloading http://yann.lecun.com/exdb/mnist/train-labels-idx1-ubyte.gz\n",
            "Downloading http://yann.lecun.com/exdb/mnist/train-labels-idx1-ubyte.gz to ../Data/MNIST/raw/train-labels-idx1-ubyte.gz\n"
          ]
        },
        {
          "data": {
            "application/vnd.jupyter.widget-view+json": {
              "model_id": "950ed92a918c4f4f8e3ed66caf56157b",
              "version_major": 2,
              "version_minor": 0
            },
            "text/plain": [
              "  0%|          | 0/28881 [00:00<?, ?it/s]"
            ]
          },
          "metadata": {},
          "output_type": "display_data"
        },
        {
          "name": "stdout",
          "output_type": "stream",
          "text": [
            "Extracting ../Data/MNIST/raw/train-labels-idx1-ubyte.gz to ../Data/MNIST/raw\n",
            "\n",
            "Downloading http://yann.lecun.com/exdb/mnist/t10k-images-idx3-ubyte.gz\n",
            "Downloading http://yann.lecun.com/exdb/mnist/t10k-images-idx3-ubyte.gz to ../Data/MNIST/raw/t10k-images-idx3-ubyte.gz\n"
          ]
        },
        {
          "data": {
            "application/vnd.jupyter.widget-view+json": {
              "model_id": "316caeb6c5ff484a8b6dfc57fa0f7492",
              "version_major": 2,
              "version_minor": 0
            },
            "text/plain": [
              "  0%|          | 0/1648877 [00:00<?, ?it/s]"
            ]
          },
          "metadata": {},
          "output_type": "display_data"
        },
        {
          "name": "stdout",
          "output_type": "stream",
          "text": [
            "Extracting ../Data/MNIST/raw/t10k-images-idx3-ubyte.gz to ../Data/MNIST/raw\n",
            "\n",
            "Downloading http://yann.lecun.com/exdb/mnist/t10k-labels-idx1-ubyte.gz\n",
            "Downloading http://yann.lecun.com/exdb/mnist/t10k-labels-idx1-ubyte.gz to ../Data/MNIST/raw/t10k-labels-idx1-ubyte.gz\n"
          ]
        },
        {
          "data": {
            "application/vnd.jupyter.widget-view+json": {
              "model_id": "e41b9fea996d4974b4640997751c824a",
              "version_major": 2,
              "version_minor": 0
            },
            "text/plain": [
              "  0%|          | 0/4542 [00:00<?, ?it/s]"
            ]
          },
          "metadata": {},
          "output_type": "display_data"
        },
        {
          "name": "stdout",
          "output_type": "stream",
          "text": [
            "Extracting ../Data/MNIST/raw/t10k-labels-idx1-ubyte.gz to ../Data/MNIST/raw\n",
            "\n"
          ]
        },
        {
          "data": {
            "text/plain": [
              "Dataset MNIST\n",
              "    Number of datapoints: 60000\n",
              "    Root location: ../Data\n",
              "    Split: Train\n",
              "    StandardTransform\n",
              "Transform: ToTensor()"
            ]
          },
          "execution_count": 3,
          "metadata": {},
          "output_type": "execute_result"
        }
      ],
      "source": [
        "train_data = datasets.MNIST(root='../Data', train=True, download=True, transform=transform)\n",
        "train_data"
      ]
    },
    {
      "cell_type": "markdown",
      "metadata": {
        "id": "NVBBPOYkjeAG"
      },
      "source": [
        "### Load the test set\n",
        "There's a companion set of MNIST data containing 10,000 records accessible by setting train=False. As before, torchvision will only download this once, and in the future will look for the local copy."
      ]
    },
    {
      "cell_type": "code",
      "execution_count": null,
      "metadata": {
        "colab": {
          "base_uri": "https://localhost:8080/"
        },
        "id": "pI5iFfhzjeAH",
        "outputId": "b2b17ef1-95f5-45d2-ab04-27014e94c944"
      },
      "outputs": [
        {
          "data": {
            "text/plain": [
              "Dataset MNIST\n",
              "    Number of datapoints: 10000\n",
              "    Root location: ../Data\n",
              "    Split: Test\n",
              "    StandardTransform\n",
              "Transform: ToTensor()"
            ]
          },
          "execution_count": 4,
          "metadata": {},
          "output_type": "execute_result"
        }
      ],
      "source": [
        "test_data = datasets.MNIST(root='../Data', train=False, download=True, transform=transform)\n",
        "test_data"
      ]
    },
    {
      "cell_type": "code",
      "execution_count": null,
      "metadata": {
        "colab": {
          "base_uri": "https://localhost:8080/"
        },
        "id": "9HFCVw8ijeAI",
        "outputId": "5d8a29cb-267e-4930-a1db-dc9f33fec4b0"
      },
      "outputs": [
        {
          "data": {
            "text/plain": [
              "<module 'torchvision.datasets' from '/usr/local/lib/python3.7/dist-packages/torchvision/datasets/__init__.py'>"
            ]
          },
          "execution_count": 5,
          "metadata": {},
          "output_type": "execute_result"
        }
      ],
      "source": [
        "datasets"
      ]
    },
    {
      "cell_type": "code",
      "execution_count": null,
      "metadata": {
        "colab": {
          "base_uri": "https://localhost:8080/"
        },
        "id": "UAL69vBhjeAJ",
        "outputId": "47c2cbe1-622e-4947-ff02-45ec69489735",
        "scrolled": true
      },
      "outputs": [
        {
          "data": {
            "text/plain": [
              "torchvision.datasets.mnist.MNIST"
            ]
          },
          "execution_count": 6,
          "metadata": {},
          "output_type": "execute_result"
        }
      ],
      "source": [
        "type(test_data)"
      ]
    },
    {
      "cell_type": "markdown",
      "metadata": {
        "id": "CTF_OFbUjeAJ"
      },
      "source": [
        "### Examine a training record"
      ]
    },
    {
      "cell_type": "code",
      "execution_count": null,
      "metadata": {
        "colab": {
          "base_uri": "https://localhost:8080/"
        },
        "id": "bgAFFQq5jeAJ",
        "outputId": "76da308d-dbb7-4ad3-8d77-48f8f533daa4",
        "scrolled": false
      },
      "outputs": [
        {
          "data": {
            "text/plain": [
              "tuple"
            ]
          },
          "execution_count": 7,
          "metadata": {},
          "output_type": "execute_result"
        }
      ],
      "source": [
        "type(train_data[0])"
      ]
    },
    {
      "cell_type": "code",
      "execution_count": null,
      "metadata": {
        "colab": {
          "base_uri": "https://localhost:8080/"
        },
        "id": "-fVHkShFjeAK",
        "outputId": "91d47c5a-10da-489f-d4a7-0ee85194ba0a"
      },
      "outputs": [
        {
          "data": {
            "text/plain": [
              "2"
            ]
          },
          "execution_count": 8,
          "metadata": {},
          "output_type": "execute_result"
        }
      ],
      "source": [
        "len(train_data[0])"
      ]
    },
    {
      "cell_type": "code",
      "execution_count": null,
      "metadata": {
        "colab": {
          "base_uri": "https://localhost:8080/"
        },
        "id": "HeZ-H63wjeAK",
        "outputId": "5f1db4bb-54b5-4196-c716-e597f6c47783"
      },
      "outputs": [
        {
          "data": {
            "text/plain": [
              "(tensor([[[0.0000, 0.0000, 0.0000, 0.0000, 0.0000, 0.0000, 0.0000, 0.0000,\n",
              "           0.0000, 0.0000, 0.0000, 0.0000, 0.0000, 0.0000, 0.0000, 0.0000,\n",
              "           0.0000, 0.0000, 0.0000, 0.0000, 0.0000, 0.0000, 0.0000, 0.0000,\n",
              "           0.0000, 0.0000, 0.0000, 0.0000],\n",
              "          [0.0000, 0.0000, 0.0000, 0.0000, 0.0000, 0.0000, 0.0000, 0.0000,\n",
              "           0.0000, 0.0000, 0.0000, 0.0000, 0.0000, 0.0000, 0.0000, 0.0000,\n",
              "           0.0000, 0.0000, 0.0000, 0.0000, 0.0000, 0.0000, 0.0000, 0.0000,\n",
              "           0.0000, 0.0000, 0.0000, 0.0000],\n",
              "          [0.0000, 0.0000, 0.0000, 0.0000, 0.0000, 0.0000, 0.0000, 0.0000,\n",
              "           0.0000, 0.0000, 0.0000, 0.0000, 0.0000, 0.0000, 0.0000, 0.0000,\n",
              "           0.0000, 0.0000, 0.0000, 0.0000, 0.0000, 0.0000, 0.0000, 0.0000,\n",
              "           0.0000, 0.0000, 0.0000, 0.0000],\n",
              "          [0.0000, 0.0000, 0.0000, 0.0000, 0.0000, 0.0000, 0.0000, 0.0000,\n",
              "           0.0000, 0.0000, 0.0000, 0.0000, 0.0000, 0.0000, 0.0000, 0.0000,\n",
              "           0.0000, 0.0000, 0.0000, 0.0000, 0.0000, 0.0000, 0.0000, 0.0000,\n",
              "           0.0000, 0.0000, 0.0000, 0.0000],\n",
              "          [0.0000, 0.0000, 0.0000, 0.0000, 0.0000, 0.0000, 0.0000, 0.0000,\n",
              "           0.0000, 0.0000, 0.0000, 0.0000, 0.0000, 0.0000, 0.0000, 0.0000,\n",
              "           0.0000, 0.0000, 0.0000, 0.0000, 0.0000, 0.0000, 0.0000, 0.0000,\n",
              "           0.0000, 0.0000, 0.0000, 0.0000],\n",
              "          [0.0000, 0.0000, 0.0000, 0.0000, 0.0000, 0.0000, 0.0000, 0.0000,\n",
              "           0.0000, 0.0000, 0.0000, 0.0000, 0.0118, 0.0706, 0.0706, 0.0706,\n",
              "           0.4941, 0.5333, 0.6863, 0.1020, 0.6510, 1.0000, 0.9686, 0.4980,\n",
              "           0.0000, 0.0000, 0.0000, 0.0000],\n",
              "          [0.0000, 0.0000, 0.0000, 0.0000, 0.0000, 0.0000, 0.0000, 0.0000,\n",
              "           0.1176, 0.1412, 0.3686, 0.6039, 0.6667, 0.9922, 0.9922, 0.9922,\n",
              "           0.9922, 0.9922, 0.8824, 0.6745, 0.9922, 0.9490, 0.7647, 0.2510,\n",
              "           0.0000, 0.0000, 0.0000, 0.0000],\n",
              "          [0.0000, 0.0000, 0.0000, 0.0000, 0.0000, 0.0000, 0.0000, 0.1922,\n",
              "           0.9333, 0.9922, 0.9922, 0.9922, 0.9922, 0.9922, 0.9922, 0.9922,\n",
              "           0.9922, 0.9843, 0.3647, 0.3216, 0.3216, 0.2196, 0.1529, 0.0000,\n",
              "           0.0000, 0.0000, 0.0000, 0.0000],\n",
              "          [0.0000, 0.0000, 0.0000, 0.0000, 0.0000, 0.0000, 0.0000, 0.0706,\n",
              "           0.8588, 0.9922, 0.9922, 0.9922, 0.9922, 0.9922, 0.7765, 0.7137,\n",
              "           0.9686, 0.9451, 0.0000, 0.0000, 0.0000, 0.0000, 0.0000, 0.0000,\n",
              "           0.0000, 0.0000, 0.0000, 0.0000],\n",
              "          [0.0000, 0.0000, 0.0000, 0.0000, 0.0000, 0.0000, 0.0000, 0.0000,\n",
              "           0.3137, 0.6118, 0.4196, 0.9922, 0.9922, 0.8039, 0.0431, 0.0000,\n",
              "           0.1686, 0.6039, 0.0000, 0.0000, 0.0000, 0.0000, 0.0000, 0.0000,\n",
              "           0.0000, 0.0000, 0.0000, 0.0000],\n",
              "          [0.0000, 0.0000, 0.0000, 0.0000, 0.0000, 0.0000, 0.0000, 0.0000,\n",
              "           0.0000, 0.0549, 0.0039, 0.6039, 0.9922, 0.3529, 0.0000, 0.0000,\n",
              "           0.0000, 0.0000, 0.0000, 0.0000, 0.0000, 0.0000, 0.0000, 0.0000,\n",
              "           0.0000, 0.0000, 0.0000, 0.0000],\n",
              "          [0.0000, 0.0000, 0.0000, 0.0000, 0.0000, 0.0000, 0.0000, 0.0000,\n",
              "           0.0000, 0.0000, 0.0000, 0.5451, 0.9922, 0.7451, 0.0078, 0.0000,\n",
              "           0.0000, 0.0000, 0.0000, 0.0000, 0.0000, 0.0000, 0.0000, 0.0000,\n",
              "           0.0000, 0.0000, 0.0000, 0.0000],\n",
              "          [0.0000, 0.0000, 0.0000, 0.0000, 0.0000, 0.0000, 0.0000, 0.0000,\n",
              "           0.0000, 0.0000, 0.0000, 0.0431, 0.7451, 0.9922, 0.2745, 0.0000,\n",
              "           0.0000, 0.0000, 0.0000, 0.0000, 0.0000, 0.0000, 0.0000, 0.0000,\n",
              "           0.0000, 0.0000, 0.0000, 0.0000],\n",
              "          [0.0000, 0.0000, 0.0000, 0.0000, 0.0000, 0.0000, 0.0000, 0.0000,\n",
              "           0.0000, 0.0000, 0.0000, 0.0000, 0.1373, 0.9451, 0.8824, 0.6275,\n",
              "           0.4235, 0.0039, 0.0000, 0.0000, 0.0000, 0.0000, 0.0000, 0.0000,\n",
              "           0.0000, 0.0000, 0.0000, 0.0000],\n",
              "          [0.0000, 0.0000, 0.0000, 0.0000, 0.0000, 0.0000, 0.0000, 0.0000,\n",
              "           0.0000, 0.0000, 0.0000, 0.0000, 0.0000, 0.3176, 0.9412, 0.9922,\n",
              "           0.9922, 0.4667, 0.0980, 0.0000, 0.0000, 0.0000, 0.0000, 0.0000,\n",
              "           0.0000, 0.0000, 0.0000, 0.0000],\n",
              "          [0.0000, 0.0000, 0.0000, 0.0000, 0.0000, 0.0000, 0.0000, 0.0000,\n",
              "           0.0000, 0.0000, 0.0000, 0.0000, 0.0000, 0.0000, 0.1765, 0.7294,\n",
              "           0.9922, 0.9922, 0.5882, 0.1059, 0.0000, 0.0000, 0.0000, 0.0000,\n",
              "           0.0000, 0.0000, 0.0000, 0.0000],\n",
              "          [0.0000, 0.0000, 0.0000, 0.0000, 0.0000, 0.0000, 0.0000, 0.0000,\n",
              "           0.0000, 0.0000, 0.0000, 0.0000, 0.0000, 0.0000, 0.0000, 0.0627,\n",
              "           0.3647, 0.9882, 0.9922, 0.7333, 0.0000, 0.0000, 0.0000, 0.0000,\n",
              "           0.0000, 0.0000, 0.0000, 0.0000],\n",
              "          [0.0000, 0.0000, 0.0000, 0.0000, 0.0000, 0.0000, 0.0000, 0.0000,\n",
              "           0.0000, 0.0000, 0.0000, 0.0000, 0.0000, 0.0000, 0.0000, 0.0000,\n",
              "           0.0000, 0.9765, 0.9922, 0.9765, 0.2510, 0.0000, 0.0000, 0.0000,\n",
              "           0.0000, 0.0000, 0.0000, 0.0000],\n",
              "          [0.0000, 0.0000, 0.0000, 0.0000, 0.0000, 0.0000, 0.0000, 0.0000,\n",
              "           0.0000, 0.0000, 0.0000, 0.0000, 0.0000, 0.0000, 0.1804, 0.5098,\n",
              "           0.7176, 0.9922, 0.9922, 0.8118, 0.0078, 0.0000, 0.0000, 0.0000,\n",
              "           0.0000, 0.0000, 0.0000, 0.0000],\n",
              "          [0.0000, 0.0000, 0.0000, 0.0000, 0.0000, 0.0000, 0.0000, 0.0000,\n",
              "           0.0000, 0.0000, 0.0000, 0.0000, 0.1529, 0.5804, 0.8980, 0.9922,\n",
              "           0.9922, 0.9922, 0.9804, 0.7137, 0.0000, 0.0000, 0.0000, 0.0000,\n",
              "           0.0000, 0.0000, 0.0000, 0.0000],\n",
              "          [0.0000, 0.0000, 0.0000, 0.0000, 0.0000, 0.0000, 0.0000, 0.0000,\n",
              "           0.0000, 0.0000, 0.0941, 0.4471, 0.8667, 0.9922, 0.9922, 0.9922,\n",
              "           0.9922, 0.7882, 0.3059, 0.0000, 0.0000, 0.0000, 0.0000, 0.0000,\n",
              "           0.0000, 0.0000, 0.0000, 0.0000],\n",
              "          [0.0000, 0.0000, 0.0000, 0.0000, 0.0000, 0.0000, 0.0000, 0.0000,\n",
              "           0.0902, 0.2588, 0.8353, 0.9922, 0.9922, 0.9922, 0.9922, 0.7765,\n",
              "           0.3176, 0.0078, 0.0000, 0.0000, 0.0000, 0.0000, 0.0000, 0.0000,\n",
              "           0.0000, 0.0000, 0.0000, 0.0000],\n",
              "          [0.0000, 0.0000, 0.0000, 0.0000, 0.0000, 0.0000, 0.0706, 0.6706,\n",
              "           0.8588, 0.9922, 0.9922, 0.9922, 0.9922, 0.7647, 0.3137, 0.0353,\n",
              "           0.0000, 0.0000, 0.0000, 0.0000, 0.0000, 0.0000, 0.0000, 0.0000,\n",
              "           0.0000, 0.0000, 0.0000, 0.0000],\n",
              "          [0.0000, 0.0000, 0.0000, 0.0000, 0.2157, 0.6745, 0.8863, 0.9922,\n",
              "           0.9922, 0.9922, 0.9922, 0.9569, 0.5216, 0.0431, 0.0000, 0.0000,\n",
              "           0.0000, 0.0000, 0.0000, 0.0000, 0.0000, 0.0000, 0.0000, 0.0000,\n",
              "           0.0000, 0.0000, 0.0000, 0.0000],\n",
              "          [0.0000, 0.0000, 0.0000, 0.0000, 0.5333, 0.9922, 0.9922, 0.9922,\n",
              "           0.8314, 0.5294, 0.5176, 0.0627, 0.0000, 0.0000, 0.0000, 0.0000,\n",
              "           0.0000, 0.0000, 0.0000, 0.0000, 0.0000, 0.0000, 0.0000, 0.0000,\n",
              "           0.0000, 0.0000, 0.0000, 0.0000],\n",
              "          [0.0000, 0.0000, 0.0000, 0.0000, 0.0000, 0.0000, 0.0000, 0.0000,\n",
              "           0.0000, 0.0000, 0.0000, 0.0000, 0.0000, 0.0000, 0.0000, 0.0000,\n",
              "           0.0000, 0.0000, 0.0000, 0.0000, 0.0000, 0.0000, 0.0000, 0.0000,\n",
              "           0.0000, 0.0000, 0.0000, 0.0000],\n",
              "          [0.0000, 0.0000, 0.0000, 0.0000, 0.0000, 0.0000, 0.0000, 0.0000,\n",
              "           0.0000, 0.0000, 0.0000, 0.0000, 0.0000, 0.0000, 0.0000, 0.0000,\n",
              "           0.0000, 0.0000, 0.0000, 0.0000, 0.0000, 0.0000, 0.0000, 0.0000,\n",
              "           0.0000, 0.0000, 0.0000, 0.0000],\n",
              "          [0.0000, 0.0000, 0.0000, 0.0000, 0.0000, 0.0000, 0.0000, 0.0000,\n",
              "           0.0000, 0.0000, 0.0000, 0.0000, 0.0000, 0.0000, 0.0000, 0.0000,\n",
              "           0.0000, 0.0000, 0.0000, 0.0000, 0.0000, 0.0000, 0.0000, 0.0000,\n",
              "           0.0000, 0.0000, 0.0000, 0.0000]]]), 5)"
            ]
          },
          "execution_count": 9,
          "metadata": {},
          "output_type": "execute_result"
        }
      ],
      "source": [
        "train_data[0]"
      ]
    },
    {
      "cell_type": "code",
      "execution_count": null,
      "metadata": {
        "colab": {
          "base_uri": "https://localhost:8080/"
        },
        "id": "ZZ-Kpm7ZjeAL",
        "outputId": "e6ed94b0-9f5c-4ff4-eb0b-5319657924a7"
      },
      "outputs": [
        {
          "data": {
            "text/plain": [
              "torch.Tensor"
            ]
          },
          "execution_count": 10,
          "metadata": {},
          "output_type": "execute_result"
        }
      ],
      "source": [
        "type(train_data[0][0])"
      ]
    },
    {
      "cell_type": "code",
      "execution_count": null,
      "metadata": {
        "colab": {
          "base_uri": "https://localhost:8080/"
        },
        "id": "wx4n16r5jeAM",
        "outputId": "cece0327-ce6e-434b-acc5-fcfdfd247c32"
      },
      "outputs": [
        {
          "data": {
            "text/plain": [
              "torch.Size([1, 28, 28])"
            ]
          },
          "execution_count": 11,
          "metadata": {},
          "output_type": "execute_result"
        }
      ],
      "source": [
        "train_data[0][0].size()"
      ]
    },
    {
      "cell_type": "markdown",
      "metadata": {
        "id": "tew3UukTjeAN"
      },
      "source": [
        "Calling the first record from <tt>train_data</tt> returns a two-item tuple. The first item is our 28x28 tensor representing the image. The second is a label, in this case the number \"5\"."
      ]
    },
    {
      "cell_type": "code",
      "execution_count": null,
      "metadata": {
        "colab": {
          "base_uri": "https://localhost:8080/"
        },
        "id": "93Va_ur6jeAN",
        "outputId": "f814ac9e-8b0a-4f84-a283-a43625e582bb"
      },
      "outputs": [
        {
          "name": "stdout",
          "output_type": "stream",
          "text": [
            "Shape: torch.Size([1, 28, 28]) \n",
            "Label: 5\n"
          ]
        }
      ],
      "source": [
        "image, label = train_data[0]\n",
        "print('Shape:', image.shape, '\\nLabel:', label)"
      ]
    },
    {
      "cell_type": "markdown",
      "metadata": {
        "id": "dwO_0RLEjeAN"
      },
      "source": [
        "### View the image\n",
        "Matplotlib can interpret pixel values through a variety of <a href='https://matplotlib.org/tutorials/colors/colormaps.html'>colormaps</a>."
      ]
    },
    {
      "cell_type": "code",
      "execution_count": null,
      "metadata": {
        "colab": {
          "base_uri": "https://localhost:8080/",
          "height": 265
        },
        "id": "YKpQt_F5jeAN",
        "outputId": "85f1fd2b-6b2c-494d-9eca-d1d4d4a69ee5"
      },
      "outputs": [
        {
          "data": {
            "image/png": "[encoded data removed]",
            "text/plain": [
              "<Figure size 432x288 with 1 Axes>"
            ]
          },
          "metadata": {
            "needs_background": "light"
          },
          "output_type": "display_data"
        }
      ],
      "source": [
        "plt.imshow(train_data[0][0].reshape((28,28)), cmap=\"gray\");"
      ]
    },
    {
      "cell_type": "code",
      "execution_count": null,
      "metadata": {
        "colab": {
          "base_uri": "https://localhost:8080/",
          "height": 265
        },
        "id": "_7FZErWIjeAO",
        "outputId": "a665d3a3-2f1b-4c6c-e2f4-97573205301b"
      },
      "outputs": [
        {
          "data": {
            "image/png": "[encoded data removed]",
            "text/plain": [
              "<Figure size 432x288 with 1 Axes>"
            ]
          },
          "metadata": {
            "needs_background": "light"
          },
          "output_type": "display_data"
        }
      ],
      "source": [
        "plt.imshow(train_data[0][0].reshape((28,28)), cmap=\"gist_yarg\");"
      ]
    },
    {
      "cell_type": "code",
      "execution_count": null,
      "metadata": {
        "colab": {
          "base_uri": "https://localhost:8080/",
          "height": 265
        },
        "id": "A2Ja9m1yjeAO",
        "outputId": "47746572-3559-4399-9be1-ed1b4294646f"
      },
      "outputs": [
        {
          "data": {
            "image/png": "[encoded data removed]",
            "text/plain": [
              "<Figure size 432x288 with 1 Axes>"
            ]
          },
          "metadata": {
            "needs_background": "light"
          },
          "output_type": "display_data"
        }
      ],
      "source": [
        "plt.imshow(train_data[0][0].reshape((28,28)));"
      ]
    },
    {
      "cell_type": "markdown",
      "metadata": {
        "id": "Sogvel5ejeAP"
      },
      "source": [
        "## Batch loading with DataLoader\n",
        "Our training set contains 60,000 records. If we look ahead to our model we have 784 incoming features, hidden layers of 120 and 84 neurons, and 10 output features. Including the bias terms for each layer, the total number of parameters being trained is:<br>\n",
        "\n",
        "$\\begin{split}\\quad(784\\times120)+120+(120\\times84)+84+(84\\times10)+10 &=\\\\\n",
        "94080+120+10080+84+840+10 &= 105,214\\end{split}$<br>\n",
        "\n",
        "For this reason it makes sense to load training data in batches using <a href='https://pytorch.org/docs/stable/data.html#torch.utils.data.DataLoader'><tt><strong>DataLoader</strong></tt></a>."
      ]
    },
    {
      "cell_type": "code",
      "execution_count": null,
      "metadata": {
        "id": "OLBdEb3UjeAP"
      },
      "outputs": [],
      "source": [
        "torch.manual_seed(101)  # for consistent results\n",
        "\n",
        "train_loader = DataLoader(train_data, batch_size=10, shuffle=True)\n",
        "\n",
        "test_loader = DataLoader(test_data, batch_size=10, shuffle=False)"
      ]
    },
    {
      "cell_type": "markdown",
      "metadata": {
        "id": "l4KTDBn1jeAP"
      },
      "source": [
        "In the cell above, <tt><strong>train_data</strong></tt> is a PyTorch <a href='https://pytorch.org/docs/stable/data.html#torch.utils.data.Dataset'><em>Dataset</em></a> object (an object that supports data loading and sampling).<br>\n",
        "The <tt><strong>batch_size</strong></tt> is the number of records to be processed at a time. If it's not evenly divisible into the dataset, then the final batch contains the remainder.<br>\n",
        "Setting <tt><strong>shuffle</strong></tt> to True means that the dataset will be shuffled after each epoch.\n",
        "\n",
        "<div class=\"alert alert-info\"><strong>NOTE:</strong> DataLoader takes an optional <tt><strong>num_workers</strong></tt> parameter that sets up how many subprocesses to use for data loading. This behaves differently with different operating systems so we've omitted it here. See <a href='https://pytorch.org/docs/stable/data.html#torch.utils.data.DataLoader'>the docs</a> for more information.</div>"
      ]
    },
    {
      "cell_type": "code",
      "execution_count": null,
      "metadata": {
        "colab": {
          "base_uri": "https://localhost:8080/"
        },
        "id": "0VwUdJJcjeAP",
        "outputId": "bf46646b-0f1a-4c9a-ba17-389dee37e1e6"
      },
      "outputs": [
        {
          "data": {
            "text/plain": [
              "torch.utils.data.dataloader.DataLoader"
            ]
          },
          "execution_count": 17,
          "metadata": {},
          "output_type": "execute_result"
        }
      ],
      "source": [
        "type(train_loader)"
      ]
    },
    {
      "cell_type": "code",
      "execution_count": null,
      "metadata": {
        "colab": {
          "base_uri": "https://localhost:8080/"
        },
        "id": "7bdFTx0XjeAQ",
        "outputId": "f92356fe-8409-4688-e0fb-ae4cb42be740"
      },
      "outputs": [
        {
          "data": {
            "text/plain": [
              "6000"
            ]
          },
          "execution_count": 18,
          "metadata": {},
          "output_type": "execute_result"
        }
      ],
      "source": [
        "len(train_loader)"
      ]
    },
    {
      "cell_type": "code",
      "execution_count": null,
      "metadata": {
        "colab": {
          "base_uri": "https://localhost:8080/"
        },
        "id": "irrsrdF_jeAQ",
        "outputId": "aed64311-12f5-4cf7-dfbf-9a3b95c06e50"
      },
      "outputs": [
        {
          "data": {
            "text/plain": [
              "torchvision.datasets.mnist.MNIST"
            ]
          },
          "execution_count": 19,
          "metadata": {},
          "output_type": "execute_result"
        }
      ],
      "source": [
        "type(train_data)"
      ]
    },
    {
      "cell_type": "code",
      "execution_count": null,
      "metadata": {
        "colab": {
          "base_uri": "https://localhost:8080/"
        },
        "id": "4aC6cnYqjeAR",
        "outputId": "ffcc9559-4c7f-43ed-cfe1-e37628c377a1"
      },
      "outputs": [
        {
          "data": {
            "text/plain": [
              "Dataset MNIST\n",
              "    Number of datapoints: 60000\n",
              "    Root location: ../Data\n",
              "    Split: Train\n",
              "    StandardTransform\n",
              "Transform: ToTensor()"
            ]
          },
          "execution_count": 20,
          "metadata": {},
          "output_type": "execute_result"
        }
      ],
      "source": [
        "train_data"
      ]
    },
    {
      "cell_type": "markdown",
      "metadata": {
        "id": "QXmtcEKhjeAR"
      },
      "source": [
        "### View a batch of images\n",
        "Once we've defined a DataLoader, we can create a grid of images using <a href='https://pytorch.org/docs/stable/torchvision/utils.html#torchvision.utils.make_grid'><tt><strong>torchvision.utils.make_grid</strong></tt></a>"
      ]
    },
    {
      "cell_type": "code",
      "execution_count": null,
      "metadata": {
        "colab": {
          "base_uri": "https://localhost:8080/",
          "height": 163
        },
        "id": "BODVAyosjeAR",
        "outputId": "d48295b4-baf1-4202-fe09-cb7e39583360"
      },
      "outputs": [
        {
          "name": "stdout",
          "output_type": "stream",
          "text": [
            "Labels:  [   7    2    3    5    8    5    3    6    9    9]\n"
          ]
        },
        {
          "data": {
            "image/png": "[encoded data removed]",
            "text/plain": [
              "<Figure size 1152x576 with 1 Axes>"
            ]
          },
          "metadata": {
            "needs_background": "light"
          },
          "output_type": "display_data"
        }
      ],
      "source": [
        "from torchvision.utils import make_grid\n",
        "np.set_printoptions(formatter=dict(int=lambda x: f'{x:4}')) # to widen the printed array\n",
        "\n",
        "# Grab the first batch of images\n",
        "for images,labels in train_loader: \n",
        "    break\n",
        "\n",
        "# Print the first 12 labels\n",
        "print('Labels: ', labels[:12].numpy())\n",
        "\n",
        "# Print the first 12 images\n",
        "im = make_grid(images[:12], nrow=12)  # the default nrow is 8\n",
        "plt.figure(figsize=(16,8))\n",
        "# We need to transpose the images from CWH to WHC\n",
        "# C - color chanel\n",
        "# W - width\n",
        "# H - height\n",
        "plt.imshow(np.transpose(im.numpy(), (1, 2, 0)));"
      ]
    },
    {
      "cell_type": "code",
      "execution_count": null,
      "metadata": {
        "colab": {
          "base_uri": "https://localhost:8080/"
        },
        "id": "cvg9G8bJjeAS",
        "outputId": "a11c8ea5-b0eb-42d0-da8b-9ab1ce867419"
      },
      "outputs": [
        {
          "data": {
            "text/plain": [
              "tensor([7, 2, 3, 5, 8, 5, 3, 6, 9, 9])"
            ]
          },
          "execution_count": 22,
          "metadata": {},
          "output_type": "execute_result"
        }
      ],
      "source": [
        "labels"
      ]
    },
    {
      "cell_type": "code",
      "execution_count": null,
      "metadata": {
        "colab": {
          "base_uri": "https://localhost:8080/"
        },
        "id": "bvW5vLqojeAS",
        "outputId": "f4fa6bdc-4511-468e-ea9e-62a5df0d1039"
      },
      "outputs": [
        {
          "data": {
            "text/plain": [
              "torch.Tensor"
            ]
          },
          "execution_count": 23,
          "metadata": {},
          "output_type": "execute_result"
        }
      ],
      "source": [
        "type(images)"
      ]
    },
    {
      "cell_type": "markdown",
      "metadata": {
        "id": "MN65UfD0jGJz"
      },
      "source": [
        "## Define a convolutional model\n",
        "In the previous section we used only fully connected layers, with an input layer of 784 (our flattened 28x28 images), hidden layers of 120 and 84 neurons, and an output size representing 10 possible digits.\n",
        "\n",
        "This time we'll employ two convolutional layers and two pooling layers before feeding data through fully connected hidden layers to our output. The model follows CONV/RELU/POOL/CONV/RELU/POOL/FC/RELU/FC."
      ]
    },
    {
      "cell_type": "markdown",
      "metadata": {
        "id": "q85j60ubjGJ0"
      },
      "source": [
        "<div class=\"alert alert-info\"><strong>Let's walk through the steps we're about to take.</strong><br>\n",
        "\n",
        "1. Extend the base Module class:\n",
        "   \n",
        "<tt><font color=black>class ConvolutionalNetwork(nn.Module):<br>\n",
        "&nbsp;&nbsp;&nbsp;&nbsp;def \\_\\_init\\_\\_(self):<br>\n",
        "&nbsp;&nbsp;&nbsp;&nbsp;&nbsp;&nbsp;&nbsp;&nbsp;super().\\_\\_init\\_\\_()</font></tt><br>\n",
        "\n",
        "2. Set up the convolutional layers with <a href='https://pytorch.org/docs/stable/nn.html#conv2d'><tt><strong>torch.nn.Conv2d()</strong></tt></a><br><br>The first layer has one input channel (the grayscale color channel). We'll assign 6 output channels for feature extraction. We'll set our kernel size to 3 to make a 3x3 filter, and set the step size to 1.<br>\n",
        "![image.png](data:image/png;base64,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)\n",
        "<tt><font color=black>&nbsp;&nbsp;&nbsp;&nbsp;self.conv1 = nn.Conv2d(1, 6, 3, 1)</font></tt><br>\n",
        "The second layer will take our 6 input channels and deliver 16 output channels.<br>\n",
        "<tt><font color=black>&nbsp;&nbsp;&nbsp;&nbsp;self.conv2 = nn.Conv2d(6, 16, 3, 1)</font></tt><br><br>\n",
        "\n",
        "3. Set up the fully connected layers with <a href='https://pytorch.org/docs/stable/nn.html#linear'><tt><strong>torch.nn.Linear()</strong></tt></a>.<br><br>The input size of (5x5x16) is determined by the effect of our kernels on the input image size. A 3x3 filter applied to a 28x28 image leaves a 1-pixel edge on all four sides. In one layer the size changes from 28x28 to 26x26. We could address this with zero-padding, but since an MNIST image is mostly black at the edges, we should be safe ignoring these pixels. We'll apply the kernel twice, and apply pooling layers twice, so our resulting output will be \n",
        "$\\;(((28-2)/2)-2)/2 = 5.5\\;$ which rounds down to 5 pixels per side.<br>\n",
        "<tt><font color=black>&nbsp;&nbsp;&nbsp;&nbsp;self.fc1 = nn.Linear(5\\*5\\*16, 120)</font></tt><br>\n",
        "<tt><font color=black>&nbsp;&nbsp;&nbsp;&nbsp;self.fc2 = nn.Linear(120, 84)</font></tt><br>\n",
        "<tt><font color=black>&nbsp;&nbsp;&nbsp;&nbsp;self.fc3 = nn.Linear(84, 10)</font></tt><br>\n",
        "See below for a more detailed look at this step.<br><br>\n",
        "\n",
        "4. Define the forward method.<br><br>Activations can be applied to the convolutions in one line using <a href='https://pytorch.org/docs/stable/nn.html#id27'><tt><strong>F.relu()</strong></tt></a> and pooling is done using <a href='https://pytorch.org/docs/stable/nn.html#maxpool2d'><tt><strong>F.max_pool2d()</strong></tt></a><br>\n",
        "<tt><font color=black>def forward(self, X):<br>\n",
        "&nbsp;&nbsp;&nbsp;&nbsp;X = F.relu(self.conv1(X))<br>\n",
        "&nbsp;&nbsp;&nbsp;&nbsp;X = F.max_pool2d(X, 2, 2)<br>\n",
        "&nbsp;&nbsp;&nbsp;&nbsp;X = F.relu(self.conv2(X))<br>\n",
        "&nbsp;&nbsp;&nbsp;&nbsp;X = F.max_pool2d(X, 2, 2)<br>\n",
        "</font></tt>Flatten the data for the fully connected layers:<br><tt><font color=black>\n",
        "&nbsp;&nbsp;&nbsp;&nbsp;X = X.view(-1, 5\\*5\\*16)<br>\n",
        "&nbsp;&nbsp;&nbsp;&nbsp;X = F.relu(self.fc1(X))<br>\n",
        "&nbsp;&nbsp;&nbsp;&nbsp;X = self.fc2(X)<br>\n",
        "&nbsp;&nbsp;&nbsp;&nbsp;return F.log_softmax(X, dim=1)</font></tt>\n",
        "</div>"
      ]
    },
    {
      "cell_type": "markdown",
      "metadata": {
        "id": "f1ilXOt9jGJ1"
      },
      "source": [
        "<div class=\"alert alert-danger\"><strong>Breaking down the convolutional layers</strong> (this code is for illustration purposes only.)</div>"
      ]
    },
    {
      "cell_type": "code",
      "execution_count": null,
      "metadata": {
        "id": "pAa2i6SXjGJ1"
      },
      "outputs": [],
      "source": [
        "# Define layers\n",
        "conv1 = nn.Conv2d(1, 6, 3, 1)\n",
        "conv2 = nn.Conv2d(6, 16, 3, 1)"
      ]
    },
    {
      "cell_type": "code",
      "execution_count": null,
      "metadata": {
        "colab": {
          "base_uri": "https://localhost:8080/"
        },
        "id": "_CA7T6YUjGJ1",
        "outputId": "7512d6fc-f9ce-4bc8-ac4e-692965303a4e"
      },
      "outputs": [
        {
          "data": {
            "text/plain": [
              "torch.Size([1, 28, 28])"
            ]
          },
          "execution_count": 44,
          "metadata": {},
          "output_type": "execute_result"
        }
      ],
      "source": [
        "# Grab the first MNIST record\n",
        "for i, (X_train, y_train) in enumerate(train_data):\n",
        "    break\n",
        "    \n",
        "X_train.shape    "
      ]
    },
    {
      "cell_type": "code",
      "execution_count": null,
      "metadata": {
        "colab": {
          "base_uri": "https://localhost:8080/"
        },
        "id": "PCL2x_mbjGJ2",
        "outputId": "e47e11ab-049c-4188-d97e-d23ee326b6f1"
      },
      "outputs": [
        {
          "name": "stdout",
          "output_type": "stream",
          "text": [
            "torch.Size([1, 1, 28, 28])\n"
          ]
        }
      ],
      "source": [
        "# Create a rank-4 tensor to be passed into the model\n",
        "# (train_loader will have done this already)\n",
        "x = X_train.view(1,1,28,28)\n",
        "print(x.shape)"
      ]
    },
    {
      "cell_type": "code",
      "execution_count": null,
      "metadata": {
        "colab": {
          "base_uri": "https://localhost:8080/"
        },
        "id": "MrDsNaVKyKHW",
        "outputId": "9928e1a3-8262-423b-c3aa-eb88ca2d57d4"
      },
      "outputs": [
        {
          "name": "stdout",
          "output_type": "stream",
          "text": [
            "torch.Size([1, 6, 26, 26])\n"
          ]
        }
      ],
      "source": [
        "# Perform the first convolution/activation\n",
        "out_conv1 = (conv1(x))\n",
        "print(out_conv1.shape)"
      ]
    },
    {
      "cell_type": "code",
      "execution_count": null,
      "metadata": {
        "colab": {
          "base_uri": "https://localhost:8080/"
        },
        "id": "SugWP8Kryqw6",
        "outputId": "0e33a270-5433-483f-fad5-d93bb932ab30"
      },
      "outputs": [
        {
          "data": {
            "text/plain": [
              "(26, 26)"
            ]
          },
          "execution_count": 47,
          "metadata": {},
          "output_type": "execute_result"
        }
      ],
      "source": [
        "out_conv1[0][0].detach().numpy().shape"
      ]
    },
    {
      "cell_type": "code",
      "execution_count": null,
      "metadata": {
        "colab": {
          "base_uri": "https://localhost:8080/",
          "height": 1000
        },
        "id": "XosUW4LzyVCA",
        "outputId": "2ea0c73d-971c-4c13-e340-23fea2045872"
      },
      "outputs": [
        {
          "data": {
            "image/png": "[encoded data removed]",
            "text/plain": [
              "<Figure size 360x360 with 1 Axes>"
            ]
          },
          "metadata": {
            "needs_background": "light"
          },
          "output_type": "display_data"
        },
        {
          "data": {
            "image/png": "[encoded data removed]",
            "text/plain": [
              "<Figure size 360x360 with 1 Axes>"
            ]
          },
          "metadata": {
            "needs_background": "light"
          },
          "output_type": "display_data"
        },
        {
          "data": {
            "image/png": "[encoded data removed]",
            "text/plain": [
              "<Figure size 360x360 with 1 Axes>"
            ]
          },
          "metadata": {
            "needs_background": "light"
          },
          "output_type": "display_data"
        },
        {
          "data": {
            "image/png": "[encoded data removed]",
            "text/plain": [
              "<Figure size 360x360 with 1 Axes>"
            ]
          },
          "metadata": {
            "needs_background": "light"
          },
          "output_type": "display_data"
        },
        {
          "data": {
            "image/png": "[encoded data removed]",
            "text/plain": [
              "<Figure size 360x360 with 1 Axes>"
            ]
          },
          "metadata": {
            "needs_background": "light"
          },
          "output_type": "display_data"
        },
        {
          "data": {
            "image/png": "[encoded data removed]",
            "text/plain": [
              "<Figure size 360x360 with 1 Axes>"
            ]
          },
          "metadata": {
            "needs_background": "light"
          },
          "output_type": "display_data"
        }
      ],
      "source": [
        "for i in range(0,6):\n",
        "    plt.figure(figsize=(5,5))\n",
        "    plt.title(f'feature map channel {i+1}')\n",
        "    plt.imshow(out_conv1[0][i].detach().numpy(), cmap=\"gray\");"
      ]
    },
    {
      "cell_type": "code",
      "execution_count": null,
      "metadata": {
        "colab": {
          "base_uri": "https://localhost:8080/"
        },
        "id": "swsAYB53jGJ2",
        "outputId": "2931c575-75cb-41be-b6b8-cd7d9ed4ca5a"
      },
      "outputs": [
        {
          "name": "stdout",
          "output_type": "stream",
          "text": [
            "torch.Size([1, 6, 26, 26])\n"
          ]
        }
      ],
      "source": [
        "# Perform the first convolution/activation\n",
        "x = F.relu(conv1(x))\n",
        "print(x.shape)"
      ]
    },
    {
      "cell_type": "code",
      "execution_count": null,
      "metadata": {
        "colab": {
          "base_uri": "https://localhost:8080/"
        },
        "id": "-DJTmDKdjGJ2",
        "outputId": "cac7e877-92ef-4c81-b9e9-865d2b30fef0"
      },
      "outputs": [
        {
          "name": "stdout",
          "output_type": "stream",
          "text": [
            "torch.Size([1, 6, 13, 13])\n"
          ]
        }
      ],
      "source": [
        "# Run the first pooling layer\n",
        "x = F.max_pool2d(x, 2, 2)\n",
        "print(x.shape)"
      ]
    },
    {
      "cell_type": "code",
      "execution_count": null,
      "metadata": {
        "colab": {
          "base_uri": "https://localhost:8080/",
          "height": 1000
        },
        "id": "iNTRIyITzqHP",
        "outputId": "7dd1a0e9-ab93-4de6-8314-00c895b85adb"
      },
      "outputs": [
        {
          "data": {
            "image/png": "[encoded data removed]",
            "text/plain": [
              "<Figure size 360x360 with 1 Axes>"
            ]
          },
          "metadata": {
            "needs_background": "light"
          },
          "output_type": "display_data"
        },
        {
          "data": {
            "image/png": "[encoded data removed]",
            "text/plain": [
              "<Figure size 360x360 with 1 Axes>"
            ]
          },
          "metadata": {
            "needs_background": "light"
          },
          "output_type": "display_data"
        },
        {
          "data": {
            "image/png": "[encoded data removed]",
            "text/plain": [
              "<Figure size 360x360 with 1 Axes>"
            ]
          },
          "metadata": {
            "needs_background": "light"
          },
          "output_type": "display_data"
        },
        {
          "data": {
            "image/png": "[encoded data removed]",
            "text/plain": [
              "<Figure size 360x360 with 1 Axes>"
            ]
          },
          "metadata": {
            "needs_background": "light"
          },
          "output_type": "display_data"
        },
        {
          "data": {
            "image/png": "[encoded data removed]",
            "text/plain": [
              "<Figure size 360x360 with 1 Axes>"
            ]
          },
          "metadata": {
            "needs_background": "light"
          },
          "output_type": "display_data"
        },
        {
          "data": {
            "image/png": "[encoded data removed]",
            "text/plain": [
              "<Figure size 360x360 with 1 Axes>"
            ]
          },
          "metadata": {
            "needs_background": "light"
          },
          "output_type": "display_data"
        }
      ],
      "source": [
        "for i in range(0,6):\n",
        "    plt.figure(figsize=(5,5))\n",
        "    plt.title(f'feature map channel {i+1}')\n",
        "    plt.imshow(x[0][i].detach().numpy(), cmap=\"gray\");"
      ]
    },
    {
      "cell_type": "code",
      "execution_count": null,
      "metadata": {
        "colab": {
          "base_uri": "https://localhost:8080/"
        },
        "id": "LSMVHnUQjGJ4",
        "outputId": "df9f207e-214d-4c2d-8162-28476990fb68"
      },
      "outputs": [
        {
          "name": "stdout",
          "output_type": "stream",
          "text": [
            "torch.Size([1, 16, 11, 11])\n"
          ]
        }
      ],
      "source": [
        "# Perform the second convolution/activation\n",
        "x = F.relu(conv2(x))\n",
        "print(x.shape)"
      ]
    },
    {
      "cell_type": "code",
      "execution_count": null,
      "metadata": {
        "colab": {
          "base_uri": "https://localhost:8080/",
          "height": 1000
        },
        "id": "FDjaVVaDz_0X",
        "outputId": "92b3b987-45ef-4661-bfaf-df53d3a13e0a"
      },
      "outputs": [
        {
          "data": {
            "image/png": "[encoded data removed]",
            "text/plain": [
              "<Figure size 360x360 with 1 Axes>"
            ]
          },
          "metadata": {
            "needs_background": "light"
          },
          "output_type": "display_data"
        },
        {
          "data": {
            "image/png": "[encoded data removed]",
            "text/plain": [
              "<Figure size 360x360 with 1 Axes>"
            ]
          },
          "metadata": {
            "needs_background": "light"
          },
          "output_type": "display_data"
        },
        {
          "data": {
            "image/png": "[encoded data removed]",
            "text/plain": [
              "<Figure size 360x360 with 1 Axes>"
            ]
          },
          "metadata": {
            "needs_background": "light"
          },
          "output_type": "display_data"
        },
        {
          "data": {
            "image/png": "[encoded data removed]",
            "text/plain": [
              "<Figure size 360x360 with 1 Axes>"
            ]
          },
          "metadata": {
            "needs_background": "light"
          },
          "output_type": "display_data"
        },
        {
          "data": {
            "image/png": "[encoded data removed]",
            "text/plain": [
              "<Figure size 360x360 with 1 Axes>"
            ]
          },
          "metadata": {
            "needs_background": "light"
          },
          "output_type": "display_data"
        },
        {
          "data": {
            "image/png": "[encoded data removed]",
            "text/plain": [
              "<Figure size 360x360 with 1 Axes>"
            ]
          },
          "metadata": {
            "needs_background": "light"
          },
          "output_type": "display_data"
        },
        {
          "data": {
            "image/png": "[encoded data removed]",
            "text/plain": [
              "<Figure size 360x360 with 1 Axes>"
            ]
          },
          "metadata": {
            "needs_background": "light"
          },
          "output_type": "display_data"
        },
        {
          "data": {
            "image/png": "[encoded data removed]",
            "text/plain": [
              "<Figure size 360x360 with 1 Axes>"
            ]
          },
          "metadata": {
            "needs_background": "light"
          },
          "output_type": "display_data"
        },
        {
          "data": {
            "image/png": "[encoded data removed]",
            "text/plain": [
              "<Figure size 360x360 with 1 Axes>"
            ]
          },
          "metadata": {
            "needs_background": "light"
          },
          "output_type": "display_data"
        },
        {
          "data": {
            "image/png": "[encoded data removed]",
            "text/plain": [
              "<Figure size 360x360 with 1 Axes>"
            ]
          },
          "metadata": {
            "needs_background": "light"
          },
          "output_type": "display_data"
        },
        {
          "data": {
            "image/png": "[encoded data removed]",
            "text/plain": [
              "<Figure size 360x360 with 1 Axes>"
            ]
          },
          "metadata": {
            "needs_background": "light"
          },
          "output_type": "display_data"
        },
        {
          "data": {
            "image/png": "[encoded data removed]",
            "text/plain": [
              "<Figure size 360x360 with 1 Axes>"
            ]
          },
          "metadata": {
            "needs_background": "light"
          },
          "output_type": "display_data"
        },
        {
          "data": {
            "image/png": "[encoded data removed]",
            "text/plain": [
              "<Figure size 360x360 with 1 Axes>"
            ]
          },
          "metadata": {
            "needs_background": "light"
          },
          "output_type": "display_data"
        },
        {
          "data": {
            "image/png": "[encoded data removed]",
            "text/plain": [
              "<Figure size 360x360 with 1 Axes>"
            ]
          },
          "metadata": {
            "needs_background": "light"
          },
          "output_type": "display_data"
        },
        {
          "data": {
            "image/png": "[encoded data removed]",
            "text/plain": [
              "<Figure size 360x360 with 1 Axes>"
            ]
          },
          "metadata": {
            "needs_background": "light"
          },
          "output_type": "display_data"
        },
        {
          "data": {
            "image/png": "[encoded data removed]",
            "text/plain": [
              "<Figure size 360x360 with 1 Axes>"
            ]
          },
          "metadata": {
            "needs_background": "light"
          },
          "output_type": "display_data"
        }
      ],
      "source": [
        "for i in range(16):\n",
        "    plt.figure(figsize=(5,5))\n",
        "    plt.title(f'feature map channel {i+1}')\n",
        "    plt.imshow(x[0][i].detach().numpy(), cmap=\"gray\");"
      ]
    },
    {
      "cell_type": "code",
      "execution_count": null,
      "metadata": {
        "colab": {
          "base_uri": "https://localhost:8080/"
        },
        "id": "16G6Km5ejGJ4",
        "outputId": "3be6e1bb-6508-4100-d7d7-58874ce0e36d"
      },
      "outputs": [
        {
          "name": "stdout",
          "output_type": "stream",
          "text": [
            "torch.Size([1, 16, 5, 5])\n"
          ]
        }
      ],
      "source": [
        "# Run the second pooling layer\n",
        "x = F.max_pool2d(x, 2, 2)\n",
        "print(x.shape)"
      ]
    },
    {
      "cell_type": "code",
      "execution_count": null,
      "metadata": {
        "colab": {
          "base_uri": "https://localhost:8080/"
        },
        "id": "osxC5wkGjGJ4",
        "outputId": "04d0c09e-bb80-48ae-d89a-db028117bf27"
      },
      "outputs": [
        {
          "name": "stdout",
          "output_type": "stream",
          "text": [
            "torch.Size([1, 400])\n"
          ]
        }
      ],
      "source": [
        "# Flatten the data\n",
        "x = x.view(-1, 5*5*16)\n",
        "print(x.shape)"
      ]
    },
    {
      "cell_type": "markdown",
      "metadata": {
        "id": "fb1oItMNjGJ5"
      },
      "source": [
        "<div class=\"alert alert-danger\"><strong>This is how the convolution output is passed into the fully connected layers.</strong></div>\n",
        "\n",
        "Now let's run the code."
      ]
    },
    {
      "cell_type": "code",
      "execution_count": null,
      "metadata": {
        "id": "07b_xCCojGJ5"
      },
      "outputs": [],
      "source": [
        "class ConvolutionalNetwork(nn.Module):\n",
        "    def __init__(self):\n",
        "        super().__init__()\n",
        "        self.conv1 = nn.Conv2d(1, 6, 3, 1)\n",
        "        self.conv2 = nn.Conv2d(6, 16, 3, 1)\n",
        "        self.fc1 = nn.Linear(5*5*16, 120)\n",
        "        self.fc2 = nn.Linear(120, 84)\n",
        "        self.fc3 = nn.Linear(84,10)\n",
        "\n",
        "    def forward(self, X):\n",
        "        X = F.relu(self.conv1(X))\n",
        "        X = F.max_pool2d(X, 2, 2)\n",
        "        X = F.relu(self.conv2(X))\n",
        "        X = F.max_pool2d(X, 2, 2)\n",
        "        X = X.view(-1, 5*5*16)\n",
        "        X = F.relu(self.fc1(X))\n",
        "        X = F.relu(self.fc2(X))\n",
        "        X = self.fc3(X)\n",
        "        return F.log_softmax(X, dim=1)"
      ]
    },
    {
      "cell_type": "code",
      "execution_count": null,
      "metadata": {
        "colab": {
          "base_uri": "https://localhost:8080/"
        },
        "id": "e3ZAafzjjGJ5",
        "outputId": "8a30f509-842b-49e1-b2d9-34de443c4c23"
      },
      "outputs": [
        {
          "data": {
            "text/plain": [
              "ConvolutionalNetwork(\n",
              "  (conv1): Conv2d(1, 6, kernel_size=(3, 3), stride=(1, 1))\n",
              "  (conv2): Conv2d(6, 16, kernel_size=(3, 3), stride=(1, 1))\n",
              "  (fc1): Linear(in_features=400, out_features=120, bias=True)\n",
              "  (fc2): Linear(in_features=120, out_features=84, bias=True)\n",
              "  (fc3): Linear(in_features=84, out_features=10, bias=True)\n",
              ")"
            ]
          },
          "execution_count": 57,
          "metadata": {},
          "output_type": "execute_result"
        }
      ],
      "source": [
        "torch.manual_seed(42)\n",
        "model = ConvolutionalNetwork()\n",
        "model"
      ]
    },
    {
      "cell_type": "markdown",
      "metadata": {
        "id": "N7xqRdq5jGJ5"
      },
      "source": [
        "Including the bias terms for each layer, the total number of parameters being trained is:<br>\n",
        "\n",
        "$\\quad\\begin{split}(1\\times6\\times3\\times3)+6+(6\\times16\\times3\\times3)+16+(400\\times120)+120+(120\\times84)+84+(84\\times10)+10 &=\\\\\n",
        "54+6+864+16+48000+120+10080+84+840+10 &= 60,074\\end{split}$<br>"
      ]
    },
    {
      "cell_type": "code",
      "execution_count": null,
      "metadata": {
        "colab": {
          "base_uri": "https://localhost:8080/"
        },
        "id": "rXATxNMa1BQW",
        "outputId": "2246887d-b37f-4cfb-ce90-eb47ef65f282"
      },
      "outputs": [
        {
          "name": "stdout",
          "output_type": "stream",
          "text": [
            "Parameter containing:\n",
            "tensor([[[[ 0.2548,  0.2767, -0.0781],\n",
            "          [ 0.3062, -0.0730,  0.0673],\n",
            "          [-0.1623,  0.1958,  0.2938]]],\n",
            "\n",
            "\n",
            "        [[[-0.2445,  0.2897,  0.0624],\n",
            "          [ 0.2463,  0.0451,  0.1607],\n",
            "          [-0.0471,  0.2570,  0.0493]]],\n",
            "\n",
            "\n",
            "        [[[-0.1556,  0.0850, -0.1536],\n",
            "          [-0.0391, -0.1354,  0.2211],\n",
            "          [-0.2631, -0.1537, -0.0941]]],\n",
            "\n",
            "\n",
            "        [[[-0.2004,  0.0315, -0.3292],\n",
            "          [ 0.3010, -0.2832,  0.2573],\n",
            "          [ 0.0555, -0.1082,  0.2060]]],\n",
            "\n",
            "\n",
            "        [[[ 0.0520,  0.2693,  0.0364],\n",
            "          [-0.1051,  0.0896, -0.0904],\n",
            "          [ 0.1403,  0.2976,  0.1927]]],\n",
            "\n",
            "\n",
            "        [[[-0.1457,  0.1924,  0.0596],\n",
            "          [ 0.1693, -0.2032, -0.3300],\n",
            "          [-0.1288, -0.2557,  0.2735]]]], requires_grad=True)\n",
            "Parameter containing:\n",
            "tensor([ 0.0960,  0.1381,  0.1054, -0.0058,  0.2609, -0.2368],\n",
            "       requires_grad=True)\n",
            "Parameter containing:\n",
            "tensor([[[[ 0.0086, -0.0929,  0.0420],\n",
            "          [-0.0469,  0.0417, -0.0284],\n",
            "          [ 0.1129, -0.0807, -0.0812]],\n",
            "\n",
            "         [[-0.0812,  0.1224,  0.0453],\n",
            "          [ 0.1309, -0.1123, -0.1350],\n",
            "          [-0.1065, -0.0915,  0.0551]],\n",
            "\n",
            "         [[ 0.0487,  0.1131, -0.0703],\n",
            "          [-0.0928,  0.0722, -0.0550],\n",
            "          [ 0.0826, -0.0323,  0.0778]],\n",
            "\n",
            "         [[-0.1057, -0.0687,  0.0415],\n",
            "          [ 0.0288, -0.0347,  0.0811],\n",
            "          [ 0.0925, -0.0987, -0.0727]],\n",
            "\n",
            "         [[ 0.1246, -0.0459, -0.0482],\n",
            "          [-0.1317, -0.0779,  0.0340],\n",
            "          [-0.0180, -0.0988,  0.0032]],\n",
            "\n",
            "         [[-0.0930, -0.1155, -0.0749],\n",
            "          [-0.1191, -0.0866,  0.1360],\n",
            "          [ 0.0257,  0.0419, -0.1269]]],\n",
            "\n",
            "\n",
            "        [[[-0.0894, -0.0453,  0.0213],\n",
            "          [-0.1197, -0.0586, -0.0815],\n",
            "          [ 0.0004, -0.0506, -0.0094]],\n",
            "\n",
            "         [[-0.0922, -0.0934, -0.0794],\n",
            "          [-0.0466, -0.1074,  0.1141],\n",
            "          [-0.0270,  0.1171,  0.0424]],\n",
            "\n",
            "         [[-0.1152,  0.0942, -0.0374],\n",
            "          [-0.0522, -0.1130, -0.1353],\n",
            "          [ 0.0389, -0.0297,  0.0530]],\n",
            "\n",
            "         [[-0.1117,  0.1010, -0.0999],\n",
            "          [-0.0235,  0.0284,  0.0703],\n",
            "          [ 0.1099,  0.1240, -0.1079]],\n",
            "\n",
            "         [[ 0.0342, -0.0585, -0.0149],\n",
            "          [-0.1019,  0.1240, -0.0999],\n",
            "          [ 0.0727,  0.0478,  0.0442]],\n",
            "\n",
            "         [[-0.0736,  0.1237,  0.0299],\n",
            "          [ 0.0175, -0.1199,  0.0571],\n",
            "          [-0.0204, -0.0623,  0.1169]]],\n",
            "\n",
            "\n",
            "        [[[ 0.0303, -0.0753, -0.0689],\n",
            "          [-0.0065,  0.0760, -0.0348],\n",
            "          [-0.0776, -0.0466, -0.1017]],\n",
            "\n",
            "         [[ 0.0485,  0.1053, -0.1281],\n",
            "          [ 0.0316,  0.0703,  0.0247],\n",
            "          [-0.0485,  0.0710,  0.0715]],\n",
            "\n",
            "         [[ 0.0509, -0.0239, -0.0360],\n",
            "          [ 0.0146, -0.0240, -0.0406],\n",
            "          [ 0.0870,  0.1169, -0.0135]],\n",
            "\n",
            "         [[-0.0305,  0.0020, -0.0081],\n",
            "          [ 0.0327,  0.0381, -0.1236],\n",
            "          [-0.0502,  0.1146,  0.0530]],\n",
            "\n",
            "         [[-0.0068, -0.0820, -0.0833],\n",
            "          [-0.1219, -0.0444,  0.0460],\n",
            "          [ 0.0868,  0.0628, -0.1203]],\n",
            "\n",
            "         [[-0.0818, -0.0215,  0.1316],\n",
            "          [ 0.0197, -0.0352,  0.0563],\n",
            "          [-0.0518, -0.0881,  0.0993]]],\n",
            "\n",
            "\n",
            "        [[[-0.0619, -0.0273, -0.1354],\n",
            "          [ 0.0911,  0.1031,  0.0496],\n",
            "          [-0.0949, -0.1343, -0.1105]],\n",
            "\n",
            "         [[ 0.1015,  0.0653,  0.1145],\n",
            "          [ 0.0713,  0.0344, -0.0013],\n",
            "          [-0.1035, -0.1166, -0.1273]],\n",
            "\n",
            "         [[ 0.0557, -0.0668, -0.0274],\n",
            "          [-0.0783, -0.0248, -0.0958],\n",
            "          [-0.0889,  0.0451, -0.0404]],\n",
            "\n",
            "         [[ 0.0840, -0.0437, -0.0998],\n",
            "          [-0.0240, -0.0660, -0.0416],\n",
            "          [-0.1296,  0.0761, -0.0947]],\n",
            "\n",
            "         [[ 0.0684,  0.0618,  0.0972],\n",
            "          [-0.1044,  0.0979, -0.0643],\n",
            "          [ 0.0505,  0.1278, -0.0192]],\n",
            "\n",
            "         [[-0.0011, -0.0313, -0.1136],\n",
            "          [ 0.0653, -0.1351,  0.0845],\n",
            "          [ 0.1018,  0.1287, -0.0321]]],\n",
            "\n",
            "\n",
            "        [[[-0.1118,  0.0306,  0.0752],\n",
            "          [-0.1354, -0.0309, -0.0816],\n",
            "          [-0.0119, -0.0670, -0.0556]],\n",
            "\n",
            "         [[-0.0432, -0.1293,  0.1117],\n",
            "          [ 0.1141, -0.0213, -0.0155],\n",
            "          [-0.0555, -0.1229, -0.1324]],\n",
            "\n",
            "         [[ 0.0506, -0.0747, -0.0875],\n",
            "          [-0.0106, -0.0453, -0.0440],\n",
            "          [ 0.0044, -0.0289, -0.0469]],\n",
            "\n",
            "         [[-0.0652, -0.1107,  0.1141],\n",
            "          [-0.0545,  0.0361, -0.0472],\n",
            "          [ 0.0111,  0.1269,  0.0627]],\n",
            "\n",
            "         [[-0.1179,  0.0540,  0.1292],\n",
            "          [ 0.0358,  0.0912,  0.1342],\n",
            "          [-0.0209,  0.0282, -0.0946]],\n",
            "\n",
            "         [[-0.0280,  0.1008,  0.0698],\n",
            "          [-0.0861, -0.1091, -0.0930],\n",
            "          [-0.1343, -0.1050, -0.0337]]],\n",
            "\n",
            "\n",
            "        [[[ 0.0918,  0.0228, -0.1035],\n",
            "          [-0.1092,  0.0677, -0.1012],\n",
            "          [-0.0168,  0.0653, -0.0630]],\n",
            "\n",
            "         [[-0.0148, -0.0118, -0.0322],\n",
            "          [-0.0690, -0.1213, -0.1100],\n",
            "          [-0.0729,  0.1314, -0.0657]],\n",
            "\n",
            "         [[-0.0914,  0.0330,  0.0375],\n",
            "          [ 0.0746,  0.1034,  0.0758],\n",
            "          [-0.1349,  0.0121,  0.0824]],\n",
            "\n",
            "         [[-0.0126, -0.0802,  0.1297],\n",
            "          [-0.0509, -0.0775, -0.1227],\n",
            "          [ 0.0061,  0.0603,  0.0301]],\n",
            "\n",
            "         [[ 0.0269, -0.1032, -0.1271],\n",
            "          [ 0.0024,  0.1241,  0.0785],\n",
            "          [-0.0792, -0.0177, -0.1003]],\n",
            "\n",
            "         [[-0.0656,  0.0246,  0.0741],\n",
            "          [ 0.1127, -0.1249,  0.0910],\n",
            "          [-0.0960,  0.0510,  0.1152]]],\n",
            "\n",
            "\n",
            "        [[[ 0.0019,  0.1238, -0.1159],\n",
            "          [-0.0520,  0.0794, -0.0296],\n",
            "          [-0.0279, -0.0567,  0.0938]],\n",
            "\n",
            "         [[ 0.0667,  0.0436, -0.0765],\n",
            "          [-0.1105,  0.0147,  0.0403],\n",
            "          [-0.0628, -0.0381,  0.0919]],\n",
            "\n",
            "         [[ 0.0108,  0.0061, -0.0335],\n",
            "          [-0.1232, -0.1280, -0.0650],\n",
            "          [-0.0692,  0.0424, -0.0396]],\n",
            "\n",
            "         [[-0.0532,  0.1297,  0.0474],\n",
            "          [ 0.0970, -0.0659, -0.0556],\n",
            "          [ 0.0500, -0.0907, -0.0890]],\n",
            "\n",
            "         [[-0.0066, -0.0498, -0.1020],\n",
            "          [ 0.0807,  0.1094,  0.0221],\n",
            "          [-0.0237, -0.1260, -0.0496]],\n",
            "\n",
            "         [[ 0.0346,  0.0642, -0.0172],\n",
            "          [-0.0538,  0.0758, -0.1084],\n",
            "          [ 0.0860, -0.0528,  0.0021]]],\n",
            "\n",
            "\n",
            "        [[[-0.0269,  0.0165, -0.0411],\n",
            "          [ 0.0989, -0.0035,  0.1062],\n",
            "          [ 0.1308, -0.0663, -0.0993]],\n",
            "\n",
            "         [[ 0.1092,  0.1066, -0.1039],\n",
            "          [-0.0105, -0.1342, -0.1114],\n",
            "          [ 0.0263,  0.0362,  0.0288]],\n",
            "\n",
            "         [[-0.0370,  0.1255,  0.0195],\n",
            "          [-0.0803, -0.0077,  0.0327],\n",
            "          [ 0.0477, -0.0962,  0.0510]],\n",
            "\n",
            "         [[-0.0695, -0.1131, -0.0743],\n",
            "          [ 0.1312,  0.1163,  0.1219],\n",
            "          [ 0.0799,  0.1028, -0.0182]],\n",
            "\n",
            "         [[-0.0749,  0.0680, -0.0705],\n",
            "          [-0.0918, -0.0435,  0.0286],\n",
            "          [ 0.0701, -0.0529, -0.0801]],\n",
            "\n",
            "         [[ 0.0184, -0.0802, -0.0886],\n",
            "          [ 0.0709, -0.0229,  0.1244],\n",
            "          [ 0.1324,  0.0407,  0.0468]]],\n",
            "\n",
            "\n",
            "        [[[ 0.0313,  0.0021, -0.0099],\n",
            "          [ 0.0019,  0.0508,  0.1265],\n",
            "          [-0.0353, -0.0575, -0.0330]],\n",
            "\n",
            "         [[-0.0657,  0.0231,  0.1016],\n",
            "          [ 0.1064,  0.0625, -0.1001],\n",
            "          [-0.0730, -0.0299, -0.0251]],\n",
            "\n",
            "         [[ 0.0112, -0.1249,  0.0424],\n",
            "          [-0.1038, -0.0861, -0.1131],\n",
            "          [ 0.1186, -0.1289,  0.1027]],\n",
            "\n",
            "         [[-0.0046, -0.0158,  0.0851],\n",
            "          [-0.0126,  0.0853,  0.0984],\n",
            "          [-0.1181,  0.0524,  0.0257]],\n",
            "\n",
            "         [[ 0.0293,  0.0199,  0.0372],\n",
            "          [-0.0655, -0.0174,  0.1293],\n",
            "          [ 0.0914, -0.0051, -0.1280]],\n",
            "\n",
            "         [[ 0.0060, -0.0927,  0.1107],\n",
            "          [-0.0826, -0.0098, -0.0302],\n",
            "          [ 0.0242,  0.1281,  0.0129]]],\n",
            "\n",
            "\n",
            "        [[[ 0.0788,  0.1056,  0.1099],\n",
            "          [-0.0470, -0.0304,  0.0656],\n",
            "          [-0.0371,  0.0637, -0.0297]],\n",
            "\n",
            "         [[-0.0923,  0.0554,  0.0209],\n",
            "          [ 0.0607,  0.1352,  0.0929],\n",
            "          [ 0.1290,  0.0073, -0.1171]],\n",
            "\n",
            "         [[-0.0955, -0.0845, -0.1199],\n",
            "          [-0.0682, -0.1253, -0.1256],\n",
            "          [-0.0813, -0.1342, -0.0835]],\n",
            "\n",
            "         [[ 0.0519,  0.1135, -0.0405],\n",
            "          [-0.0396,  0.0727, -0.0671],\n",
            "          [-0.0643,  0.0838, -0.1186]],\n",
            "\n",
            "         [[ 0.0166,  0.1202,  0.0233],\n",
            "          [ 0.0370, -0.0793, -0.0019],\n",
            "          [ 0.0075,  0.0334,  0.0529]],\n",
            "\n",
            "         [[ 0.1182, -0.1039,  0.0041],\n",
            "          [-0.0680, -0.1077, -0.0109],\n",
            "          [-0.1198,  0.0950,  0.0158]]],\n",
            "\n",
            "\n",
            "        [[[-0.0733,  0.0711, -0.1288],\n",
            "          [-0.0526, -0.0265, -0.1156],\n",
            "          [-0.0865, -0.0222,  0.1033]],\n",
            "\n",
            "         [[ 0.1314,  0.0866, -0.0813],\n",
            "          [-0.0890,  0.1188,  0.0481],\n",
            "          [ 0.0036,  0.0184, -0.1094]],\n",
            "\n",
            "         [[-0.0454,  0.1310, -0.0336],\n",
            "          [-0.0068, -0.1130, -0.0761],\n",
            "          [-0.0028, -0.0845, -0.0169]],\n",
            "\n",
            "         [[ 0.0554, -0.1331,  0.0404],\n",
            "          [-0.0900, -0.0664,  0.0522],\n",
            "          [ 0.1082, -0.0372, -0.0559]],\n",
            "\n",
            "         [[-0.1231, -0.0702, -0.1192],\n",
            "          [-0.0311,  0.0278, -0.1275],\n",
            "          [ 0.1188,  0.0854, -0.1332]],\n",
            "\n",
            "         [[-0.0650,  0.0444, -0.0280],\n",
            "          [-0.0148, -0.0614,  0.1093],\n",
            "          [-0.0761,  0.1129,  0.0088]]],\n",
            "\n",
            "\n",
            "        [[[ 0.0274,  0.1062, -0.0224],\n",
            "          [-0.0775, -0.0220,  0.1104],\n",
            "          [-0.1010,  0.0309, -0.1337]],\n",
            "\n",
            "         [[ 0.0713,  0.0503,  0.0058],\n",
            "          [ 0.0584,  0.0002,  0.0753],\n",
            "          [-0.1077, -0.0200,  0.0604]],\n",
            "\n",
            "         [[ 0.1355,  0.0693, -0.0990],\n",
            "          [ 0.1047, -0.0303, -0.0291],\n",
            "          [-0.1237, -0.0214,  0.0963]],\n",
            "\n",
            "         [[ 0.0190, -0.0793,  0.0419],\n",
            "          [-0.0436,  0.1242, -0.1181],\n",
            "          [-0.0430, -0.1314, -0.0536]],\n",
            "\n",
            "         [[ 0.0429,  0.1310,  0.0229],\n",
            "          [ 0.1334,  0.0266,  0.0786],\n",
            "          [ 0.1091,  0.1138, -0.0762]],\n",
            "\n",
            "         [[ 0.1251,  0.0824, -0.0636],\n",
            "          [-0.0649, -0.1141,  0.0342],\n",
            "          [-0.1103,  0.0575,  0.0430]]],\n",
            "\n",
            "\n",
            "        [[[-0.1182,  0.0371, -0.0111],\n",
            "          [ 0.0622,  0.0781, -0.1353],\n",
            "          [ 0.1248,  0.1141,  0.0541]],\n",
            "\n",
            "         [[-0.1244, -0.0486, -0.0394],\n",
            "          [-0.0350,  0.0767,  0.0495],\n",
            "          [ 0.1078, -0.0510,  0.0458]],\n",
            "\n",
            "         [[ 0.0484, -0.1133, -0.1320],\n",
            "          [-0.0706,  0.0932, -0.1281],\n",
            "          [-0.1185,  0.0762,  0.0734]],\n",
            "\n",
            "         [[ 0.1119, -0.1027, -0.0996],\n",
            "          [ 0.0698,  0.1183,  0.0814],\n",
            "          [ 0.0213,  0.0448,  0.1292]],\n",
            "\n",
            "         [[-0.0878, -0.0618,  0.0952],\n",
            "          [-0.0931, -0.0750,  0.0993],\n",
            "          [ 0.0429,  0.0440, -0.0577]],\n",
            "\n",
            "         [[-0.0019,  0.1245, -0.0817],\n",
            "          [ 0.0011,  0.0647, -0.0939],\n",
            "          [ 0.1322, -0.0680, -0.0327]]],\n",
            "\n",
            "\n",
            "        [[[-0.0368, -0.0887, -0.1335],\n",
            "          [ 0.0767,  0.0362, -0.1275],\n",
            "          [-0.0876,  0.1345,  0.0520]],\n",
            "\n",
            "         [[ 0.0546, -0.0814, -0.0597],\n",
            "          [-0.0205, -0.0249, -0.0933],\n",
            "          [ 0.0112,  0.0135, -0.0172]],\n",
            "\n",
            "         [[ 0.0189, -0.0539,  0.0354],\n",
            "          [ 0.0513, -0.0717, -0.1349],\n",
            "          [ 0.0712,  0.0325, -0.0692]],\n",
            "\n",
            "         [[ 0.1311, -0.0615,  0.0920],\n",
            "          [ 0.0690, -0.1141,  0.0878],\n",
            "          [-0.1251, -0.0754, -0.0227]],\n",
            "\n",
            "         [[-0.0917,  0.1329, -0.0273],\n",
            "          [ 0.0541, -0.1215,  0.0783],\n",
            "          [-0.0423, -0.1035,  0.0199]],\n",
            "\n",
            "         [[ 0.0659,  0.1178, -0.0831],\n",
            "          [-0.0670,  0.0262,  0.0369],\n",
            "          [ 0.0523,  0.0747, -0.0309]]],\n",
            "\n",
            "\n",
            "        [[[ 0.0756,  0.1003, -0.0355],\n",
            "          [ 0.0968,  0.0665,  0.1200],\n",
            "          [-0.0773, -0.0672, -0.0393]],\n",
            "\n",
            "         [[ 0.0069,  0.0817, -0.0777],\n",
            "          [ 0.0681, -0.0488,  0.0822],\n",
            "          [-0.0065, -0.1192, -0.0749]],\n",
            "\n",
            "         [[-0.0985,  0.0675, -0.0913],\n",
            "          [-0.0113,  0.0294, -0.0746],\n",
            "          [ 0.0393, -0.1329, -0.0974]],\n",
            "\n",
            "         [[-0.1233, -0.0412, -0.0496],\n",
            "          [ 0.0195, -0.0252,  0.0640],\n",
            "          [ 0.1248,  0.0488, -0.0536]],\n",
            "\n",
            "         [[-0.1274,  0.0493, -0.0674],\n",
            "          [ 0.0692,  0.0910,  0.0525],\n",
            "          [ 0.1277,  0.1293,  0.0288]],\n",
            "\n",
            "         [[-0.0992,  0.1216, -0.0646],\n",
            "          [-0.0643,  0.1139,  0.1054],\n",
            "          [ 0.0411,  0.0085, -0.1145]]],\n",
            "\n",
            "\n",
            "        [[[-0.0141,  0.1305,  0.0347],\n",
            "          [ 0.0117, -0.0283, -0.0475],\n",
            "          [ 0.0811,  0.0084,  0.0885]],\n",
            "\n",
            "         [[-0.0241,  0.0595,  0.0562],\n",
            "          [ 0.0217,  0.0855,  0.0853],\n",
            "          [ 0.1261,  0.1046, -0.0348]],\n",
            "\n",
            "         [[-0.1152,  0.0249, -0.0012],\n",
            "          [-0.0355, -0.0228,  0.0064],\n",
            "          [ 0.0993,  0.0424, -0.0483]],\n",
            "\n",
            "         [[-0.0560, -0.0337, -0.0526],\n",
            "          [ 0.1224,  0.0721,  0.1229],\n",
            "          [ 0.0004,  0.0274,  0.0472]],\n",
            "\n",
            "         [[-0.1288,  0.0122, -0.0091],\n",
            "          [-0.0763, -0.1056,  0.1205],\n",
            "          [ 0.1106,  0.0631,  0.1299]],\n",
            "\n",
            "         [[-0.0552, -0.0235,  0.0515],\n",
            "          [-0.0225, -0.0267, -0.1125],\n",
            "          [ 0.0366, -0.0822,  0.0049]]]], requires_grad=True)\n",
            "Parameter containing:\n",
            "tensor([ 0.1327, -0.0419, -0.0429,  0.0821, -0.0500, -0.0117,  0.1271, -0.0558,\n",
            "        -0.0974, -0.0762, -0.0377, -0.0646, -0.0706,  0.0550,  0.0231, -0.0436],\n",
            "       requires_grad=True)\n",
            "Parameter containing:\n",
            "tensor([[-3.8846e-02, -1.5743e-02, -2.1102e-02,  ..., -7.6693e-05,\n",
            "          4.8436e-02, -1.9859e-02],\n",
            "        [-1.1636e-02, -2.5271e-02,  7.1948e-03,  ..., -1.7114e-02,\n",
            "         -2.9444e-02,  3.3103e-02],\n",
            "        [ 6.7186e-03,  2.0927e-02, -1.8936e-02,  ..., -4.6726e-02,\n",
            "          3.3182e-03, -1.7761e-02],\n",
            "        ...,\n",
            "        [-4.3866e-02,  3.7438e-02, -4.2277e-02,  ...,  4.5558e-02,\n",
            "          2.3612e-02, -4.4892e-02],\n",
            "        [ 1.6117e-02,  1.6008e-02,  2.6415e-02,  ..., -3.6400e-02,\n",
            "          1.4238e-02,  3.9001e-02],\n",
            "        [-1.7557e-02, -2.1580e-02,  4.0183e-02,  ...,  5.0929e-03,\n",
            "          4.3303e-02, -4.1396e-02]], requires_grad=True)\n",
            "Parameter containing:\n",
            "tensor([ 0.0400, -0.0132, -0.0299, -0.0310,  0.0312,  0.0441,  0.0343, -0.0473,\n",
            "        -0.0008,  0.0072,  0.0363, -0.0249, -0.0220, -0.0055, -0.0091,  0.0066,\n",
            "        -0.0191, -0.0118, -0.0330,  0.0443, -0.0144, -0.0258, -0.0401, -0.0316,\n",
            "         0.0284,  0.0334,  0.0075, -0.0444, -0.0477, -0.0182, -0.0170, -0.0190,\n",
            "        -0.0163, -0.0279, -0.0349,  0.0035, -0.0400, -0.0317, -0.0016,  0.0015,\n",
            "         0.0436, -0.0034,  0.0314, -0.0055,  0.0237, -0.0089,  0.0256,  0.0277,\n",
            "        -0.0481,  0.0012,  0.0010,  0.0096, -0.0472, -0.0495, -0.0400, -0.0047,\n",
            "         0.0345, -0.0277, -0.0216, -0.0290,  0.0261,  0.0368,  0.0033,  0.0269,\n",
            "         0.0461, -0.0069, -0.0212, -0.0286,  0.0359,  0.0303, -0.0336,  0.0286,\n",
            "         0.0226,  0.0231,  0.0172, -0.0077,  0.0228, -0.0317, -0.0057,  0.0200,\n",
            "         0.0196, -0.0247, -0.0427,  0.0248, -0.0250,  0.0274, -0.0473, -0.0432,\n",
            "         0.0465,  0.0449, -0.0165,  0.0297,  0.0328, -0.0133,  0.0391,  0.0355,\n",
            "         0.0485, -0.0063, -0.0442, -0.0260, -0.0080, -0.0207,  0.0316,  0.0417,\n",
            "         0.0384,  0.0112, -0.0234, -0.0303, -0.0059, -0.0286,  0.0399, -0.0384,\n",
            "        -0.0390, -0.0290, -0.0329, -0.0307,  0.0183, -0.0207, -0.0320,  0.0365],\n",
            "       requires_grad=True)\n",
            "Parameter containing:\n",
            "tensor([[-0.0371,  0.0817,  0.0687,  ..., -0.0570,  0.0406, -0.0083],\n",
            "        [ 0.0591, -0.0907, -0.0863,  ..., -0.0754,  0.0787, -0.0542],\n",
            "        [-0.0385, -0.0518,  0.0064,  ...,  0.0870,  0.0634, -0.0167],\n",
            "        ...,\n",
            "        [-0.0752,  0.0148, -0.0138,  ...,  0.0169,  0.0578, -0.0175],\n",
            "        [ 0.0579, -0.0846, -0.0538,  ..., -0.0163,  0.0133,  0.0372],\n",
            "        [-0.0691, -0.0808,  0.0382,  ..., -0.0006, -0.0693, -0.0764]],\n",
            "       requires_grad=True)\n",
            "Parameter containing:\n",
            "tensor([ 0.0058,  0.0849,  0.0859, -0.0189,  0.0273, -0.0852, -0.0591,  0.0678,\n",
            "         0.0148,  0.0224,  0.0103, -0.0367,  0.0740,  0.0870,  0.0377,  0.0854,\n",
            "         0.0274,  0.0690, -0.0584,  0.0318, -0.0649, -0.0117, -0.0593,  0.0311,\n",
            "        -0.0852, -0.0268, -0.0367,  0.0592, -0.0653, -0.0452,  0.0764,  0.0387,\n",
            "         0.0709,  0.0839, -0.0556,  0.0249, -0.0682, -0.0311, -0.0149, -0.0454,\n",
            "         0.0190,  0.0133,  0.0189,  0.0501, -0.0112,  0.0732, -0.0066,  0.0625,\n",
            "         0.0711,  0.0843, -0.0440, -0.0322, -0.0702, -0.0380,  0.0840, -0.0104,\n",
            "        -0.0479, -0.0699, -0.0730, -0.0506,  0.0307, -0.0485, -0.0318, -0.0764,\n",
            "        -0.0815, -0.0529, -0.0844, -0.0059, -0.0318, -0.0430, -0.0552,  0.0333,\n",
            "         0.0385, -0.0173,  0.0355,  0.0825, -0.0293, -0.0550,  0.0566, -0.0207,\n",
            "        -0.0371,  0.0593,  0.0267, -0.0664], requires_grad=True)\n",
            "Parameter containing:\n",
            "tensor([[ 0.0248,  0.0496,  0.1048, -0.0526,  0.0552, -0.0156,  0.0163, -0.1028,\n",
            "         -0.0987,  0.0589,  0.0010,  0.0489, -0.0655,  0.0836, -0.0392, -0.0669,\n",
            "          0.0943, -0.0640, -0.0646, -0.0934,  0.0483, -0.0124, -0.0031,  0.0337,\n",
            "         -0.0306,  0.0181, -0.0586, -0.0257,  0.0614,  0.0329,  0.0728,  0.1024,\n",
            "          0.0769, -0.0391, -0.0918, -0.0467, -0.0079,  0.1040,  0.0128, -0.0154,\n",
            "          0.0767,  0.0438,  0.0905,  0.0158, -0.0073,  0.0525, -0.0067, -0.0647,\n",
            "         -0.0306, -0.0497, -0.0082,  0.0735,  0.0210, -0.0641, -0.0340, -0.0675,\n",
            "         -0.0203, -0.0563,  0.0341, -0.0174, -0.0606,  0.0495,  0.0197,  0.0262,\n",
            "          0.0665,  0.0555, -0.0718,  0.0611, -0.0739, -0.0849,  0.1066, -0.0612,\n",
            "          0.0044,  0.0641, -0.0631, -0.0488,  0.0129, -0.0111,  0.0599,  0.0168,\n",
            "         -0.0014,  0.0162,  0.1045, -0.0783],\n",
            "        [ 0.0882,  0.0137,  0.0816,  0.0278, -0.0595,  0.1075,  0.0605, -0.0945,\n",
            "          0.0949,  0.0850,  0.0864,  0.0311,  0.0391, -0.0184,  0.0773, -0.0719,\n",
            "          0.0261,  0.0701, -0.0290,  0.0690,  0.0600,  0.0104,  0.0042, -0.0508,\n",
            "         -0.0048, -0.1056,  0.0545,  0.0531,  0.0336, -0.0486, -0.0944, -0.0654,\n",
            "          0.0298, -0.0882,  0.0780,  0.1033,  0.0648, -0.0341,  0.0122, -0.0119,\n",
            "          0.0177,  0.0067,  0.0830,  0.0863,  0.0869,  0.0604,  0.0682,  0.0734,\n",
            "          0.0846,  0.0437, -0.0695,  0.0976,  0.0220, -0.0659, -0.0099,  0.0403,\n",
            "         -0.0889, -0.0849, -0.0445,  0.0882,  0.0410,  0.0559,  0.0465,  0.0951,\n",
            "          0.0974,  0.1018,  0.0684,  0.0532,  0.0421,  0.0886, -0.1047,  0.0518,\n",
            "          0.1065,  0.0381,  0.0025, -0.0355,  0.0278, -0.0517,  0.0392, -0.0233,\n",
            "          0.0412, -0.0689, -0.0730, -0.0889],\n",
            "        [ 0.0211,  0.0628,  0.0693, -0.0847,  0.0383,  0.0297,  0.0693, -0.0705,\n",
            "         -0.0365, -0.0748,  0.0076, -0.0852,  0.0821, -0.0947,  0.0081,  0.0159,\n",
            "         -0.0058, -0.0768,  0.0460,  0.0884,  0.0024,  0.0706, -0.0973, -0.0135,\n",
            "         -0.0169,  0.0932,  0.0269, -0.0902,  0.0224,  0.0129,  0.0112,  0.0595,\n",
            "          0.0545, -0.0263,  0.0419, -0.0140, -0.0723,  0.0820,  0.0403,  0.0803,\n",
            "         -0.0726,  0.0017, -0.0765, -0.0334,  0.0872, -0.0266,  0.0411,  0.0467,\n",
            "         -0.0758,  0.0754, -0.0838,  0.0873, -0.0258, -0.1054,  0.0052,  0.1044,\n",
            "          0.0385, -0.0294,  0.0247,  0.0435, -0.0972, -0.0924, -0.0883,  0.0991,\n",
            "         -0.0663, -0.0510,  0.0565, -0.0589,  0.0159,  0.0703,  0.0290,  0.0007,\n",
            "         -0.0742, -0.0620, -0.0272,  0.1014,  0.0284,  0.0358,  0.0107,  0.0040,\n",
            "          0.0957,  0.0221,  0.0344,  0.0343],\n",
            "        [ 0.0592,  0.1049, -0.0349, -0.0202,  0.0299,  0.0612,  0.1015, -0.0460,\n",
            "          0.0150,  0.0656,  0.0492,  0.0954,  0.0042, -0.0902,  0.0111, -0.0616,\n",
            "          0.0120, -0.0602, -0.0323, -0.0048, -0.0279, -0.0516,  0.0482, -0.0748,\n",
            "          0.0679, -0.0312,  0.0778, -0.0607,  0.0754,  0.0605,  0.0722, -0.1035,\n",
            "         -0.0362, -0.0975, -0.1060, -0.0828,  0.0828, -0.0497, -0.0539, -0.0125,\n",
            "          0.0375, -0.0029, -0.0727,  0.0555,  0.0570,  0.0795,  0.0531,  0.0637,\n",
            "          0.0572,  0.0589,  0.1058, -0.0806,  0.0813, -0.0870, -0.0609, -0.0027,\n",
            "          0.0824, -0.0554,  0.0745, -0.0768, -0.0549,  0.0557,  0.0213, -0.0224,\n",
            "         -0.0928,  0.0730, -0.0739,  0.0719,  0.0562, -0.0152, -0.0026, -0.1034,\n",
            "          0.0232,  0.0055, -0.0531, -0.0987,  0.0396,  0.0292,  0.0619, -0.0272,\n",
            "         -0.1031, -0.0822, -0.0343,  0.0954],\n",
            "        [ 0.0040, -0.0493,  0.0212,  0.0647,  0.0705, -0.0557,  0.0793, -0.0454,\n",
            "         -0.0629, -0.0621, -0.0586,  0.0254,  0.0817,  0.0240, -0.0413,  0.0237,\n",
            "          0.1013, -0.0606, -0.0019, -0.0351,  0.0570, -0.0371, -0.0011, -0.0276,\n",
            "         -0.1048, -0.0766, -0.0335, -0.0390, -0.0980,  0.0408, -0.0779, -0.0918,\n",
            "          0.0603, -0.0652,  0.0758,  0.0123, -0.0990,  0.1045, -0.0989, -0.1033,\n",
            "         -0.0964,  0.0613, -0.1038, -0.0192,  0.0830, -0.0264,  0.0930, -0.0911,\n",
            "          0.0578, -0.0445, -0.0826,  0.0561, -0.0509, -0.0954,  0.0651, -0.0931,\n",
            "         -0.0746, -0.0657,  0.0456,  0.0280, -0.0925, -0.1074, -0.0916,  0.0258,\n",
            "         -0.0556, -0.0061,  0.0757, -0.0800,  0.0007, -0.0619,  0.0133,  0.1062,\n",
            "         -0.0659,  0.0780,  0.0803,  0.0844,  0.0086,  0.0840,  0.0899, -0.0879,\n",
            "         -0.0358, -0.0232,  0.0621, -0.0447],\n",
            "        [ 0.0359,  0.0852,  0.1054,  0.0382,  0.0210, -0.0368,  0.0491, -0.0443,\n",
            "          0.0771, -0.0022, -0.0886,  0.0879, -0.0399,  0.0714, -0.0201,  0.1035,\n",
            "          0.1042,  0.0694, -0.0221,  0.0005, -0.0487,  0.0003,  0.0991,  0.0182,\n",
            "          0.0800, -0.0938,  0.0539, -0.0963,  0.0380, -0.1066, -0.0198, -0.0787,\n",
            "         -0.0558,  0.1086, -0.0277,  0.0586, -0.0358, -0.0492, -0.1051, -0.0162,\n",
            "          0.1058, -0.0468, -0.0245, -0.0906, -0.1037,  0.1050,  0.0538, -0.0845,\n",
            "          0.0806, -0.0374,  0.0376, -0.0050,  0.0191, -0.1032, -0.0361, -0.0882,\n",
            "          0.1031,  0.0382,  0.0413,  0.0600, -0.0701,  0.0848,  0.0677,  0.0486,\n",
            "          0.1051,  0.0244, -0.0405,  0.0713, -0.0040, -0.0774, -0.0025, -0.0208,\n",
            "         -0.0905, -0.0729,  0.0716, -0.0087,  0.0324, -0.0742, -0.0241,  0.0251,\n",
            "          0.1058, -0.0039,  0.0158, -0.1049],\n",
            "        [-0.0628, -0.0878,  0.0763,  0.0617,  0.0888, -0.0173,  0.0895,  0.0249,\n",
            "          0.0028,  0.0626,  0.0481,  0.0865,  0.0291, -0.0398,  0.0417,  0.0020,\n",
            "          0.0213,  0.0773,  0.0729, -0.0516,  0.0983,  0.0902, -0.0495,  0.0275,\n",
            "         -0.0764, -0.0047, -0.0669,  0.1046, -0.1020, -0.0022, -0.0765, -0.0040,\n",
            "         -0.1071, -0.0907,  0.0941, -0.0012,  0.0884, -0.0856, -0.0452,  0.1071,\n",
            "         -0.0486, -0.0602,  0.0889, -0.0834,  0.0450, -0.0998,  0.0317,  0.0055,\n",
            "         -0.1032,  0.0982, -0.0634, -0.0558,  0.1079, -0.0984, -0.0051,  0.0962,\n",
            "         -0.0767, -0.0544, -0.0041, -0.0942,  0.1025, -0.0020, -0.0915, -0.0235,\n",
            "         -0.0664,  0.0918,  0.0847,  0.0366, -0.0087,  0.1066,  0.0862,  0.0393,\n",
            "         -0.0934, -0.0306, -0.0805,  0.0355,  0.0673,  0.0745, -0.0246, -0.0379,\n",
            "          0.0593,  0.0546,  0.1086, -0.0660],\n",
            "        [ 0.1021, -0.0642,  0.0284, -0.0675, -0.1070,  0.0793,  0.0111,  0.0355,\n",
            "         -0.0357, -0.0184, -0.0397, -0.0551,  0.0942, -0.0625, -0.0048, -0.0386,\n",
            "         -0.1089,  0.0570,  0.1077, -0.0330, -0.0978,  0.0119, -0.0699, -0.0238,\n",
            "         -0.0631, -0.0103,  0.0035, -0.0923, -0.0942, -0.0357,  0.0766, -0.0189,\n",
            "         -0.0281, -0.0299, -0.0730, -0.0560, -0.0871, -0.1007,  0.0981, -0.0694,\n",
            "         -0.0293,  0.0322, -0.0315,  0.0487,  0.0935,  0.0130,  0.0965, -0.0375,\n",
            "         -0.0071, -0.0246,  0.0337, -0.0683,  0.1067,  0.0162, -0.0884,  0.1023,\n",
            "         -0.0524,  0.0434, -0.0031, -0.0372, -0.0488, -0.0936,  0.0193,  0.0174,\n",
            "          0.1028,  0.0344, -0.0675,  0.0182,  0.0852,  0.0666,  0.0953, -0.0364,\n",
            "          0.0892,  0.0258,  0.0221, -0.0710, -0.0403,  0.0120, -0.1073,  0.0456,\n",
            "         -0.0709, -0.0186, -0.0657,  0.0840],\n",
            "        [-0.0155,  0.0614,  0.0309,  0.0086, -0.0071,  0.0882, -0.0411,  0.0810,\n",
            "          0.1007, -0.0145, -0.0551,  0.0885, -0.0476,  0.0442, -0.0037, -0.0530,\n",
            "          0.0212,  0.0731, -0.0790, -0.0987, -0.0694, -0.0940, -0.1004,  0.0321,\n",
            "          0.0711, -0.1020,  0.0809,  0.0850, -0.0105, -0.0428,  0.0824,  0.0646,\n",
            "         -0.0827, -0.0709,  0.0913,  0.0088, -0.0296, -0.0325,  0.1031, -0.0141,\n",
            "          0.0949,  0.0054, -0.0139, -0.0252,  0.0315,  0.0637,  0.0267,  0.0253,\n",
            "         -0.0564, -0.0872, -0.0508,  0.0945,  0.0975,  0.0177,  0.0940, -0.0738,\n",
            "         -0.0525, -0.0044, -0.0806,  0.0858, -0.0377, -0.0672,  0.1069, -0.0107,\n",
            "         -0.0811,  0.0484, -0.0447, -0.0863, -0.0419,  0.0482, -0.0742,  0.0693,\n",
            "          0.0164, -0.0786,  0.0160, -0.0936,  0.0943, -0.1089, -0.0686,  0.0901,\n",
            "         -0.0554, -0.0398,  0.0504,  0.0972],\n",
            "        [ 0.0186, -0.0742,  0.0939, -0.0619,  0.0032, -0.0398,  0.0144,  0.0391,\n",
            "          0.0971, -0.1045,  0.0616, -0.0703, -0.0124,  0.0156,  0.1049, -0.1022,\n",
            "          0.0343, -0.1026,  0.0860,  0.0336, -0.0295, -0.0593,  0.0172,  0.0724,\n",
            "          0.0898,  0.0321, -0.0963, -0.0986, -0.0019,  0.0379, -0.0537,  0.0474,\n",
            "         -0.0339,  0.0696, -0.0688,  0.0789,  0.0768, -0.0309,  0.0261,  0.0124,\n",
            "         -0.0040, -0.0936, -0.0479, -0.0150, -0.0706, -0.0253, -0.1053,  0.0656,\n",
            "          0.0729,  0.0296,  0.0949, -0.0721,  0.0266, -0.0155, -0.0430,  0.0036,\n",
            "         -0.0411, -0.0384,  0.0130, -0.0367,  0.0120, -0.0739,  0.0287, -0.0913,\n",
            "          0.0911,  0.1081,  0.0193,  0.0790, -0.0005, -0.0344,  0.0530,  0.0209,\n",
            "          0.0620, -0.0369,  0.1019,  0.0579, -0.1069,  0.0029,  0.0717, -0.0314,\n",
            "          0.0436,  0.0081, -0.0750, -0.0623]], requires_grad=True)\n",
            "Parameter containing:\n",
            "tensor([ 0.0363, -0.1061,  0.0859,  0.0742, -0.0242, -0.0972,  0.0560, -0.0302,\n",
            "         0.0280, -0.0756], requires_grad=True)\n"
          ]
        }
      ],
      "source": [
        "for param in model.parameters():\n",
        "    print(param)"
      ]
    },
    {
      "cell_type": "code",
      "execution_count": null,
      "metadata": {
        "id": "lC5oOgLbjGJ5"
      },
      "outputs": [],
      "source": [
        "def count_parameters(model):\n",
        "    params = [p.numel() for p in model.parameters() if p.requires_grad]\n",
        "    for item in params:\n",
        "        print(f'{item:>6}')\n",
        "    print(f'______\\n{sum(params):>6}')"
      ]
    },
    {
      "cell_type": "code",
      "execution_count": null,
      "metadata": {
        "colab": {
          "base_uri": "https://localhost:8080/"
        },
        "id": "9W5FXg9NjGJ6",
        "outputId": "ad4d868d-e78a-4417-bba8-8861d3126ff0"
      },
      "outputs": [
        {
          "name": "stdout",
          "output_type": "stream",
          "text": [
            "    54\n",
            "     6\n",
            "   864\n",
            "    16\n",
            " 48000\n",
            "   120\n",
            " 10080\n",
            "    84\n",
            "   840\n",
            "    10\n",
            "______\n",
            " 60074\n"
          ]
        }
      ],
      "source": [
        "count_parameters(model)"
      ]
    },
    {
      "cell_type": "code",
      "execution_count": null,
      "metadata": {
        "colab": {
          "base_uri": "https://localhost:8080/"
        },
        "id": "HrN4iogZjGJ7",
        "outputId": "a4351f10-af9c-4cb9-c085-5dc45b4928c9"
      },
      "outputs": [
        {
          "name": "stdout",
          "output_type": "stream",
          "text": [
            "Parameter containing:\n",
            "tensor([[[[ 0.2548,  0.2767, -0.0781],\n",
            "          [ 0.3062, -0.0730,  0.0673],\n",
            "          [-0.1623,  0.1958,  0.2938]]],\n",
            "\n",
            "\n",
            "        [[[-0.2445,  0.2897,  0.0624],\n",
            "          [ 0.2463,  0.0451,  0.1607],\n",
            "          [-0.0471,  0.2570,  0.0493]]],\n",
            "\n",
            "\n",
            "        [[[-0.1556,  0.0850, -0.1536],\n",
            "          [-0.0391, -0.1354,  0.2211],\n",
            "          [-0.2631, -0.1537, -0.0941]]],\n",
            "\n",
            "\n",
            "        [[[-0.2004,  0.0315, -0.3292],\n",
            "          [ 0.3010, -0.2832,  0.2573],\n",
            "          [ 0.0555, -0.1082,  0.2060]]],\n",
            "\n",
            "\n",
            "        [[[ 0.0520,  0.2693,  0.0364],\n",
            "          [-0.1051,  0.0896, -0.0904],\n",
            "          [ 0.1403,  0.2976,  0.1927]]],\n",
            "\n",
            "\n",
            "        [[[-0.1457,  0.1924,  0.0596],\n",
            "          [ 0.1693, -0.2032, -0.3300],\n",
            "          [-0.1288, -0.2557,  0.2735]]]], requires_grad=True)\n",
            "Parameter containing:\n",
            "tensor([ 0.0960,  0.1381,  0.1054, -0.0058,  0.2609, -0.2368],\n",
            "       requires_grad=True)\n",
            "Parameter containing:\n",
            "tensor([[[[ 0.0086, -0.0929,  0.0420],\n",
            "          [-0.0469,  0.0417, -0.0284],\n",
            "          [ 0.1129, -0.0807, -0.0812]],\n",
            "\n",
            "         [[-0.0812,  0.1224,  0.0453],\n",
            "          [ 0.1309, -0.1123, -0.1350],\n",
            "          [-0.1065, -0.0915,  0.0551]],\n",
            "\n",
            "         [[ 0.0487,  0.1131, -0.0703],\n",
            "          [-0.0928,  0.0722, -0.0550],\n",
            "          [ 0.0826, -0.0323,  0.0778]],\n",
            "\n",
            "         [[-0.1057, -0.0687,  0.0415],\n",
            "          [ 0.0288, -0.0347,  0.0811],\n",
            "          [ 0.0925, -0.0987, -0.0727]],\n",
            "\n",
            "         [[ 0.1246, -0.0459, -0.0482],\n",
            "          [-0.1317, -0.0779,  0.0340],\n",
            "          [-0.0180, -0.0988,  0.0032]],\n",
            "\n",
            "         [[-0.0930, -0.1155, -0.0749],\n",
            "          [-0.1191, -0.0866,  0.1360],\n",
            "          [ 0.0257,  0.0419, -0.1269]]],\n",
            "\n",
            "\n",
            "        [[[-0.0894, -0.0453,  0.0213],\n",
            "          [-0.1197, -0.0586, -0.0815],\n",
            "          [ 0.0004, -0.0506, -0.0094]],\n",
            "\n",
            "         [[-0.0922, -0.0934, -0.0794],\n",
            "          [-0.0466, -0.1074,  0.1141],\n",
            "          [-0.0270,  0.1171,  0.0424]],\n",
            "\n",
            "         [[-0.1152,  0.0942, -0.0374],\n",
            "          [-0.0522, -0.1130, -0.1353],\n",
            "          [ 0.0389, -0.0297,  0.0530]],\n",
            "\n",
            "         [[-0.1117,  0.1010, -0.0999],\n",
            "          [-0.0235,  0.0284,  0.0703],\n",
            "          [ 0.1099,  0.1240, -0.1079]],\n",
            "\n",
            "         [[ 0.0342, -0.0585, -0.0149],\n",
            "          [-0.1019,  0.1240, -0.0999],\n",
            "          [ 0.0727,  0.0478,  0.0442]],\n",
            "\n",
            "         [[-0.0736,  0.1237,  0.0299],\n",
            "          [ 0.0175, -0.1199,  0.0571],\n",
            "          [-0.0204, -0.0623,  0.1169]]],\n",
            "\n",
            "\n",
            "        [[[ 0.0303, -0.0753, -0.0689],\n",
            "          [-0.0065,  0.0760, -0.0348],\n",
            "          [-0.0776, -0.0466, -0.1017]],\n",
            "\n",
            "         [[ 0.0485,  0.1053, -0.1281],\n",
            "          [ 0.0316,  0.0703,  0.0247],\n",
            "          [-0.0485,  0.0710,  0.0715]],\n",
            "\n",
            "         [[ 0.0509, -0.0239, -0.0360],\n",
            "          [ 0.0146, -0.0240, -0.0406],\n",
            "          [ 0.0870,  0.1169, -0.0135]],\n",
            "\n",
            "         [[-0.0305,  0.0020, -0.0081],\n",
            "          [ 0.0327,  0.0381, -0.1236],\n",
            "          [-0.0502,  0.1146,  0.0530]],\n",
            "\n",
            "         [[-0.0068, -0.0820, -0.0833],\n",
            "          [-0.1219, -0.0444,  0.0460],\n",
            "          [ 0.0868,  0.0628, -0.1203]],\n",
            "\n",
            "         [[-0.0818, -0.0215,  0.1316],\n",
            "          [ 0.0197, -0.0352,  0.0563],\n",
            "          [-0.0518, -0.0881,  0.0993]]],\n",
            "\n",
            "\n",
            "        [[[-0.0619, -0.0273, -0.1354],\n",
            "          [ 0.0911,  0.1031,  0.0496],\n",
            "          [-0.0949, -0.1343, -0.1105]],\n",
            "\n",
            "         [[ 0.1015,  0.0653,  0.1145],\n",
            "          [ 0.0713,  0.0344, -0.0013],\n",
            "          [-0.1035, -0.1166, -0.1273]],\n",
            "\n",
            "         [[ 0.0557, -0.0668, -0.0274],\n",
            "          [-0.0783, -0.0248, -0.0958],\n",
            "          [-0.0889,  0.0451, -0.0404]],\n",
            "\n",
            "         [[ 0.0840, -0.0437, -0.0998],\n",
            "          [-0.0240, -0.0660, -0.0416],\n",
            "          [-0.1296,  0.0761, -0.0947]],\n",
            "\n",
            "         [[ 0.0684,  0.0618,  0.0972],\n",
            "          [-0.1044,  0.0979, -0.0643],\n",
            "          [ 0.0505,  0.1278, -0.0192]],\n",
            "\n",
            "         [[-0.0011, -0.0313, -0.1136],\n",
            "          [ 0.0653, -0.1351,  0.0845],\n",
            "          [ 0.1018,  0.1287, -0.0321]]],\n",
            "\n",
            "\n",
            "        [[[-0.1118,  0.0306,  0.0752],\n",
            "          [-0.1354, -0.0309, -0.0816],\n",
            "          [-0.0119, -0.0670, -0.0556]],\n",
            "\n",
            "         [[-0.0432, -0.1293,  0.1117],\n",
            "          [ 0.1141, -0.0213, -0.0155],\n",
            "          [-0.0555, -0.1229, -0.1324]],\n",
            "\n",
            "         [[ 0.0506, -0.0747, -0.0875],\n",
            "          [-0.0106, -0.0453, -0.0440],\n",
            "          [ 0.0044, -0.0289, -0.0469]],\n",
            "\n",
            "         [[-0.0652, -0.1107,  0.1141],\n",
            "          [-0.0545,  0.0361, -0.0472],\n",
            "          [ 0.0111,  0.1269,  0.0627]],\n",
            "\n",
            "         [[-0.1179,  0.0540,  0.1292],\n",
            "          [ 0.0358,  0.0912,  0.1342],\n",
            "          [-0.0209,  0.0282, -0.0946]],\n",
            "\n",
            "         [[-0.0280,  0.1008,  0.0698],\n",
            "          [-0.0861, -0.1091, -0.0930],\n",
            "          [-0.1343, -0.1050, -0.0337]]],\n",
            "\n",
            "\n",
            "        [[[ 0.0918,  0.0228, -0.1035],\n",
            "          [-0.1092,  0.0677, -0.1012],\n",
            "          [-0.0168,  0.0653, -0.0630]],\n",
            "\n",
            "         [[-0.0148, -0.0118, -0.0322],\n",
            "          [-0.0690, -0.1213, -0.1100],\n",
            "          [-0.0729,  0.1314, -0.0657]],\n",
            "\n",
            "         [[-0.0914,  0.0330,  0.0375],\n",
            "          [ 0.0746,  0.1034,  0.0758],\n",
            "          [-0.1349,  0.0121,  0.0824]],\n",
            "\n",
            "         [[-0.0126, -0.0802,  0.1297],\n",
            "          [-0.0509, -0.0775, -0.1227],\n",
            "          [ 0.0061,  0.0603,  0.0301]],\n",
            "\n",
            "         [[ 0.0269, -0.1032, -0.1271],\n",
            "          [ 0.0024,  0.1241,  0.0785],\n",
            "          [-0.0792, -0.0177, -0.1003]],\n",
            "\n",
            "         [[-0.0656,  0.0246,  0.0741],\n",
            "          [ 0.1127, -0.1249,  0.0910],\n",
            "          [-0.0960,  0.0510,  0.1152]]],\n",
            "\n",
            "\n",
            "        [[[ 0.0019,  0.1238, -0.1159],\n",
            "          [-0.0520,  0.0794, -0.0296],\n",
            "          [-0.0279, -0.0567,  0.0938]],\n",
            "\n",
            "         [[ 0.0667,  0.0436, -0.0765],\n",
            "          [-0.1105,  0.0147,  0.0403],\n",
            "          [-0.0628, -0.0381,  0.0919]],\n",
            "\n",
            "         [[ 0.0108,  0.0061, -0.0335],\n",
            "          [-0.1232, -0.1280, -0.0650],\n",
            "          [-0.0692,  0.0424, -0.0396]],\n",
            "\n",
            "         [[-0.0532,  0.1297,  0.0474],\n",
            "          [ 0.0970, -0.0659, -0.0556],\n",
            "          [ 0.0500, -0.0907, -0.0890]],\n",
            "\n",
            "         [[-0.0066, -0.0498, -0.1020],\n",
            "          [ 0.0807,  0.1094,  0.0221],\n",
            "          [-0.0237, -0.1260, -0.0496]],\n",
            "\n",
            "         [[ 0.0346,  0.0642, -0.0172],\n",
            "          [-0.0538,  0.0758, -0.1084],\n",
            "          [ 0.0860, -0.0528,  0.0021]]],\n",
            "\n",
            "\n",
            "        [[[-0.0269,  0.0165, -0.0411],\n",
            "          [ 0.0989, -0.0035,  0.1062],\n",
            "          [ 0.1308, -0.0663, -0.0993]],\n",
            "\n",
            "         [[ 0.1092,  0.1066, -0.1039],\n",
            "          [-0.0105, -0.1342, -0.1114],\n",
            "          [ 0.0263,  0.0362,  0.0288]],\n",
            "\n",
            "         [[-0.0370,  0.1255,  0.0195],\n",
            "          [-0.0803, -0.0077,  0.0327],\n",
            "          [ 0.0477, -0.0962,  0.0510]],\n",
            "\n",
            "         [[-0.0695, -0.1131, -0.0743],\n",
            "          [ 0.1312,  0.1163,  0.1219],\n",
            "          [ 0.0799,  0.1028, -0.0182]],\n",
            "\n",
            "         [[-0.0749,  0.0680, -0.0705],\n",
            "          [-0.0918, -0.0435,  0.0286],\n",
            "          [ 0.0701, -0.0529, -0.0801]],\n",
            "\n",
            "         [[ 0.0184, -0.0802, -0.0886],\n",
            "          [ 0.0709, -0.0229,  0.1244],\n",
            "          [ 0.1324,  0.0407,  0.0468]]],\n",
            "\n",
            "\n",
            "        [[[ 0.0313,  0.0021, -0.0099],\n",
            "          [ 0.0019,  0.0508,  0.1265],\n",
            "          [-0.0353, -0.0575, -0.0330]],\n",
            "\n",
            "         [[-0.0657,  0.0231,  0.1016],\n",
            "          [ 0.1064,  0.0625, -0.1001],\n",
            "          [-0.0730, -0.0299, -0.0251]],\n",
            "\n",
            "         [[ 0.0112, -0.1249,  0.0424],\n",
            "          [-0.1038, -0.0861, -0.1131],\n",
            "          [ 0.1186, -0.1289,  0.1027]],\n",
            "\n",
            "         [[-0.0046, -0.0158,  0.0851],\n",
            "          [-0.0126,  0.0853,  0.0984],\n",
            "          [-0.1181,  0.0524,  0.0257]],\n",
            "\n",
            "         [[ 0.0293,  0.0199,  0.0372],\n",
            "          [-0.0655, -0.0174,  0.1293],\n",
            "          [ 0.0914, -0.0051, -0.1280]],\n",
            "\n",
            "         [[ 0.0060, -0.0927,  0.1107],\n",
            "          [-0.0826, -0.0098, -0.0302],\n",
            "          [ 0.0242,  0.1281,  0.0129]]],\n",
            "\n",
            "\n",
            "        [[[ 0.0788,  0.1056,  0.1099],\n",
            "          [-0.0470, -0.0304,  0.0656],\n",
            "          [-0.0371,  0.0637, -0.0297]],\n",
            "\n",
            "         [[-0.0923,  0.0554,  0.0209],\n",
            "          [ 0.0607,  0.1352,  0.0929],\n",
            "          [ 0.1290,  0.0073, -0.1171]],\n",
            "\n",
            "         [[-0.0955, -0.0845, -0.1199],\n",
            "          [-0.0682, -0.1253, -0.1256],\n",
            "          [-0.0813, -0.1342, -0.0835]],\n",
            "\n",
            "         [[ 0.0519,  0.1135, -0.0405],\n",
            "          [-0.0396,  0.0727, -0.0671],\n",
            "          [-0.0643,  0.0838, -0.1186]],\n",
            "\n",
            "         [[ 0.0166,  0.1202,  0.0233],\n",
            "          [ 0.0370, -0.0793, -0.0019],\n",
            "          [ 0.0075,  0.0334,  0.0529]],\n",
            "\n",
            "         [[ 0.1182, -0.1039,  0.0041],\n",
            "          [-0.0680, -0.1077, -0.0109],\n",
            "          [-0.1198,  0.0950,  0.0158]]],\n",
            "\n",
            "\n",
            "        [[[-0.0733,  0.0711, -0.1288],\n",
            "          [-0.0526, -0.0265, -0.1156],\n",
            "          [-0.0865, -0.0222,  0.1033]],\n",
            "\n",
            "         [[ 0.1314,  0.0866, -0.0813],\n",
            "          [-0.0890,  0.1188,  0.0481],\n",
            "          [ 0.0036,  0.0184, -0.1094]],\n",
            "\n",
            "         [[-0.0454,  0.1310, -0.0336],\n",
            "          [-0.0068, -0.1130, -0.0761],\n",
            "          [-0.0028, -0.0845, -0.0169]],\n",
            "\n",
            "         [[ 0.0554, -0.1331,  0.0404],\n",
            "          [-0.0900, -0.0664,  0.0522],\n",
            "          [ 0.1082, -0.0372, -0.0559]],\n",
            "\n",
            "         [[-0.1231, -0.0702, -0.1192],\n",
            "          [-0.0311,  0.0278, -0.1275],\n",
            "          [ 0.1188,  0.0854, -0.1332]],\n",
            "\n",
            "         [[-0.0650,  0.0444, -0.0280],\n",
            "          [-0.0148, -0.0614,  0.1093],\n",
            "          [-0.0761,  0.1129,  0.0088]]],\n",
            "\n",
            "\n",
            "        [[[ 0.0274,  0.1062, -0.0224],\n",
            "          [-0.0775, -0.0220,  0.1104],\n",
            "          [-0.1010,  0.0309, -0.1337]],\n",
            "\n",
            "         [[ 0.0713,  0.0503,  0.0058],\n",
            "          [ 0.0584,  0.0002,  0.0753],\n",
            "          [-0.1077, -0.0200,  0.0604]],\n",
            "\n",
            "         [[ 0.1355,  0.0693, -0.0990],\n",
            "          [ 0.1047, -0.0303, -0.0291],\n",
            "          [-0.1237, -0.0214,  0.0963]],\n",
            "\n",
            "         [[ 0.0190, -0.0793,  0.0419],\n",
            "          [-0.0436,  0.1242, -0.1181],\n",
            "          [-0.0430, -0.1314, -0.0536]],\n",
            "\n",
            "         [[ 0.0429,  0.1310,  0.0229],\n",
            "          [ 0.1334,  0.0266,  0.0786],\n",
            "          [ 0.1091,  0.1138, -0.0762]],\n",
            "\n",
            "         [[ 0.1251,  0.0824, -0.0636],\n",
            "          [-0.0649, -0.1141,  0.0342],\n",
            "          [-0.1103,  0.0575,  0.0430]]],\n",
            "\n",
            "\n",
            "        [[[-0.1182,  0.0371, -0.0111],\n",
            "          [ 0.0622,  0.0781, -0.1353],\n",
            "          [ 0.1248,  0.1141,  0.0541]],\n",
            "\n",
            "         [[-0.1244, -0.0486, -0.0394],\n",
            "          [-0.0350,  0.0767,  0.0495],\n",
            "          [ 0.1078, -0.0510,  0.0458]],\n",
            "\n",
            "         [[ 0.0484, -0.1133, -0.1320],\n",
            "          [-0.0706,  0.0932, -0.1281],\n",
            "          [-0.1185,  0.0762,  0.0734]],\n",
            "\n",
            "         [[ 0.1119, -0.1027, -0.0996],\n",
            "          [ 0.0698,  0.1183,  0.0814],\n",
            "          [ 0.0213,  0.0448,  0.1292]],\n",
            "\n",
            "         [[-0.0878, -0.0618,  0.0952],\n",
            "          [-0.0931, -0.0750,  0.0993],\n",
            "          [ 0.0429,  0.0440, -0.0577]],\n",
            "\n",
            "         [[-0.0019,  0.1245, -0.0817],\n",
            "          [ 0.0011,  0.0647, -0.0939],\n",
            "          [ 0.1322, -0.0680, -0.0327]]],\n",
            "\n",
            "\n",
            "        [[[-0.0368, -0.0887, -0.1335],\n",
            "          [ 0.0767,  0.0362, -0.1275],\n",
            "          [-0.0876,  0.1345,  0.0520]],\n",
            "\n",
            "         [[ 0.0546, -0.0814, -0.0597],\n",
            "          [-0.0205, -0.0249, -0.0933],\n",
            "          [ 0.0112,  0.0135, -0.0172]],\n",
            "\n",
            "         [[ 0.0189, -0.0539,  0.0354],\n",
            "          [ 0.0513, -0.0717, -0.1349],\n",
            "          [ 0.0712,  0.0325, -0.0692]],\n",
            "\n",
            "         [[ 0.1311, -0.0615,  0.0920],\n",
            "          [ 0.0690, -0.1141,  0.0878],\n",
            "          [-0.1251, -0.0754, -0.0227]],\n",
            "\n",
            "         [[-0.0917,  0.1329, -0.0273],\n",
            "          [ 0.0541, -0.1215,  0.0783],\n",
            "          [-0.0423, -0.1035,  0.0199]],\n",
            "\n",
            "         [[ 0.0659,  0.1178, -0.0831],\n",
            "          [-0.0670,  0.0262,  0.0369],\n",
            "          [ 0.0523,  0.0747, -0.0309]]],\n",
            "\n",
            "\n",
            "        [[[ 0.0756,  0.1003, -0.0355],\n",
            "          [ 0.0968,  0.0665,  0.1200],\n",
            "          [-0.0773, -0.0672, -0.0393]],\n",
            "\n",
            "         [[ 0.0069,  0.0817, -0.0777],\n",
            "          [ 0.0681, -0.0488,  0.0822],\n",
            "          [-0.0065, -0.1192, -0.0749]],\n",
            "\n",
            "         [[-0.0985,  0.0675, -0.0913],\n",
            "          [-0.0113,  0.0294, -0.0746],\n",
            "          [ 0.0393, -0.1329, -0.0974]],\n",
            "\n",
            "         [[-0.1233, -0.0412, -0.0496],\n",
            "          [ 0.0195, -0.0252,  0.0640],\n",
            "          [ 0.1248,  0.0488, -0.0536]],\n",
            "\n",
            "         [[-0.1274,  0.0493, -0.0674],\n",
            "          [ 0.0692,  0.0910,  0.0525],\n",
            "          [ 0.1277,  0.1293,  0.0288]],\n",
            "\n",
            "         [[-0.0992,  0.1216, -0.0646],\n",
            "          [-0.0643,  0.1139,  0.1054],\n",
            "          [ 0.0411,  0.0085, -0.1145]]],\n",
            "\n",
            "\n",
            "        [[[-0.0141,  0.1305,  0.0347],\n",
            "          [ 0.0117, -0.0283, -0.0475],\n",
            "          [ 0.0811,  0.0084,  0.0885]],\n",
            "\n",
            "         [[-0.0241,  0.0595,  0.0562],\n",
            "          [ 0.0217,  0.0855,  0.0853],\n",
            "          [ 0.1261,  0.1046, -0.0348]],\n",
            "\n",
            "         [[-0.1152,  0.0249, -0.0012],\n",
            "          [-0.0355, -0.0228,  0.0064],\n",
            "          [ 0.0993,  0.0424, -0.0483]],\n",
            "\n",
            "         [[-0.0560, -0.0337, -0.0526],\n",
            "          [ 0.1224,  0.0721,  0.1229],\n",
            "          [ 0.0004,  0.0274,  0.0472]],\n",
            "\n",
            "         [[-0.1288,  0.0122, -0.0091],\n",
            "          [-0.0763, -0.1056,  0.1205],\n",
            "          [ 0.1106,  0.0631,  0.1299]],\n",
            "\n",
            "         [[-0.0552, -0.0235,  0.0515],\n",
            "          [-0.0225, -0.0267, -0.1125],\n",
            "          [ 0.0366, -0.0822,  0.0049]]]], requires_grad=True)\n",
            "Parameter containing:\n",
            "tensor([ 0.1327, -0.0419, -0.0429,  0.0821, -0.0500, -0.0117,  0.1271, -0.0558,\n",
            "        -0.0974, -0.0762, -0.0377, -0.0646, -0.0706,  0.0550,  0.0231, -0.0436],\n",
            "       requires_grad=True)\n",
            "Parameter containing:\n",
            "tensor([[-3.8846e-02, -1.5743e-02, -2.1102e-02,  ..., -7.6693e-05,\n",
            "          4.8436e-02, -1.9859e-02],\n",
            "        [-1.1636e-02, -2.5271e-02,  7.1948e-03,  ..., -1.7114e-02,\n",
            "         -2.9444e-02,  3.3103e-02],\n",
            "        [ 6.7186e-03,  2.0927e-02, -1.8936e-02,  ..., -4.6726e-02,\n",
            "          3.3182e-03, -1.7761e-02],\n",
            "        ...,\n",
            "        [-4.3866e-02,  3.7438e-02, -4.2277e-02,  ...,  4.5558e-02,\n",
            "          2.3612e-02, -4.4892e-02],\n",
            "        [ 1.6117e-02,  1.6008e-02,  2.6415e-02,  ..., -3.6400e-02,\n",
            "          1.4238e-02,  3.9001e-02],\n",
            "        [-1.7557e-02, -2.1580e-02,  4.0183e-02,  ...,  5.0929e-03,\n",
            "          4.3303e-02, -4.1396e-02]], requires_grad=True)\n",
            "Parameter containing:\n",
            "tensor([ 0.0400, -0.0132, -0.0299, -0.0310,  0.0312,  0.0441,  0.0343, -0.0473,\n",
            "        -0.0008,  0.0072,  0.0363, -0.0249, -0.0220, -0.0055, -0.0091,  0.0066,\n",
            "        -0.0191, -0.0118, -0.0330,  0.0443, -0.0144, -0.0258, -0.0401, -0.0316,\n",
            "         0.0284,  0.0334,  0.0075, -0.0444, -0.0477, -0.0182, -0.0170, -0.0190,\n",
            "        -0.0163, -0.0279, -0.0349,  0.0035, -0.0400, -0.0317, -0.0016,  0.0015,\n",
            "         0.0436, -0.0034,  0.0314, -0.0055,  0.0237, -0.0089,  0.0256,  0.0277,\n",
            "        -0.0481,  0.0012,  0.0010,  0.0096, -0.0472, -0.0495, -0.0400, -0.0047,\n",
            "         0.0345, -0.0277, -0.0216, -0.0290,  0.0261,  0.0368,  0.0033,  0.0269,\n",
            "         0.0461, -0.0069, -0.0212, -0.0286,  0.0359,  0.0303, -0.0336,  0.0286,\n",
            "         0.0226,  0.0231,  0.0172, -0.0077,  0.0228, -0.0317, -0.0057,  0.0200,\n",
            "         0.0196, -0.0247, -0.0427,  0.0248, -0.0250,  0.0274, -0.0473, -0.0432,\n",
            "         0.0465,  0.0449, -0.0165,  0.0297,  0.0328, -0.0133,  0.0391,  0.0355,\n",
            "         0.0485, -0.0063, -0.0442, -0.0260, -0.0080, -0.0207,  0.0316,  0.0417,\n",
            "         0.0384,  0.0112, -0.0234, -0.0303, -0.0059, -0.0286,  0.0399, -0.0384,\n",
            "        -0.0390, -0.0290, -0.0329, -0.0307,  0.0183, -0.0207, -0.0320,  0.0365],\n",
            "       requires_grad=True)\n",
            "Parameter containing:\n",
            "tensor([[-0.0371,  0.0817,  0.0687,  ..., -0.0570,  0.0406, -0.0083],\n",
            "        [ 0.0591, -0.0907, -0.0863,  ..., -0.0754,  0.0787, -0.0542],\n",
            "        [-0.0385, -0.0518,  0.0064,  ...,  0.0870,  0.0634, -0.0167],\n",
            "        ...,\n",
            "        [-0.0752,  0.0148, -0.0138,  ...,  0.0169,  0.0578, -0.0175],\n",
            "        [ 0.0579, -0.0846, -0.0538,  ..., -0.0163,  0.0133,  0.0372],\n",
            "        [-0.0691, -0.0808,  0.0382,  ..., -0.0006, -0.0693, -0.0764]],\n",
            "       requires_grad=True)\n",
            "Parameter containing:\n",
            "tensor([ 0.0058,  0.0849,  0.0859, -0.0189,  0.0273, -0.0852, -0.0591,  0.0678,\n",
            "         0.0148,  0.0224,  0.0103, -0.0367,  0.0740,  0.0870,  0.0377,  0.0854,\n",
            "         0.0274,  0.0690, -0.0584,  0.0318, -0.0649, -0.0117, -0.0593,  0.0311,\n",
            "        -0.0852, -0.0268, -0.0367,  0.0592, -0.0653, -0.0452,  0.0764,  0.0387,\n",
            "         0.0709,  0.0839, -0.0556,  0.0249, -0.0682, -0.0311, -0.0149, -0.0454,\n",
            "         0.0190,  0.0133,  0.0189,  0.0501, -0.0112,  0.0732, -0.0066,  0.0625,\n",
            "         0.0711,  0.0843, -0.0440, -0.0322, -0.0702, -0.0380,  0.0840, -0.0104,\n",
            "        -0.0479, -0.0699, -0.0730, -0.0506,  0.0307, -0.0485, -0.0318, -0.0764,\n",
            "        -0.0815, -0.0529, -0.0844, -0.0059, -0.0318, -0.0430, -0.0552,  0.0333,\n",
            "         0.0385, -0.0173,  0.0355,  0.0825, -0.0293, -0.0550,  0.0566, -0.0207,\n",
            "        -0.0371,  0.0593,  0.0267, -0.0664], requires_grad=True)\n",
            "Parameter containing:\n",
            "tensor([[ 0.0248,  0.0496,  0.1048, -0.0526,  0.0552, -0.0156,  0.0163, -0.1028,\n",
            "         -0.0987,  0.0589,  0.0010,  0.0489, -0.0655,  0.0836, -0.0392, -0.0669,\n",
            "          0.0943, -0.0640, -0.0646, -0.0934,  0.0483, -0.0124, -0.0031,  0.0337,\n",
            "         -0.0306,  0.0181, -0.0586, -0.0257,  0.0614,  0.0329,  0.0728,  0.1024,\n",
            "          0.0769, -0.0391, -0.0918, -0.0467, -0.0079,  0.1040,  0.0128, -0.0154,\n",
            "          0.0767,  0.0438,  0.0905,  0.0158, -0.0073,  0.0525, -0.0067, -0.0647,\n",
            "         -0.0306, -0.0497, -0.0082,  0.0735,  0.0210, -0.0641, -0.0340, -0.0675,\n",
            "         -0.0203, -0.0563,  0.0341, -0.0174, -0.0606,  0.0495,  0.0197,  0.0262,\n",
            "          0.0665,  0.0555, -0.0718,  0.0611, -0.0739, -0.0849,  0.1066, -0.0612,\n",
            "          0.0044,  0.0641, -0.0631, -0.0488,  0.0129, -0.0111,  0.0599,  0.0168,\n",
            "         -0.0014,  0.0162,  0.1045, -0.0783],\n",
            "        [ 0.0882,  0.0137,  0.0816,  0.0278, -0.0595,  0.1075,  0.0605, -0.0945,\n",
            "          0.0949,  0.0850,  0.0864,  0.0311,  0.0391, -0.0184,  0.0773, -0.0719,\n",
            "          0.0261,  0.0701, -0.0290,  0.0690,  0.0600,  0.0104,  0.0042, -0.0508,\n",
            "         -0.0048, -0.1056,  0.0545,  0.0531,  0.0336, -0.0486, -0.0944, -0.0654,\n",
            "          0.0298, -0.0882,  0.0780,  0.1033,  0.0648, -0.0341,  0.0122, -0.0119,\n",
            "          0.0177,  0.0067,  0.0830,  0.0863,  0.0869,  0.0604,  0.0682,  0.0734,\n",
            "          0.0846,  0.0437, -0.0695,  0.0976,  0.0220, -0.0659, -0.0099,  0.0403,\n",
            "         -0.0889, -0.0849, -0.0445,  0.0882,  0.0410,  0.0559,  0.0465,  0.0951,\n",
            "          0.0974,  0.1018,  0.0684,  0.0532,  0.0421,  0.0886, -0.1047,  0.0518,\n",
            "          0.1065,  0.0381,  0.0025, -0.0355,  0.0278, -0.0517,  0.0392, -0.0233,\n",
            "          0.0412, -0.0689, -0.0730, -0.0889],\n",
            "        [ 0.0211,  0.0628,  0.0693, -0.0847,  0.0383,  0.0297,  0.0693, -0.0705,\n",
            "         -0.0365, -0.0748,  0.0076, -0.0852,  0.0821, -0.0947,  0.0081,  0.0159,\n",
            "         -0.0058, -0.0768,  0.0460,  0.0884,  0.0024,  0.0706, -0.0973, -0.0135,\n",
            "         -0.0169,  0.0932,  0.0269, -0.0902,  0.0224,  0.0129,  0.0112,  0.0595,\n",
            "          0.0545, -0.0263,  0.0419, -0.0140, -0.0723,  0.0820,  0.0403,  0.0803,\n",
            "         -0.0726,  0.0017, -0.0765, -0.0334,  0.0872, -0.0266,  0.0411,  0.0467,\n",
            "         -0.0758,  0.0754, -0.0838,  0.0873, -0.0258, -0.1054,  0.0052,  0.1044,\n",
            "          0.0385, -0.0294,  0.0247,  0.0435, -0.0972, -0.0924, -0.0883,  0.0991,\n",
            "         -0.0663, -0.0510,  0.0565, -0.0589,  0.0159,  0.0703,  0.0290,  0.0007,\n",
            "         -0.0742, -0.0620, -0.0272,  0.1014,  0.0284,  0.0358,  0.0107,  0.0040,\n",
            "          0.0957,  0.0221,  0.0344,  0.0343],\n",
            "        [ 0.0592,  0.1049, -0.0349, -0.0202,  0.0299,  0.0612,  0.1015, -0.0460,\n",
            "          0.0150,  0.0656,  0.0492,  0.0954,  0.0042, -0.0902,  0.0111, -0.0616,\n",
            "          0.0120, -0.0602, -0.0323, -0.0048, -0.0279, -0.0516,  0.0482, -0.0748,\n",
            "          0.0679, -0.0312,  0.0778, -0.0607,  0.0754,  0.0605,  0.0722, -0.1035,\n",
            "         -0.0362, -0.0975, -0.1060, -0.0828,  0.0828, -0.0497, -0.0539, -0.0125,\n",
            "          0.0375, -0.0029, -0.0727,  0.0555,  0.0570,  0.0795,  0.0531,  0.0637,\n",
            "          0.0572,  0.0589,  0.1058, -0.0806,  0.0813, -0.0870, -0.0609, -0.0027,\n",
            "          0.0824, -0.0554,  0.0745, -0.0768, -0.0549,  0.0557,  0.0213, -0.0224,\n",
            "         -0.0928,  0.0730, -0.0739,  0.0719,  0.0562, -0.0152, -0.0026, -0.1034,\n",
            "          0.0232,  0.0055, -0.0531, -0.0987,  0.0396,  0.0292,  0.0619, -0.0272,\n",
            "         -0.1031, -0.0822, -0.0343,  0.0954],\n",
            "        [ 0.0040, -0.0493,  0.0212,  0.0647,  0.0705, -0.0557,  0.0793, -0.0454,\n",
            "         -0.0629, -0.0621, -0.0586,  0.0254,  0.0817,  0.0240, -0.0413,  0.0237,\n",
            "          0.1013, -0.0606, -0.0019, -0.0351,  0.0570, -0.0371, -0.0011, -0.0276,\n",
            "         -0.1048, -0.0766, -0.0335, -0.0390, -0.0980,  0.0408, -0.0779, -0.0918,\n",
            "          0.0603, -0.0652,  0.0758,  0.0123, -0.0990,  0.1045, -0.0989, -0.1033,\n",
            "         -0.0964,  0.0613, -0.1038, -0.0192,  0.0830, -0.0264,  0.0930, -0.0911,\n",
            "          0.0578, -0.0445, -0.0826,  0.0561, -0.0509, -0.0954,  0.0651, -0.0931,\n",
            "         -0.0746, -0.0657,  0.0456,  0.0280, -0.0925, -0.1074, -0.0916,  0.0258,\n",
            "         -0.0556, -0.0061,  0.0757, -0.0800,  0.0007, -0.0619,  0.0133,  0.1062,\n",
            "         -0.0659,  0.0780,  0.0803,  0.0844,  0.0086,  0.0840,  0.0899, -0.0879,\n",
            "         -0.0358, -0.0232,  0.0621, -0.0447],\n",
            "        [ 0.0359,  0.0852,  0.1054,  0.0382,  0.0210, -0.0368,  0.0491, -0.0443,\n",
            "          0.0771, -0.0022, -0.0886,  0.0879, -0.0399,  0.0714, -0.0201,  0.1035,\n",
            "          0.1042,  0.0694, -0.0221,  0.0005, -0.0487,  0.0003,  0.0991,  0.0182,\n",
            "          0.0800, -0.0938,  0.0539, -0.0963,  0.0380, -0.1066, -0.0198, -0.0787,\n",
            "         -0.0558,  0.1086, -0.0277,  0.0586, -0.0358, -0.0492, -0.1051, -0.0162,\n",
            "          0.1058, -0.0468, -0.0245, -0.0906, -0.1037,  0.1050,  0.0538, -0.0845,\n",
            "          0.0806, -0.0374,  0.0376, -0.0050,  0.0191, -0.1032, -0.0361, -0.0882,\n",
            "          0.1031,  0.0382,  0.0413,  0.0600, -0.0701,  0.0848,  0.0677,  0.0486,\n",
            "          0.1051,  0.0244, -0.0405,  0.0713, -0.0040, -0.0774, -0.0025, -0.0208,\n",
            "         -0.0905, -0.0729,  0.0716, -0.0087,  0.0324, -0.0742, -0.0241,  0.0251,\n",
            "          0.1058, -0.0039,  0.0158, -0.1049],\n",
            "        [-0.0628, -0.0878,  0.0763,  0.0617,  0.0888, -0.0173,  0.0895,  0.0249,\n",
            "          0.0028,  0.0626,  0.0481,  0.0865,  0.0291, -0.0398,  0.0417,  0.0020,\n",
            "          0.0213,  0.0773,  0.0729, -0.0516,  0.0983,  0.0902, -0.0495,  0.0275,\n",
            "         -0.0764, -0.0047, -0.0669,  0.1046, -0.1020, -0.0022, -0.0765, -0.0040,\n",
            "         -0.1071, -0.0907,  0.0941, -0.0012,  0.0884, -0.0856, -0.0452,  0.1071,\n",
            "         -0.0486, -0.0602,  0.0889, -0.0834,  0.0450, -0.0998,  0.0317,  0.0055,\n",
            "         -0.1032,  0.0982, -0.0634, -0.0558,  0.1079, -0.0984, -0.0051,  0.0962,\n",
            "         -0.0767, -0.0544, -0.0041, -0.0942,  0.1025, -0.0020, -0.0915, -0.0235,\n",
            "         -0.0664,  0.0918,  0.0847,  0.0366, -0.0087,  0.1066,  0.0862,  0.0393,\n",
            "         -0.0934, -0.0306, -0.0805,  0.0355,  0.0673,  0.0745, -0.0246, -0.0379,\n",
            "          0.0593,  0.0546,  0.1086, -0.0660],\n",
            "        [ 0.1021, -0.0642,  0.0284, -0.0675, -0.1070,  0.0793,  0.0111,  0.0355,\n",
            "         -0.0357, -0.0184, -0.0397, -0.0551,  0.0942, -0.0625, -0.0048, -0.0386,\n",
            "         -0.1089,  0.0570,  0.1077, -0.0330, -0.0978,  0.0119, -0.0699, -0.0238,\n",
            "         -0.0631, -0.0103,  0.0035, -0.0923, -0.0942, -0.0357,  0.0766, -0.0189,\n",
            "         -0.0281, -0.0299, -0.0730, -0.0560, -0.0871, -0.1007,  0.0981, -0.0694,\n",
            "         -0.0293,  0.0322, -0.0315,  0.0487,  0.0935,  0.0130,  0.0965, -0.0375,\n",
            "         -0.0071, -0.0246,  0.0337, -0.0683,  0.1067,  0.0162, -0.0884,  0.1023,\n",
            "         -0.0524,  0.0434, -0.0031, -0.0372, -0.0488, -0.0936,  0.0193,  0.0174,\n",
            "          0.1028,  0.0344, -0.0675,  0.0182,  0.0852,  0.0666,  0.0953, -0.0364,\n",
            "          0.0892,  0.0258,  0.0221, -0.0710, -0.0403,  0.0120, -0.1073,  0.0456,\n",
            "         -0.0709, -0.0186, -0.0657,  0.0840],\n",
            "        [-0.0155,  0.0614,  0.0309,  0.0086, -0.0071,  0.0882, -0.0411,  0.0810,\n",
            "          0.1007, -0.0145, -0.0551,  0.0885, -0.0476,  0.0442, -0.0037, -0.0530,\n",
            "          0.0212,  0.0731, -0.0790, -0.0987, -0.0694, -0.0940, -0.1004,  0.0321,\n",
            "          0.0711, -0.1020,  0.0809,  0.0850, -0.0105, -0.0428,  0.0824,  0.0646,\n",
            "         -0.0827, -0.0709,  0.0913,  0.0088, -0.0296, -0.0325,  0.1031, -0.0141,\n",
            "          0.0949,  0.0054, -0.0139, -0.0252,  0.0315,  0.0637,  0.0267,  0.0253,\n",
            "         -0.0564, -0.0872, -0.0508,  0.0945,  0.0975,  0.0177,  0.0940, -0.0738,\n",
            "         -0.0525, -0.0044, -0.0806,  0.0858, -0.0377, -0.0672,  0.1069, -0.0107,\n",
            "         -0.0811,  0.0484, -0.0447, -0.0863, -0.0419,  0.0482, -0.0742,  0.0693,\n",
            "          0.0164, -0.0786,  0.0160, -0.0936,  0.0943, -0.1089, -0.0686,  0.0901,\n",
            "         -0.0554, -0.0398,  0.0504,  0.0972],\n",
            "        [ 0.0186, -0.0742,  0.0939, -0.0619,  0.0032, -0.0398,  0.0144,  0.0391,\n",
            "          0.0971, -0.1045,  0.0616, -0.0703, -0.0124,  0.0156,  0.1049, -0.1022,\n",
            "          0.0343, -0.1026,  0.0860,  0.0336, -0.0295, -0.0593,  0.0172,  0.0724,\n",
            "          0.0898,  0.0321, -0.0963, -0.0986, -0.0019,  0.0379, -0.0537,  0.0474,\n",
            "         -0.0339,  0.0696, -0.0688,  0.0789,  0.0768, -0.0309,  0.0261,  0.0124,\n",
            "         -0.0040, -0.0936, -0.0479, -0.0150, -0.0706, -0.0253, -0.1053,  0.0656,\n",
            "          0.0729,  0.0296,  0.0949, -0.0721,  0.0266, -0.0155, -0.0430,  0.0036,\n",
            "         -0.0411, -0.0384,  0.0130, -0.0367,  0.0120, -0.0739,  0.0287, -0.0913,\n",
            "          0.0911,  0.1081,  0.0193,  0.0790, -0.0005, -0.0344,  0.0530,  0.0209,\n",
            "          0.0620, -0.0369,  0.1019,  0.0579, -0.1069,  0.0029,  0.0717, -0.0314,\n",
            "          0.0436,  0.0081, -0.0750, -0.0623]], requires_grad=True)\n",
            "Parameter containing:\n",
            "tensor([ 0.0363, -0.1061,  0.0859,  0.0742, -0.0242, -0.0972,  0.0560, -0.0302,\n",
            "         0.0280, -0.0756], requires_grad=True)\n"
          ]
        }
      ],
      "source": [
        "for p in model.parameters():\n",
        "    print(p)"
      ]
    },
    {
      "cell_type": "markdown",
      "metadata": {
        "id": "H9tlk31EjGJ7"
      },
      "source": [
        "## Define loss function & optimizer"
      ]
    },
    {
      "cell_type": "code",
      "execution_count": null,
      "metadata": {
        "id": "Q6tNwh6ojGJ7"
      },
      "outputs": [],
      "source": [
        "criterion = nn.CrossEntropyLoss()\n",
        "optimizer = torch.optim.Adam(model.parameters(), lr=0.001)"
      ]
    },
    {
      "cell_type": "markdown",
      "metadata": {
        "id": "WaiJxugDjGJ7"
      },
      "source": [
        "## Train the model\n",
        "This time we'll feed the data directly into the model without flattening it first."
      ]
    },
    {
      "cell_type": "code",
      "execution_count": null,
      "metadata": {
        "colab": {
          "base_uri": "https://localhost:8080/"
        },
        "id": "PrprACyPjGJ7",
        "outputId": "49a3d96b-d973-4e7b-f4b5-77f0825687b7"
      },
      "outputs": [
        {
          "name": "stdout",
          "output_type": "stream",
          "text": [
            "epoch:  0  batch:  600 [  6000/60000]  loss: 0.04055623  accuracy:  78.417%\n",
            "epoch:  0  batch: 1200 [ 12000/60000]  loss: 0.08253475  accuracy:  85.800%\n",
            "epoch:  0  batch: 1800 [ 18000/60000]  loss: 0.36422682  accuracy:  88.689%\n",
            "epoch:  0  batch: 2400 [ 24000/60000]  loss: 0.01856371  accuracy:  90.537%\n",
            "epoch:  0  batch: 3000 [ 30000/60000]  loss: 0.00725011  accuracy:  91.680%\n",
            "epoch:  0  batch: 3600 [ 36000/60000]  loss: 0.00283015  accuracy:  92.519%\n",
            "epoch:  0  batch: 4200 [ 42000/60000]  loss: 0.60603589  accuracy:  93.176%\n",
            "epoch:  0  batch: 4800 [ 48000/60000]  loss: 0.02749655  accuracy:  93.650%\n",
            "epoch:  0  batch: 5400 [ 54000/60000]  loss: 0.00948194  accuracy:  94.059%\n",
            "epoch:  0  batch: 6000 [ 60000/60000]  loss: 0.03380714  accuracy:  94.368%\n",
            "epoch:  1  batch:  600 [  6000/60000]  loss: 0.01744066  accuracy:  97.800%\n",
            "epoch:  1  batch: 1200 [ 12000/60000]  loss: 0.08224805  accuracy:  97.858%\n",
            "epoch:  1  batch: 1800 [ 18000/60000]  loss: 0.00148837  accuracy:  97.922%\n",
            "epoch:  1  batch: 2400 [ 24000/60000]  loss: 0.03892452  accuracy:  97.908%\n",
            "epoch:  1  batch: 3000 [ 30000/60000]  loss: 0.23631534  accuracy:  97.913%\n",
            "epoch:  1  batch: 3600 [ 36000/60000]  loss: 0.00719002  accuracy:  97.917%\n",
            "epoch:  1  batch: 4200 [ 42000/60000]  loss: 0.00081779  accuracy:  97.967%\n",
            "epoch:  1  batch: 4800 [ 48000/60000]  loss: 0.00047559  accuracy:  97.973%\n",
            "epoch:  1  batch: 5400 [ 54000/60000]  loss: 0.00102606  accuracy:  98.007%\n",
            "epoch:  1  batch: 6000 [ 60000/60000]  loss: 0.00889997  accuracy:  97.997%\n",
            "epoch:  2  batch:  600 [  6000/60000]  loss: 0.00125262  accuracy:  98.867%\n",
            "epoch:  2  batch: 1200 [ 12000/60000]  loss: 0.00107353  accuracy:  98.700%\n",
            "epoch:  2  batch: 1800 [ 18000/60000]  loss: 0.00093263  accuracy:  98.567%\n",
            "epoch:  2  batch: 2400 [ 24000/60000]  loss: 0.00145269  accuracy:  98.596%\n",
            "epoch:  2  batch: 3000 [ 30000/60000]  loss: 0.20147710  accuracy:  98.567%\n",
            "epoch:  2  batch: 3600 [ 36000/60000]  loss: 0.00430662  accuracy:  98.564%\n",
            "epoch:  2  batch: 4200 [ 42000/60000]  loss: 0.01144652  accuracy:  98.560%\n",
            "epoch:  2  batch: 4800 [ 48000/60000]  loss: 0.00668563  accuracy:  98.550%\n",
            "epoch:  2  batch: 5400 [ 54000/60000]  loss: 0.00023689  accuracy:  98.552%\n",
            "epoch:  2  batch: 6000 [ 60000/60000]  loss: 0.00006939  accuracy:  98.538%\n",
            "epoch:  3  batch:  600 [  6000/60000]  loss: 0.00036379  accuracy:  98.683%\n",
            "epoch:  3  batch: 1200 [ 12000/60000]  loss: 0.00138055  accuracy:  98.825%\n",
            "epoch:  3  batch: 1800 [ 18000/60000]  loss: 0.00021015  accuracy:  98.817%\n",
            "epoch:  3  batch: 2400 [ 24000/60000]  loss: 0.00032555  accuracy:  98.779%\n",
            "epoch:  3  batch: 3000 [ 30000/60000]  loss: 0.00516063  accuracy:  98.767%\n",
            "epoch:  3  batch: 3600 [ 36000/60000]  loss: 0.00131230  accuracy:  98.767%\n",
            "epoch:  3  batch: 4200 [ 42000/60000]  loss: 0.00046353  accuracy:  98.790%\n",
            "epoch:  3  batch: 4800 [ 48000/60000]  loss: 0.00810993  accuracy:  98.800%\n",
            "epoch:  3  batch: 5400 [ 54000/60000]  loss: 0.00368885  accuracy:  98.811%\n",
            "epoch:  3  batch: 6000 [ 60000/60000]  loss: 0.01715268  accuracy:  98.803%\n",
            "epoch:  4  batch:  600 [  6000/60000]  loss: 0.00137063  accuracy:  99.000%\n",
            "epoch:  4  batch: 1200 [ 12000/60000]  loss: 0.06478171  accuracy:  99.092%\n",
            "epoch:  4  batch: 1800 [ 18000/60000]  loss: 0.00011937  accuracy:  99.022%\n",
            "epoch:  4  batch: 2400 [ 24000/60000]  loss: 0.00043396  accuracy:  99.050%\n",
            "epoch:  4  batch: 3000 [ 30000/60000]  loss: 0.00350087  accuracy:  99.030%\n",
            "epoch:  4  batch: 3600 [ 36000/60000]  loss: 0.00420549  accuracy:  99.036%\n",
            "epoch:  4  batch: 4200 [ 42000/60000]  loss: 0.07098045  accuracy:  99.057%\n",
            "epoch:  4  batch: 4800 [ 48000/60000]  loss: 0.00058453  accuracy:  99.050%\n",
            "epoch:  4  batch: 5400 [ 54000/60000]  loss: 0.00032505  accuracy:  99.004%\n",
            "epoch:  4  batch: 6000 [ 60000/60000]  loss: 0.00131258  accuracy:  99.005%\n",
            "\n",
            "Duration: 196 seconds\n"
          ]
        }
      ],
      "source": [
        "import time\n",
        "start_time = time.time()\n",
        "\n",
        "epochs = 5\n",
        "train_losses = []\n",
        "test_losses = []\n",
        "train_correct = []\n",
        "test_correct = []\n",
        "\n",
        "for i in range(epochs):\n",
        "    trn_corr = 0\n",
        "    tst_corr = 0\n",
        "    \n",
        "    # Run the training batches\n",
        "    for b, (X_train, y_train) in enumerate(train_loader):\n",
        "        b+=1\n",
        "        \n",
        "        # Apply the model\n",
        "        y_pred = model(X_train)  # we don't flatten X-train here\n",
        "        loss = criterion(y_pred, y_train)\n",
        " \n",
        "        # Tally the number of correct predictions\n",
        "        predicted = torch.max(y_pred.data, 1)[1]\n",
        "        batch_corr = (predicted == y_train).sum()\n",
        "        trn_corr += batch_corr\n",
        "        \n",
        "        # Update parameters\n",
        "        optimizer.zero_grad()\n",
        "        loss.backward()\n",
        "        optimizer.step()\n",
        "        \n",
        "        # Print interim results\n",
        "        if b%600 == 0:\n",
        "            print(f'epoch: {i:2}  batch: {b:4} [{10*b:6}/60000]  loss: {loss.item():10.8f}  \\\n",
        "accuracy: {trn_corr.item()*100/(10*b):7.3f}%')\n",
        "        \n",
        "    train_losses.append(loss.item())\n",
        "    train_correct.append(trn_corr)\n",
        "        \n",
        "    # Run the testing batches\n",
        "    with torch.no_grad():\n",
        "        for b, (X_test, y_test) in enumerate(test_loader):\n",
        "\n",
        "            # Apply the model\n",
        "            y_val = model(X_test)\n",
        "\n",
        "            # Tally the number of correct predictions\n",
        "            predicted = torch.max(y_val.data, 1)[1] \n",
        "            tst_corr += (predicted == y_test).sum()\n",
        "            \n",
        "    loss = criterion(y_val, y_test)\n",
        "    test_losses.append(loss.item())\n",
        "    test_correct.append(tst_corr)\n",
        "        \n",
        "print(f'\\nDuration: {time.time() - start_time:.0f} seconds') # print the time elapsed            "
      ]
    },
    {
      "cell_type": "markdown",
      "metadata": {
        "id": "X6xbM8itjGJ8"
      },
      "source": [
        "## Plot the loss and accuracy comparisons"
      ]
    },
    {
      "cell_type": "code",
      "execution_count": null,
      "metadata": {
        "colab": {
          "base_uri": "https://localhost:8080/",
          "height": 281
        },
        "id": "qvV83_9ljGJ8",
        "outputId": "ba7b5792-3824-42f7-8ad2-500ced1f5e8f"
      },
      "outputs": [
        {
          "data": {
            "image/png": "[encoded data removed]",
            "text/plain": [
              "<Figure size 432x288 with 1 Axes>"
            ]
          },
          "metadata": {
            "needs_background": "light"
          },
          "output_type": "display_data"
        }
      ],
      "source": [
        "plt.plot(train_losses, label='training loss')\n",
        "plt.plot(test_losses, label='validation loss')\n",
        "plt.title('Loss at the end of each epoch')\n",
        "plt.legend();"
      ]
    },
    {
      "cell_type": "code",
      "execution_count": null,
      "metadata": {
        "colab": {
          "base_uri": "https://localhost:8080/"
        },
        "id": "KKlOCFdQjGJ9",
        "outputId": "3a66bb8c-7c0b-4d20-f831-9291d99b3c56"
      },
      "outputs": [
        {
          "data": {
            "text/plain": [
              "[0.001936012296937406,\n",
              " 0.0008001286769285798,\n",
              " 0.0001972642494365573,\n",
              " 5.5666721891611814e-05,\n",
              " 4.9226782721234486e-05]"
            ]
          },
          "execution_count": 40,
          "metadata": {},
          "output_type": "execute_result"
        }
      ],
      "source": [
        "test_losses"
      ]
    },
    {
      "cell_type": "markdown",
      "metadata": {
        "id": "pStHRXHmjGJ9"
      },
      "source": [
        "While there may be some overfitting of the training data, there is far less than we saw with the ANN model."
      ]
    },
    {
      "cell_type": "code",
      "execution_count": null,
      "metadata": {
        "colab": {
          "base_uri": "https://localhost:8080/",
          "height": 281
        },
        "id": "BrqPwyybjGJ9",
        "outputId": "b50192c6-8e87-492e-c49b-66b9d210c7aa"
      },
      "outputs": [
        {
          "data": {
            "image/png": "[encoded data removed]",
            "text/plain": [
              "<Figure size 432x288 with 1 Axes>"
            ]
          },
          "metadata": {
            "needs_background": "light"
          },
          "output_type": "display_data"
        }
      ],
      "source": [
        "plt.plot([t/600 for t in train_correct], label='training accuracy')\n",
        "plt.plot([t/100 for t in test_correct], label='validation accuracy')\n",
        "plt.title('Accuracy at the end of each epoch')\n",
        "plt.legend();"
      ]
    },
    {
      "cell_type": "code",
      "execution_count": null,
      "metadata": {
        "colab": {
          "base_uri": "https://localhost:8080/"
        },
        "id": "Qp5U7FIEjGJ9",
        "outputId": "b38e2c33-e270-45e2-f717-b74c8237a593"
      },
      "outputs": [
        {
          "data": {
            "text/plain": [
              "tensor(56621)"
            ]
          },
          "execution_count": 42,
          "metadata": {},
          "output_type": "execute_result"
        }
      ],
      "source": [
        "train_correct[0]"
      ]
    },
    {
      "cell_type": "code",
      "execution_count": null,
      "metadata": {
        "colab": {
          "base_uri": "https://localhost:8080/"
        },
        "id": "vqz5Zdi3jGJ-",
        "outputId": "e059fa58-cb5d-4ef9-b5d6-c80649041963"
      },
      "outputs": [
        {
          "data": {
            "text/plain": [
              "6000"
            ]
          },
          "execution_count": 43,
          "metadata": {},
          "output_type": "execute_result"
        }
      ],
      "source": [
        "len(train_loader)"
      ]
    },
    {
      "cell_type": "code",
      "execution_count": null,
      "metadata": {
        "colab": {
          "base_uri": "https://localhost:8080/"
        },
        "id": "xq5BpQh-jGJ-",
        "outputId": "826a543e-e95e-460e-b800-def9b6ecc65e"
      },
      "outputs": [
        {
          "data": {
            "text/plain": [
              "array(94.36833, dtype=float32)"
            ]
          },
          "execution_count": 44,
          "metadata": {},
          "output_type": "execute_result"
        }
      ],
      "source": [
        "temp = 100*train_correct[0]/(len(train_loader)*10)\n",
        "temp.numpy() # converts tensor to numpy array"
      ]
    },
    {
      "cell_type": "markdown",
      "metadata": {
        "id": "KbwnsbayjGJ-"
      },
      "source": [
        "## Evaluate Test Data"
      ]
    },
    {
      "cell_type": "code",
      "execution_count": null,
      "metadata": {
        "id": "OvUKuJGdjGJ_"
      },
      "outputs": [],
      "source": [
        "# Extract the data all at once, not in batches\n",
        "test_load_all = DataLoader(test_data, batch_size=10000, shuffle=False)"
      ]
    },
    {
      "cell_type": "code",
      "execution_count": null,
      "metadata": {
        "colab": {
          "base_uri": "https://localhost:8080/"
        },
        "id": "9OtTGWzljGJ_",
        "outputId": "75f1a56b-15d4-4d56-b037-4e65300979c6"
      },
      "outputs": [
        {
          "name": "stdout",
          "output_type": "stream",
          "text": [
            "Test accuracy: 9863/10000 =  98.630%\n"
          ]
        }
      ],
      "source": [
        "with torch.no_grad():\n",
        "    correct = 0\n",
        "    for X_test, y_test in test_load_all:\n",
        "        y_val = model(X_test)  # we don't flatten the data this time\n",
        "        predicted = torch.max(y_val,1)[1]\n",
        "        correct += (predicted == y_test).sum()\n",
        "print(f'Test accuracy: {correct.item()}/{len(test_data)} = {correct.item()*100/(len(test_data)):7.3f}%')"
      ]
    },
    {
      "cell_type": "markdown",
      "metadata": {
        "id": "EEpjspfsjGJ_"
      },
      "source": [
        "## Display the confusion matrix"
      ]
    },
    {
      "cell_type": "code",
      "execution_count": null,
      "metadata": {
        "colab": {
          "base_uri": "https://localhost:8080/"
        },
        "id": "VGr_o1h8jGJ_",
        "outputId": "5a96f6ca-55e1-4644-ab2b-59fd0c115670"
      },
      "outputs": [
        {
          "name": "stdout",
          "output_type": "stream",
          "text": [
            "[[   0    1    2    3    4    5    6    7    8    9]]\n",
            "\n",
            "[[ 972    0    1    0    0    2    6    0    4    0]\n",
            " [   0 1134    1    0    1    0    4    5    1    3]\n",
            " [   4    0 1013    1    1    0    1    3    1    1]\n",
            " [   0    0    2 1006    0   14    0    0    1    2]\n",
            " [   0    0    1    0  973    0    1    0    1    8]\n",
            " [   0    0    0    2    0  870    4    0    1    4]\n",
            " [   2    0    0    0    3    2  941    0    0    0]\n",
            " [   1    1   13    0    0    1    0 1017    2    9]\n",
            " [   0    0    1    1    0    1    1    1  961    6]\n",
            " [   1    0    0    0    4    2    0    2    2  976]]\n"
          ]
        }
      ],
      "source": [
        "# print a row of values for reference\n",
        "np.set_printoptions(formatter=dict(int=lambda x: f'{x:4}'))\n",
        "print(np.arange(10).reshape(1,10))\n",
        "print()\n",
        "\n",
        "# print the confusion matrix\n",
        "print(confusion_matrix(predicted.view(-1), y_test.view(-1)))"
      ]
    },
    {
      "cell_type": "markdown",
      "metadata": {
        "id": "HzpiufpwjGKA"
      },
      "source": [
        "## Examine the misses\n",
        "We can track the index positions of \"missed\" predictions, and extract the corresponding image and label. We'll do this in batches to save screen space."
      ]
    },
    {
      "cell_type": "code",
      "execution_count": null,
      "metadata": {
        "colab": {
          "base_uri": "https://localhost:8080/"
        },
        "id": "v7K0LhJrjGKA",
        "outputId": "eb756909-7340-49db-d91a-bf0bf090607c"
      },
      "outputs": [
        {
          "data": {
            "text/plain": [
              "137"
            ]
          },
          "execution_count": 48,
          "metadata": {},
          "output_type": "execute_result"
        }
      ],
      "source": [
        "misses = np.array([])\n",
        "for i in range(len(predicted.view(-1))):\n",
        "    if predicted[i] != y_test[i]:\n",
        "        misses = np.append(misses,i).astype('int64')\n",
        "        \n",
        "# Display the number of misses\n",
        "len(misses)"
      ]
    },
    {
      "cell_type": "code",
      "execution_count": null,
      "metadata": {
        "colab": {
          "base_uri": "https://localhost:8080/"
        },
        "id": "obyOcPUMjGKA",
        "outputId": "24d3da66-bad1-4df7-b81d-c00beb8c6937"
      },
      "outputs": [
        {
          "data": {
            "text/plain": [
              "array([ 247,  320,  321,  340,  445,  471,  495,  582,  583,  659])"
            ]
          },
          "execution_count": 49,
          "metadata": {},
          "output_type": "execute_result"
        }
      ],
      "source": [
        "# Display the first 10 index positions\n",
        "misses[:10]"
      ]
    },
    {
      "cell_type": "code",
      "execution_count": null,
      "metadata": {
        "id": "6PiKMF4-jGKC"
      },
      "outputs": [],
      "source": [
        "# Set up an iterator to feed batched rows\n",
        "r = 12   # row size\n",
        "row = iter(np.array_split(misses,len(misses)//r+1))"
      ]
    },
    {
      "cell_type": "code",
      "execution_count": null,
      "metadata": {
        "colab": {
          "base_uri": "https://localhost:8080/"
        },
        "id": "bAgXiRNwjGKC",
        "outputId": "62725f34-6897-49df-f1d0-d7f476316a8f"
      },
      "outputs": [
        {
          "data": {
            "text/plain": [
              "<list_iterator at 0x7fa6116368d0>"
            ]
          },
          "execution_count": 51,
          "metadata": {},
          "output_type": "execute_result"
        }
      ],
      "source": [
        "row"
      ]
    },
    {
      "cell_type": "markdown",
      "metadata": {
        "id": "UL1nwT0fjGKC"
      },
      "source": [
        "Now that everything is set up, run and re-run the cell below to view all of the missed predictions.<br>\n",
        "Use <kbd>Ctrl+Enter</kbd> to remain on the cell between runs. You'll see a <tt>StopIteration</tt> once all the misses have been seen."
      ]
    },
    {
      "cell_type": "code",
      "execution_count": null,
      "metadata": {
        "colab": {
          "base_uri": "https://localhost:8080/",
          "height": 154
        },
        "id": "7hJy7-w2jGKC",
        "outputId": "f8d1eeb9-a49c-49da-cbdf-96a0d494ac5f"
      },
      "outputs": [
        {
          "name": "stdout",
          "output_type": "stream",
          "text": [
            "Index: [ 247  320  321  340  445  471  495  582  583  659  720  882]\n",
            "Label: [   4    9    2    5    6    9    8    8    2    2    5    9]\n",
            "Guess: [   2    8    7    3    0    7    0    2    7    7    8    7]\n"
          ]
        },
        {
          "data": {
            "image/png": "[encoded data removed]",
            "text/plain": [
              "<Figure size 720x288 with 1 Axes>"
            ]
          },
          "metadata": {
            "needs_background": "light"
          },
          "output_type": "display_data"
        }
      ],
      "source": [
        "nextrow = next(row)\n",
        "print(\"Index:\", nextrow)\n",
        "print(\"Label:\", y_test.index_select(0,torch.tensor(nextrow)).numpy())\n",
        "print(\"Guess:\", predicted.index_select(0,torch.tensor(nextrow)).numpy())\n",
        "\n",
        "images = X_test.index_select(0,torch.tensor(nextrow))\n",
        "im = make_grid(images, nrow=r)\n",
        "plt.figure(figsize=(10,4))\n",
        "plt.imshow(np.transpose(im.numpy(), (1, 2, 0)));"
      ]
    },
    {
      "cell_type": "markdown",
      "metadata": {
        "id": "gxXigrycjGKD"
      },
      "source": [
        "## Run a new image through the model\n",
        "We can also pass a single image through the model to obtain a prediction.\n",
        "Pick a number from 0 to 9999, assign it to \"x\", and we'll use that value to select a number from the MNIST test set."
      ]
    },
    {
      "cell_type": "code",
      "execution_count": null,
      "metadata": {
        "colab": {
          "base_uri": "https://localhost:8080/",
          "height": 105
        },
        "id": "A5oknCedjGKD",
        "outputId": "dccc7aa1-9225-4ce9-b8ae-f8e980ee20fc"
      },
      "outputs": [
        {
          "data": {
            "image/png": "[encoded data removed]",
            "text/plain": [
              "<Figure size 72x72 with 1 Axes>"
            ]
          },
          "metadata": {
            "needs_background": "light"
          },
          "output_type": "display_data"
        }
      ],
      "source": [
        "x = 2019\n",
        "plt.figure(figsize=(1,1))\n",
        "plt.imshow(test_data[x][0].reshape((28,28)), cmap=\"gist_yarg\");"
      ]
    },
    {
      "cell_type": "code",
      "execution_count": null,
      "metadata": {
        "colab": {
          "base_uri": "https://localhost:8080/"
        },
        "id": "AM9pOD_WjGKD",
        "outputId": "0295b681-496d-452d-8ac7-afde9aa2d00c"
      },
      "outputs": [
        {
          "name": "stdout",
          "output_type": "stream",
          "text": [
            "Predicted value: 9\n"
          ]
        }
      ],
      "source": [
        "model.eval()\n",
        "with torch.no_grad():\n",
        "    new_pred = model(test_data[x][0].view(1,1,28,28)).argmax()\n",
        "print(\"Predicted value:\",new_pred.item())\n",
        "# model.eval() vs torch.no_grad()\n",
        "# https://discuss.pytorch.org/t/model-eval-vs-with-torch-no-grad/19615"
      ]
    },
    {
      "cell_type": "markdown",
      "metadata": {
        "id": "M1mIUOKSr7pr"
      },
      "source": [
        "## save model"
      ]
    },
    {
      "cell_type": "code",
      "execution_count": null,
      "metadata": {
        "id": "K4UU0ih3r-Xg"
      },
      "outputs": [],
      "source": [
        "torch.save(model.state_dict(), 'MNIST-CNN-Model.pt')"
      ]
    },
    {
      "cell_type": "code",
      "execution_count": null,
      "metadata": {
        "colab": {
          "base_uri": "https://localhost:8080/"
        },
        "id": "OoptMo4TtTOX",
        "outputId": "c6029923-6fbf-4e24-92c0-5374ecd9b882"
      },
      "outputs": [
        {
          "data": {
            "text/plain": [
              "ConvolutionalNetwork(\n",
              "  (conv1): Conv2d(1, 6, kernel_size=(3, 3), stride=(1, 1))\n",
              "  (conv2): Conv2d(6, 16, kernel_size=(3, 3), stride=(1, 1))\n",
              "  (fc1): Linear(in_features=400, out_features=120, bias=True)\n",
              "  (fc2): Linear(in_features=120, out_features=84, bias=True)\n",
              "  (fc3): Linear(in_features=84, out_features=10, bias=True)\n",
              ")"
            ]
          },
          "execution_count": 56,
          "metadata": {},
          "output_type": "execute_result"
        }
      ],
      "source": [
        "model2 = ConvolutionalNetwork()\n",
        "model2.load_state_dict(torch.load('MNIST-CNN-Model.pt'))\n",
        "model2.eval()"
      ]
    },
    {
      "cell_type": "markdown",
      "metadata": {
        "id": "X4J2fuOSuxUQ"
      },
      "source": [
        "# CIFAR Code Along with CNN"
      ]
    },
    {
      "cell_type": "markdown",
      "metadata": {
        "id": "C2Y3gbVRzS86"
      },
      "source": [
        "The <a href='https://en.wikipedia.org/wiki/CIFAR-10'>CIFAR-10</a> dataset is similar to MNIST, except that instead of one color channel (grayscale) there are three channels (RGB).<br>\n",
        "Where an MNIST image has a size of (1,28,28), CIFAR images are (3,32,32). There are 10 categories an image may fall under:\n",
        "0. airplane\n",
        "1. automobile\n",
        "2. bird\n",
        "3. cat\n",
        "4. deer\n",
        "5. dog\n",
        "6. frog\n",
        "7. horse\n",
        "8. ship\n",
        "9. truck"
      ]
    },
    {
      "cell_type": "markdown",
      "metadata": {
        "id": "YnC1p7AVjHNI"
      },
      "source": [
        "## Perform standard imports"
      ]
    },
    {
      "cell_type": "code",
      "execution_count": null,
      "metadata": {
        "id": "FTVW2TEujHNJ"
      },
      "outputs": [],
      "source": [
        "import torch\n",
        "import torch.nn as nn\n",
        "import torch.nn.functional as F\n",
        "from torch.utils.data import DataLoader\n",
        "from torchvision import datasets, transforms\n",
        "from torchvision.utils import make_grid\n",
        "\n",
        "import numpy as np\n",
        "import pandas as pd\n",
        "import seaborn as sn  # for heatmaps\n",
        "from sklearn.metrics import confusion_matrix\n",
        "import matplotlib.pyplot as plt\n",
        "%matplotlib inline"
      ]
    },
    {
      "cell_type": "markdown",
      "metadata": {
        "id": "pbR-oQ8PjHNJ"
      },
      "source": [
        "## Load the CIFAR-10 dataset\n",
        "PyTorch makes the CIFAR-10 train and test datasets available through <a href='https://pytorch.org/docs/stable/torchvision/index.html'><tt><strong>torchvision</strong></tt></a>. The first time they're called, the datasets will be downloaded onto your computer to the path specified. From that point, torchvision will always look for a local copy before attempting another download.<br>The set contains 50,000 train and 10,000 test images.\n",
        "\n",
        "Refer to the previous section for explanations of transformations, batch sizes and <a href='https://pytorch.org/docs/stable/data.html#torch.utils.data.DataLoader'><tt><strong>DataLoader</strong></tt></a>."
      ]
    },
    {
      "cell_type": "code",
      "execution_count": null,
      "metadata": {
        "colab": {
          "base_uri": "https://localhost:8080/",
          "height": 103,
          "referenced_widgets": [
            "83c09fca85564a73ae5040fff82cdf98",
            "88e58e09897942eea1a5c6d156283ffc",
            "027bce033aef403d873b1dc8b6351c9f",
            "9d4cecb827d64084961b478e491dfe81",
            "3ead458a3bbb4a5ca785b1000cc6ccbc",
            "c24b50401ca547e99e5931e9db557d80",
            "f91ef89c457c4be2b0ea692bb1e48161",
            "86bdf93c7a1d49a897376f70e1ac8f4b",
            "a51c2898ef3f49ca87a2ed18bd416000",
            "9c8e3aefa5294a27bcbd78db007e847a",
            "ea9becb68eb24f4ababbfa8f276eb061"
          ]
        },
        "id": "1mckLwmgjHNL",
        "outputId": "6bc29cc4-a29e-4dcf-bf40-6aea56b20dfb",
        "scrolled": true
      },
      "outputs": [
        {
          "name": "stdout",
          "output_type": "stream",
          "text": [
            "Downloading https://www.cs.toronto.edu/~kriz/cifar-10-python.tar.gz to ../Data/cifar-10-python.tar.gz\n"
          ]
        },
        {
          "data": {
            "application/vnd.jupyter.widget-view+json": {
              "model_id": "83c09fca85564a73ae5040fff82cdf98",
              "version_major": 2,
              "version_minor": 0
            },
            "text/plain": [
              "  0%|          | 0/170498071 [00:00<?, ?it/s]"
            ]
          },
          "metadata": {},
          "output_type": "display_data"
        },
        {
          "name": "stdout",
          "output_type": "stream",
          "text": [
            "Extracting ../Data/cifar-10-python.tar.gz to ../Data\n",
            "Files already downloaded and verified\n"
          ]
        }
      ],
      "source": [
        "transform = transforms.ToTensor()\n",
        "\n",
        "train_data = datasets.CIFAR10(root='../Data', train=True, download=True, transform=transform)\n",
        "test_data = datasets.CIFAR10(root='../Data', train=False, download=True, transform=transform)"
      ]
    },
    {
      "cell_type": "code",
      "execution_count": null,
      "metadata": {
        "colab": {
          "base_uri": "https://localhost:8080/"
        },
        "id": "l_tPamnhjHNO",
        "outputId": "628e1d21-3a3c-4ee9-a41e-4c8c9fbfcb91"
      },
      "outputs": [
        {
          "data": {
            "text/plain": [
              "Dataset CIFAR10\n",
              "    Number of datapoints: 50000\n",
              "    Root location: ../Data\n",
              "    Split: Train\n",
              "    StandardTransform\n",
              "Transform: ToTensor()"
            ]
          },
          "execution_count": 59,
          "metadata": {},
          "output_type": "execute_result"
        }
      ],
      "source": [
        "train_data"
      ]
    },
    {
      "cell_type": "code",
      "execution_count": null,
      "metadata": {
        "colab": {
          "base_uri": "https://localhost:8080/"
        },
        "id": "OP3rQlY_jHNO",
        "outputId": "83fea03a-d562-41cc-acc5-acd861863ba7"
      },
      "outputs": [
        {
          "data": {
            "text/plain": [
              "Dataset CIFAR10\n",
              "    Number of datapoints: 10000\n",
              "    Root location: ../Data\n",
              "    Split: Test\n",
              "    StandardTransform\n",
              "Transform: ToTensor()"
            ]
          },
          "execution_count": 60,
          "metadata": {},
          "output_type": "execute_result"
        }
      ],
      "source": [
        "test_data"
      ]
    },
    {
      "cell_type": "markdown",
      "metadata": {
        "id": "bZPqMhcajHNO"
      },
      "source": [
        "### Create loaders"
      ]
    },
    {
      "cell_type": "code",
      "execution_count": null,
      "metadata": {
        "id": "JrDFz-SVjHNP"
      },
      "outputs": [],
      "source": [
        "torch.manual_seed(101)  # for reproducible results\n",
        "\n",
        "train_loader = DataLoader(train_data, batch_size=10, shuffle=True)\n",
        "test_loader = DataLoader(test_data, batch_size=10, shuffle=False)"
      ]
    },
    {
      "cell_type": "markdown",
      "metadata": {
        "id": "Av0IYWfLjHNQ"
      },
      "source": [
        "### Define strings for labels\n",
        "We can call the labels whatever we want, so long as they appear in the order of 'airplane', 'automobile', 'bird', 'cat', 'deer', 'dog', 'frog', 'horse', 'ship', 'truck'. Here we're using 5-character labels padded with spaces so that our reports line up later."
      ]
    },
    {
      "cell_type": "code",
      "execution_count": null,
      "metadata": {
        "id": "daKlrTp1jHNR"
      },
      "outputs": [],
      "source": [
        "class_names = ['plane', '  car', ' bird', '  cat', ' deer', '  dog', ' frog', 'horse', ' ship', 'truck']"
      ]
    },
    {
      "cell_type": "markdown",
      "metadata": {
        "id": "qpPXDNBVjHNR"
      },
      "source": [
        "We don't want to use the variable name \"class\" here, as it would overwrite Python's built-in keyword."
      ]
    },
    {
      "cell_type": "markdown",
      "metadata": {
        "id": "zbi30bICjHNS"
      },
      "source": [
        "## View a batch of images"
      ]
    },
    {
      "cell_type": "code",
      "execution_count": null,
      "metadata": {
        "colab": {
          "base_uri": "https://localhost:8080/",
          "height": 304
        },
        "id": "rmhpAZ0yjHNS",
        "outputId": "e37eeb51-20c8-4b7a-bc77-c4bdc00edfab"
      },
      "outputs": [
        {
          "name": "stdout",
          "output_type": "stream",
          "text": [
            "Label: [    1     5     8     1     6     1     6     3     7     9]\n",
            "Class:    car   dog  ship   car  frog   car  frog   cat horse truck\n"
          ]
        },
        {
          "data": {
            "image/png": "[encoded data removed]",
            "text/plain": [
              "<Figure size 720x288 with 1 Axes>"
            ]
          },
          "metadata": {
            "needs_background": "light"
          },
          "output_type": "display_data"
        }
      ],
      "source": [
        "np.set_printoptions(formatter=dict(int=lambda x: f'{x:5}')) # to widen the printed array\n",
        "\n",
        "# Grab the first batch of 10 images\n",
        "for images,labels in train_loader: \n",
        "    break\n",
        "\n",
        "# Print the labels\n",
        "print('Label:', labels.numpy())\n",
        "print('Class: ', *np.array([class_names[i] for i in labels]))\n",
        "\n",
        "# Print the images\n",
        "im = make_grid(images, nrow=5)  # the default nrow is 8\n",
        "plt.figure(figsize=(10,4))\n",
        "plt.imshow(np.transpose(im.numpy(), (1, 2, 0)));"
      ]
    },
    {
      "cell_type": "markdown",
      "metadata": {
        "id": "s6Z6Vtq0jHNS"
      },
      "source": [
        "## Define the model\n",
        "\n",
        "The only changes are:\n",
        "* take in 3-channel images instead of 1-channel\n",
        "* adjust the size of the fully connected input<br>\n",
        "\n",
        "Our first convolutional layer will have 3 input channels, 6 output channels, a kernel size of 3 (resulting in a 3x3 filter), and a stride length of 1 pixel.<br>These are passed in as <tt>nn.Conv2d(3,6,3,1)</tt>"
      ]
    },
    {
      "cell_type": "markdown",
      "metadata": {
        "id": "obnRoku91VXj"
      },
      "source": [
        "So how does a CNN layer actually _'works'_?  \n",
        "\n",
        "![CNN Scan](https://drive.google.com/uc?id=1JictobCPmaIX_9pm2mQewc4QiAzl0pzO \"Remember Billie Eilish above?\")  \n",
        "\n",
        "<br/>A colored image has 3 channels,  \n",
        "![RGB Image](https://drive.google.com/uc?id=1QlU04TZ6IN2IRqQJFB8m6GFJ2MmqYGhz \"https://towardsdatascience.com/a-comprehensive-guide-to-convolutional-neural-networks-the-eli5-way-3bd2b1164a53\")  \n",
        "\n",
        "<br/>A 3-channel convolution,  \n",
        "![RGB Convolution](https://drive.google.com/uc?id=1CGIqxGHjJGXr8aduPtwGd1-ikgA3WqJ5 \"https://towardsdatascience.com/a-comprehensive-introduction-to-different-types-of-convolutions-in-deep-learning-669281e58215\")  \n",
        "\n",
        "![RGB Convolution Summation](https://drive.google.com/uc?id=1fpM3NLvyjeiKF6_at0Nv4XhYPRkwH1IY \"https://towardsdatascience.com/a-comprehensive-introduction-to-different-types-of-convolutions-in-deep-learning-669281e58215\")"
      ]
    },
    {
      "cell_type": "markdown",
      "metadata": {
        "id": "U39-W77HwQpm"
      },
      "source": [
        "![image.png](data:image/png;base64,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)"
      ]
    },
    {
      "cell_type": "code",
      "execution_count": null,
      "metadata": {
        "id": "Rjs5-QVVjHNT"
      },
      "outputs": [],
      "source": [
        "class ConvolutionalNetwork(nn.Module):\n",
        "    def __init__(self):\n",
        "        super().__init__()\n",
        "        self.conv1 = nn.Conv2d(3, 6, 3, 1)  # changed from (1, 6, 5, 1)\n",
        "        self.conv2 = nn.Conv2d(6, 16, 3, 1)\n",
        "        self.fc1 = nn.Linear(6*6*16, 120)   # changed from (4*4*16) to fit 32x32 images with 3x3 filters\n",
        "        self.fc2 = nn.Linear(120,84)\n",
        "        self.fc3 = nn.Linear(84, 10)\n",
        "\n",
        "    def forward(self, X):\n",
        "        X = F.relu(self.conv1(X))\n",
        "        X = F.max_pool2d(X, 2, 2)\n",
        "        X = F.relu(self.conv2(X))\n",
        "        X = F.max_pool2d(X, 2, 2)\n",
        "        X = X.view(-1, 6*6*16)\n",
        "        X = F.relu(self.fc1(X))\n",
        "        X = F.relu(self.fc2(X))\n",
        "        X = self.fc3(X)\n",
        "        return F.log_softmax(X, dim=1)"
      ]
    },
    {
      "cell_type": "markdown",
      "metadata": {
        "id": "fCyoP-LHjHNU"
      },
      "source": [
        "<div class=\"alert alert-info\"><strong>Why <tt>(6x6x16)</tt> instead of <tt>(5x5x16)</tt>?</strong><br>\n",
        "With MNIST the kernels and pooling layers resulted in $\\;(((28−2)/2)−2)/2=5.5 \\;$ which rounds down to 5 pixels per side.<br>\n",
        "With CIFAR the result is $\\;(((32-2)/2)-2)/2 = 6.5\\;$ which rounds down to 6 pixels per side.</div>"
      ]
    },
    {
      "cell_type": "code",
      "execution_count": null,
      "metadata": {
        "colab": {
          "base_uri": "https://localhost:8080/"
        },
        "id": "TZbJLAZUjHNU",
        "outputId": "aeda4c1b-ce00-457c-b41a-92d9f1312119"
      },
      "outputs": [
        {
          "data": {
            "text/plain": [
              "ConvolutionalNetwork(\n",
              "  (conv1): Conv2d(3, 6, kernel_size=(3, 3), stride=(1, 1))\n",
              "  (conv2): Conv2d(6, 16, kernel_size=(3, 3), stride=(1, 1))\n",
              "  (fc1): Linear(in_features=576, out_features=120, bias=True)\n",
              "  (fc2): Linear(in_features=120, out_features=84, bias=True)\n",
              "  (fc3): Linear(in_features=84, out_features=10, bias=True)\n",
              ")"
            ]
          },
          "execution_count": 65,
          "metadata": {},
          "output_type": "execute_result"
        }
      ],
      "source": [
        "torch.manual_seed(101)\n",
        "model = ConvolutionalNetwork()\n",
        "model"
      ]
    },
    {
      "cell_type": "markdown",
      "metadata": {
        "id": "cNYTgWdwjHNV"
      },
      "source": [
        "Including the bias terms for each layer, the total number of parameters being trained is:<br>\n",
        "\n",
        "$\\quad\\begin{split}(3\\times6\\times3\\times3)+6+(6\\times16\\times3\\times3)+16+(576\\times120)+120+(120\\times84)+84+(84\\times10)+10 &=\\\\\n",
        "162+6+864+16+69120+120+10080+84+840+10 &= 81,302\\end{split}$<br>"
      ]
    },
    {
      "cell_type": "code",
      "execution_count": null,
      "metadata": {
        "id": "3r_3N7K8jHNV"
      },
      "outputs": [],
      "source": [
        "def count_parameters(model):\n",
        "    params = [p.numel() for p in model.parameters() if p.requires_grad]\n",
        "    for item in params:\n",
        "        print(f'{item:>6}')\n",
        "    print(f'______\\n{sum(params):>6}')"
      ]
    },
    {
      "cell_type": "code",
      "execution_count": null,
      "metadata": {
        "colab": {
          "base_uri": "https://localhost:8080/"
        },
        "id": "-nuoTmTgjHNV",
        "outputId": "c931e795-7322-4c08-db72-f764503ed452"
      },
      "outputs": [
        {
          "name": "stdout",
          "output_type": "stream",
          "text": [
            "   162\n",
            "     6\n",
            "   864\n",
            "    16\n",
            " 69120\n",
            "   120\n",
            " 10080\n",
            "    84\n",
            "   840\n",
            "    10\n",
            "______\n",
            " 81302\n"
          ]
        }
      ],
      "source": [
        "count_parameters(model)"
      ]
    },
    {
      "cell_type": "markdown",
      "metadata": {
        "id": "SZiCCEOgjHNW"
      },
      "source": [
        "## Define loss function & optimizer"
      ]
    },
    {
      "cell_type": "code",
      "execution_count": null,
      "metadata": {
        "id": "aD7XkoXZjHNW"
      },
      "outputs": [],
      "source": [
        "criterion = nn.CrossEntropyLoss()\n",
        "optimizer = torch.optim.Adam(model.parameters(), lr=0.001)"
      ]
    },
    {
      "cell_type": "markdown",
      "metadata": {
        "id": "OC4XKBZ7wnue"
      },
      "source": [
        "## Train the model"
      ]
    },
    {
      "cell_type": "code",
      "execution_count": null,
      "metadata": {
        "colab": {
          "base_uri": "https://localhost:8080/"
        },
        "id": "QtkhGp9bjHNX",
        "outputId": "9d0e2ea8-b6cd-4a4c-bae2-f0e1eb3e516b",
        "scrolled": false
      },
      "outputs": [
        {
          "name": "stdout",
          "output_type": "stream",
          "text": [
            "epoch:  0  batch: 1000 [ 10000/50000]  loss: 1.74091792  accuracy:  24.370%\n",
            "epoch:  0  batch: 2000 [ 20000/50000]  loss: 2.28505325  accuracy:  30.680%\n",
            "epoch:  0  batch: 3000 [ 30000/50000]  loss: 1.41110420  accuracy:  34.463%\n",
            "epoch:  0  batch: 4000 [ 40000/50000]  loss: 1.77556062  accuracy:  37.425%\n",
            "epoch:  0  batch: 5000 [ 50000/50000]  loss: 0.87544328  accuracy:  39.820%\n",
            "epoch:  1  batch: 1000 [ 10000/50000]  loss: 1.40881562  accuracy:  50.940%\n",
            "epoch:  1  batch: 2000 [ 20000/50000]  loss: 1.13322639  accuracy:  51.780%\n",
            "epoch:  1  batch: 3000 [ 30000/50000]  loss: 1.45552599  accuracy:  52.453%\n",
            "epoch:  1  batch: 4000 [ 40000/50000]  loss: 1.10780263  accuracy:  52.767%\n",
            "epoch:  1  batch: 5000 [ 50000/50000]  loss: 1.01513064  accuracy:  53.120%\n",
            "epoch:  2  batch: 1000 [ 10000/50000]  loss: 1.21744430  accuracy:  56.320%\n",
            "epoch:  2  batch: 2000 [ 20000/50000]  loss: 0.94388628  accuracy:  56.850%\n",
            "epoch:  2  batch: 3000 [ 30000/50000]  loss: 1.29108834  accuracy:  56.983%\n",
            "epoch:  2  batch: 4000 [ 40000/50000]  loss: 1.36637890  accuracy:  57.322%\n",
            "epoch:  2  batch: 5000 [ 50000/50000]  loss: 1.00823355  accuracy:  57.618%\n",
            "epoch:  3  batch: 1000 [ 10000/50000]  loss: 1.27289844  accuracy:  59.500%\n",
            "epoch:  3  batch: 2000 [ 20000/50000]  loss: 0.99568701  accuracy:  59.800%\n",
            "epoch:  3  batch: 3000 [ 30000/50000]  loss: 0.67097992  accuracy:  59.923%\n",
            "epoch:  3  batch: 4000 [ 40000/50000]  loss: 1.37756491  accuracy:  60.025%\n",
            "epoch:  3  batch: 5000 [ 50000/50000]  loss: 1.33198154  accuracy:  60.194%\n",
            "epoch:  4  batch: 1000 [ 10000/50000]  loss: 0.77316147  accuracy:  62.680%\n",
            "epoch:  4  batch: 2000 [ 20000/50000]  loss: 0.96285629  accuracy:  62.875%\n",
            "epoch:  4  batch: 3000 [ 30000/50000]  loss: 0.86326140  accuracy:  62.607%\n",
            "epoch:  4  batch: 4000 [ 40000/50000]  loss: 1.16941047  accuracy:  62.693%\n",
            "epoch:  4  batch: 5000 [ 50000/50000]  loss: 2.18257213  accuracy:  62.702%\n",
            "\n",
            "Duration: 217 seconds\n"
          ]
        }
      ],
      "source": [
        "import time\n",
        "start_time = time.time()\n",
        "\n",
        "epochs = 5\n",
        "train_losses = []\n",
        "test_losses = []\n",
        "train_correct = []\n",
        "test_correct = []\n",
        "\n",
        "for i in range(epochs):\n",
        "    trn_corr = 0\n",
        "    tst_corr = 0\n",
        "    \n",
        "    # Run the training batches\n",
        "    for b, (X_train, y_train) in enumerate(train_loader):\n",
        "        b+=1\n",
        "        \n",
        "        # Apply the model\n",
        "        y_pred = model(X_train)\n",
        "        loss = criterion(y_pred, y_train)\n",
        " \n",
        "        # Tally the number of correct predictions\n",
        "        predicted = torch.max(y_pred.data, 1)[1]\n",
        "        batch_corr = (predicted == y_train).sum()\n",
        "        trn_corr += batch_corr\n",
        "        \n",
        "        # Update parameters\n",
        "        optimizer.zero_grad()\n",
        "        loss.backward()\n",
        "        optimizer.step()\n",
        "        \n",
        "        # Print interim results\n",
        "        if b%1000 == 0:\n",
        "            print(f'epoch: {i:2}  batch: {b:4} [{10*b:6}/50000]  loss: {loss.item():10.8f}  \\\n",
        "accuracy: {trn_corr.item()*100/(10*b):7.3f}%')\n",
        "        \n",
        "    train_losses.append(loss.item())\n",
        "    train_correct.append(trn_corr)\n",
        "        \n",
        "    # Run the testing batches\n",
        "    with torch.no_grad():\n",
        "        for b, (X_test, y_test) in enumerate(test_loader):\n",
        "\n",
        "            # Apply the model\n",
        "            y_val = model(X_test)\n",
        "\n",
        "            # Tally the number of correct predictions\n",
        "            predicted = torch.max(y_val.data, 1)[1] \n",
        "            tst_corr += (predicted == y_test).sum()\n",
        "            \n",
        "    loss = criterion(y_val, y_test)\n",
        "    test_losses.append(loss.item())\n",
        "    test_correct.append(tst_corr)\n",
        "        \n",
        "print(f'\\nDuration: {time.time() - start_time:.0f} seconds') # print the time elapsed            "
      ]
    },
    {
      "cell_type": "markdown",
      "metadata": {
        "id": "X4g14ZYYjHNY"
      },
      "source": [
        "## Plot the loss and accuracy comparisons"
      ]
    },
    {
      "cell_type": "code",
      "execution_count": null,
      "metadata": {
        "colab": {
          "base_uri": "https://localhost:8080/",
          "height": 281
        },
        "id": "fNwdk6ZMjHNY",
        "outputId": "cab3ac0b-b636-4718-9b0c-c60a123e0f4f"
      },
      "outputs": [
        {
          "data": {
            "image/png": "[encoded data removed]",
            "text/plain": [
              "<Figure size 432x288 with 1 Axes>"
            ]
          },
          "metadata": {
            "needs_background": "light"
          },
          "output_type": "display_data"
        }
      ],
      "source": [
        "plt.plot(train_losses, label='training loss')\n",
        "plt.plot(test_losses, label='validation loss')\n",
        "plt.title('Loss at the end of each epoch')\n",
        "plt.legend();"
      ]
    },
    {
      "cell_type": "code",
      "execution_count": null,
      "metadata": {
        "colab": {
          "base_uri": "https://localhost:8080/",
          "height": 281
        },
        "id": "akZq4PXFjHNY",
        "outputId": "41b4fa9e-5872-4f9a-9d23-c607345d8494"
      },
      "outputs": [
        {
          "data": {
            "image/png": "[encoded data removed]",
            "text/plain": [
              "<Figure size 432x288 with 1 Axes>"
            ]
          },
          "metadata": {
            "needs_background": "light"
          },
          "output_type": "display_data"
        }
      ],
      "source": [
        "plt.plot([t/500 for t in train_correct], label='training accuracy')\n",
        "plt.plot([t/100 for t in test_correct], label='validation accuracy')\n",
        "plt.title('Accuracy at the end of each epoch')\n",
        "plt.legend();"
      ]
    },
    {
      "cell_type": "markdown",
      "metadata": {
        "id": "I5aUo82mjHNZ"
      },
      "source": [
        "## Evaluate Test Data"
      ]
    },
    {
      "cell_type": "code",
      "execution_count": null,
      "metadata": {
        "colab": {
          "base_uri": "https://localhost:8080/"
        },
        "id": "hiREUbhwjHNZ",
        "outputId": "ec4cca52-a7c2-4d46-9dfb-69b01b77c26a"
      },
      "outputs": [
        {
          "name": "stdout",
          "output_type": "stream",
          "text": [
            "[tensor(4893), tensor(5480), tensor(5807), tensor(5921), tensor(5954)]\n",
            "\n",
            "Test accuracy: 59.540%\n"
          ]
        }
      ],
      "source": [
        "print(test_correct) # contains the results of all 10 epochs\n",
        "print()\n",
        "print(f'Test accuracy: {test_correct[-1].item()*100/10000:.3f}%') # print the most recent result as a percent"
      ]
    },
    {
      "cell_type": "markdown",
      "metadata": {
        "id": "qb7wTjO3jHNa"
      },
      "source": [
        "## Display the confusion matrix\n",
        "In order to map predictions against ground truth, we need to run the entire test set through the model.<br>\n",
        "Also, since our model was not as accurate as with MNIST, we'll use a <a href='https://seaborn.pydata.org/generated/seaborn.heatmap.html'>heatmap</a> to better display the results."
      ]
    },
    {
      "cell_type": "code",
      "execution_count": null,
      "metadata": {
        "colab": {
          "base_uri": "https://localhost:8080/",
          "height": 388
        },
        "id": "wMZ6FENljHNa",
        "outputId": "7c6509cb-ccf3-45cb-98b2-28ccbc83ff80"
      },
      "outputs": [
        {
          "data": {
            "image/png": "[encoded data removed]",
            "text/plain": [
              "<Figure size 648x432 with 2 Axes>"
            ]
          },
          "metadata": {
            "needs_background": "light"
          },
          "output_type": "display_data"
        }
      ],
      "source": [
        "# Create a loader for the entire the test set\n",
        "test_load_all = DataLoader(test_data, batch_size=10000, shuffle=False)\n",
        "\n",
        "with torch.no_grad():\n",
        "    correct = 0\n",
        "    for X_test, y_test in test_load_all:\n",
        "        y_val = model(X_test)\n",
        "        predicted = torch.max(y_val,1)[1]\n",
        "        correct += (predicted == y_test).sum()\n",
        "\n",
        "arr = confusion_matrix(y_test.view(-1), predicted.view(-1))\n",
        "df_cm = pd.DataFrame(arr, class_names, class_names)\n",
        "plt.figure(figsize = (9,6))\n",
        "sn.heatmap(df_cm, annot=True, fmt=\"d\", cmap='BuGn')\n",
        "plt.xlabel(\"prediction\")\n",
        "plt.ylabel(\"label (ground truth)\")\n",
        "plt.show();"
      ]
    },
    {
      "cell_type": "markdown",
      "metadata": {
        "id": "EnvYKg5VjHNb"
      },
      "source": [
        "For more info on the above chart, visit the docs on <a href='https://scikit-learn.org/stable/modules/generated/sklearn.metrics.confusion_matrix.html'>scikit-learn's confusion_matrix</a>, <a href='https://seaborn.pydata.org/generated/seaborn.heatmap.html'>seaborn heatmaps</a>, and <a href='https://matplotlib.org/3.1.0/tutorials/colors/colormaps.html'>matplotlib colormaps</a>. "
      ]
    }
  ],
  "metadata": {
    "colab": {
      "provenance": []
    },
    "kernelspec": {
      "display_name": "Python 3.9.7 ('base')",
      "language": "python",
      "name": "python3"
    },
    "language_info": {
      "name": "python",
      "version": "3.9.7"
    },
    "vscode": {
      "interpreter": {
        "hash": "981a068c3610acb4413548f03f3bf99c774b8d3a92250b4c28a67fc7f96081b8"
      }
    },
    "widgets": {
      "application/vnd.jupyter.widget-state+json": {
        "027bce033aef403d873b1dc8b6351c9f": {
          "model_module": "@jupyter-widgets/controls",
          "model_module_version": "1.5.0",
          "model_name": "FloatProgressModel",
          "state": {
            "_dom_classes": [],
            "_model_module": "@jupyter-widgets/controls",
            "_model_module_version": "1.5.0",
            "_model_name": "FloatProgressModel",
            "_view_count": null,
            "_view_module": "@jupyter-widgets/controls",
            "_view_module_version": "1.5.0",
            "_view_name": "ProgressView",
            "bar_style": "success",
            "description": "",
            "description_tooltip": null,
            "layout": "IPY_MODEL_86bdf93c7a1d49a897376f70e1ac8f4b",
            "max": 170498071,
            "min": 0,
            "orientation": "horizontal",
            "style": "IPY_MODEL_a51c2898ef3f49ca87a2ed18bd416000",
            "value": 170498071
          }
        },
        "03c3f6deb9b04f44b2845d5b853242d7": {
          "model_module": "@jupyter-widgets/base",
          "model_module_version": "1.2.0",
          "model_name": "LayoutModel",
          "state": {
            "_model_module": "@jupyter-widgets/base",
            "_model_module_version": "1.2.0",
            "_model_name": "LayoutModel",
            "_view_count": null,
            "_view_module": "@jupyter-widgets/base",
            "_view_module_version": "1.2.0",
            "_view_name": "LayoutView",
            "align_content": null,
            "align_items": null,
            "align_self": null,
            "border": null,
            "bottom": null,
            "display": null,
            "flex": null,
            "flex_flow": null,
            "grid_area": null,
            "grid_auto_columns": null,
            "grid_auto_flow": null,
            "grid_auto_rows": null,
            "grid_column": null,
            "grid_gap": null,
            "grid_row": null,
            "grid_template_areas": null,
            "grid_template_columns": null,
            "grid_template_rows": null,
            "height": null,
            "justify_content": null,
            "justify_items": null,
            "left": null,
            "margin": null,
            "max_height": null,
            "max_width": null,
            "min_height": null,
            "min_width": null,
            "object_fit": null,
            "object_position": null,
            "order": null,
            "overflow": null,
            "overflow_x": null,
            "overflow_y": null,
            "padding": null,
            "right": null,
            "top": null,
            "visibility": null,
            "width": null
          }
        },
        "0601c774ac294afd915511900e910809": {
          "model_module": "@jupyter-widgets/controls",
          "model_module_version": "1.5.0",
          "model_name": "DescriptionStyleModel",
          "state": {
            "_model_module": "@jupyter-widgets/controls",
            "_model_module_version": "1.5.0",
            "_model_name": "DescriptionStyleModel",
            "_view_count": null,
            "_view_module": "@jupyter-widgets/base",
            "_view_module_version": "1.2.0",
            "_view_name": "StyleView",
            "description_width": ""
          }
        },
        "0bed057fbb044e2faba5e8bfda7f9b1d": {
          "model_module": "@jupyter-widgets/base",
          "model_module_version": "1.2.0",
          "model_name": "LayoutModel",
          "state": {
            "_model_module": "@jupyter-widgets/base",
            "_model_module_version": "1.2.0",
            "_model_name": "LayoutModel",
            "_view_count": null,
            "_view_module": "@jupyter-widgets/base",
            "_view_module_version": "1.2.0",
            "_view_name": "LayoutView",
            "align_content": null,
            "align_items": null,
            "align_self": null,
            "border": null,
            "bottom": null,
            "display": null,
            "flex": null,
            "flex_flow": null,
            "grid_area": null,
            "grid_auto_columns": null,
            "grid_auto_flow": null,
            "grid_auto_rows": null,
            "grid_column": null,
            "grid_gap": null,
            "grid_row": null,
            "grid_template_areas": null,
            "grid_template_columns": null,
            "grid_template_rows": null,
            "height": null,
            "justify_content": null,
            "justify_items": null,
            "left": null,
            "margin": null,
            "max_height": null,
            "max_width": null,
            "min_height": null,
            "min_width": null,
            "object_fit": null,
            "object_position": null,
            "order": null,
            "overflow": null,
            "overflow_x": null,
            "overflow_y": null,
            "padding": null,
            "right": null,
            "top": null,
            "visibility": null,
            "width": null
          }
        },
        "0d7190fa3e3a4ddc921c5daf7d2be809": {
          "model_module": "@jupyter-widgets/base",
          "model_module_version": "1.2.0",
          "model_name": "LayoutModel",
          "state": {
            "_model_module": "@jupyter-widgets/base",
            "_model_module_version": "1.2.0",
            "_model_name": "LayoutModel",
            "_view_count": null,
            "_view_module": "@jupyter-widgets/base",
            "_view_module_version": "1.2.0",
            "_view_name": "LayoutView",
            "align_content": null,
            "align_items": null,
            "align_self": null,
            "border": null,
            "bottom": null,
            "display": null,
            "flex": null,
            "flex_flow": null,
            "grid_area": null,
            "grid_auto_columns": null,
            "grid_auto_flow": null,
            "grid_auto_rows": null,
            "grid_column": null,
            "grid_gap": null,
            "grid_row": null,
            "grid_template_areas": null,
            "grid_template_columns": null,
            "grid_template_rows": null,
            "height": null,
            "justify_content": null,
            "justify_items": null,
            "left": null,
            "margin": null,
            "max_height": null,
            "max_width": null,
            "min_height": null,
            "min_width": null,
            "object_fit": null,
            "object_position": null,
            "order": null,
            "overflow": null,
            "overflow_x": null,
            "overflow_y": null,
            "padding": null,
            "right": null,
            "top": null,
            "visibility": null,
            "width": null
          }
        },
        "1053661193a641e4bc952ea39c27a52d": {
          "model_module": "@jupyter-widgets/controls",
          "model_module_version": "1.5.0",
          "model_name": "ProgressStyleModel",
          "state": {
            "_model_module": "@jupyter-widgets/controls",
            "_model_module_version": "1.5.0",
            "_model_name": "ProgressStyleModel",
            "_view_count": null,
            "_view_module": "@jupyter-widgets/base",
            "_view_module_version": "1.2.0",
            "_view_name": "StyleView",
            "bar_color": null,
            "description_width": ""
          }
        },
        "1e168a93460d4e95bd10ac8a3e334ca3": {
          "model_module": "@jupyter-widgets/controls",
          "model_module_version": "1.5.0",
          "model_name": "DescriptionStyleModel",
          "state": {
            "_model_module": "@jupyter-widgets/controls",
            "_model_module_version": "1.5.0",
            "_model_name": "DescriptionStyleModel",
            "_view_count": null,
            "_view_module": "@jupyter-widgets/base",
            "_view_module_version": "1.2.0",
            "_view_name": "StyleView",
            "description_width": ""
          }
        },
        "316caeb6c5ff484a8b6dfc57fa0f7492": {
          "model_module": "@jupyter-widgets/controls",
          "model_module_version": "1.5.0",
          "model_name": "HBoxModel",
          "state": {
            "_dom_classes": [],
            "_model_module": "@jupyter-widgets/controls",
            "_model_module_version": "1.5.0",
            "_model_name": "HBoxModel",
            "_view_count": null,
            "_view_module": "@jupyter-widgets/controls",
            "_view_module_version": "1.5.0",
            "_view_name": "HBoxView",
            "box_style": "",
            "children": [
              "IPY_MODEL_382599d08fa448969ebf0a218a44a9f0",
              "IPY_MODEL_41d02baa1c1542c99bceafbd54beff0f",
              "IPY_MODEL_89ede7402af04c0785a4ae73becf8b52"
            ],
            "layout": "IPY_MODEL_0bed057fbb044e2faba5e8bfda7f9b1d"
          }
        },
        "317c6123f11a4754a8d3cd7370309176": {
          "model_module": "@jupyter-widgets/controls",
          "model_module_version": "1.5.0",
          "model_name": "DescriptionStyleModel",
          "state": {
            "_model_module": "@jupyter-widgets/controls",
            "_model_module_version": "1.5.0",
            "_model_name": "DescriptionStyleModel",
            "_view_count": null,
            "_view_module": "@jupyter-widgets/base",
            "_view_module_version": "1.2.0",
            "_view_name": "StyleView",
            "description_width": ""
          }
        },
        "382599d08fa448969ebf0a218a44a9f0": {
          "model_module": "@jupyter-widgets/controls",
          "model_module_version": "1.5.0",
          "model_name": "HTMLModel",
          "state": {
            "_dom_classes": [],
            "_model_module": "@jupyter-widgets/controls",
            "_model_module_version": "1.5.0",
            "_model_name": "HTMLModel",
            "_view_count": null,
            "_view_module": "@jupyter-widgets/controls",
            "_view_module_version": "1.5.0",
            "_view_name": "HTMLView",
            "description": "",
            "description_tooltip": null,
            "layout": "IPY_MODEL_53475be78da04d4e8c47097283f7e932",
            "placeholder": "​",
            "style": "IPY_MODEL_8da2078e487041d8bc3859df476e678d",
            "value": "100%"
          }
        },
        "39556ce91bf54abab1f38592d5743aa4": {
          "model_module": "@jupyter-widgets/controls",
          "model_module_version": "1.5.0",
          "model_name": "FloatProgressModel",
          "state": {
            "_dom_classes": [],
            "_model_module": "@jupyter-widgets/controls",
            "_model_module_version": "1.5.0",
            "_model_name": "FloatProgressModel",
            "_view_count": null,
            "_view_module": "@jupyter-widgets/controls",
            "_view_module_version": "1.5.0",
            "_view_name": "ProgressView",
            "bar_style": "success",
            "description": "",
            "description_tooltip": null,
            "layout": "IPY_MODEL_5cb89b7d6f69439ea61f0f5dae39fd84",
            "max": 9912422,
            "min": 0,
            "orientation": "horizontal",
            "style": "IPY_MODEL_d78b0bc7f0d5474e908f88d19417d0a1",
            "value": 9912422
          }
        },
        "3a24b78b614648d09ba24e28c5c8ecaa": {
          "model_module": "@jupyter-widgets/controls",
          "model_module_version": "1.5.0",
          "model_name": "ProgressStyleModel",
          "state": {
            "_model_module": "@jupyter-widgets/controls",
            "_model_module_version": "1.5.0",
            "_model_name": "ProgressStyleModel",
            "_view_count": null,
            "_view_module": "@jupyter-widgets/base",
            "_view_module_version": "1.2.0",
            "_view_name": "StyleView",
            "bar_color": null,
            "description_width": ""
          }
        },
        "3abe886991ac47be82bed2f68221680e": {
          "model_module": "@jupyter-widgets/base",
          "model_module_version": "1.2.0",
          "model_name": "LayoutModel",
          "state": {
            "_model_module": "@jupyter-widgets/base",
            "_model_module_version": "1.2.0",
            "_model_name": "LayoutModel",
            "_view_count": null,
            "_view_module": "@jupyter-widgets/base",
            "_view_module_version": "1.2.0",
            "_view_name": "LayoutView",
            "align_content": null,
            "align_items": null,
            "align_self": null,
            "border": null,
            "bottom": null,
            "display": null,
            "flex": null,
            "flex_flow": null,
            "grid_area": null,
            "grid_auto_columns": null,
            "grid_auto_flow": null,
            "grid_auto_rows": null,
            "grid_column": null,
            "grid_gap": null,
            "grid_row": null,
            "grid_template_areas": null,
            "grid_template_columns": null,
            "grid_template_rows": null,
            "height": null,
            "justify_content": null,
            "justify_items": null,
            "left": null,
            "margin": null,
            "max_height": null,
            "max_width": null,
            "min_height": null,
            "min_width": null,
            "object_fit": null,
            "object_position": null,
            "order": null,
            "overflow": null,
            "overflow_x": null,
            "overflow_y": null,
            "padding": null,
            "right": null,
            "top": null,
            "visibility": null,
            "width": null
          }
        },
        "3ead458a3bbb4a5ca785b1000cc6ccbc": {
          "model_module": "@jupyter-widgets/base",
          "model_module_version": "1.2.0",
          "model_name": "LayoutModel",
          "state": {
            "_model_module": "@jupyter-widgets/base",
            "_model_module_version": "1.2.0",
            "_model_name": "LayoutModel",
            "_view_count": null,
            "_view_module": "@jupyter-widgets/base",
            "_view_module_version": "1.2.0",
            "_view_name": "LayoutView",
            "align_content": null,
            "align_items": null,
            "align_self": null,
            "border": null,
            "bottom": null,
            "display": null,
            "flex": null,
            "flex_flow": null,
            "grid_area": null,
            "grid_auto_columns": null,
            "grid_auto_flow": null,
            "grid_auto_rows": null,
            "grid_column": null,
            "grid_gap": null,
            "grid_row": null,
            "grid_template_areas": null,
            "grid_template_columns": null,
            "grid_template_rows": null,
            "height": null,
            "justify_content": null,
            "justify_items": null,
            "left": null,
            "margin": null,
            "max_height": null,
            "max_width": null,
            "min_height": null,
            "min_width": null,
            "object_fit": null,
            "object_position": null,
            "order": null,
            "overflow": null,
            "overflow_x": null,
            "overflow_y": null,
            "padding": null,
            "right": null,
            "top": null,
            "visibility": null,
            "width": null
          }
        },
        "3fc7ac133d294243a09684bfde8fe957": {
          "model_module": "@jupyter-widgets/base",
          "model_module_version": "1.2.0",
          "model_name": "LayoutModel",
          "state": {
            "_model_module": "@jupyter-widgets/base",
            "_model_module_version": "1.2.0",
            "_model_name": "LayoutModel",
            "_view_count": null,
            "_view_module": "@jupyter-widgets/base",
            "_view_module_version": "1.2.0",
            "_view_name": "LayoutView",
            "align_content": null,
            "align_items": null,
            "align_self": null,
            "border": null,
            "bottom": null,
            "display": null,
            "flex": null,
            "flex_flow": null,
            "grid_area": null,
            "grid_auto_columns": null,
            "grid_auto_flow": null,
            "grid_auto_rows": null,
            "grid_column": null,
            "grid_gap": null,
            "grid_row": null,
            "grid_template_areas": null,
            "grid_template_columns": null,
            "grid_template_rows": null,
            "height": null,
            "justify_content": null,
            "justify_items": null,
            "left": null,
            "margin": null,
            "max_height": null,
            "max_width": null,
            "min_height": null,
            "min_width": null,
            "object_fit": null,
            "object_position": null,
            "order": null,
            "overflow": null,
            "overflow_x": null,
            "overflow_y": null,
            "padding": null,
            "right": null,
            "top": null,
            "visibility": null,
            "width": null
          }
        },
        "41d02baa1c1542c99bceafbd54beff0f": {
          "model_module": "@jupyter-widgets/controls",
          "model_module_version": "1.5.0",
          "model_name": "FloatProgressModel",
          "state": {
            "_dom_classes": [],
            "_model_module": "@jupyter-widgets/controls",
            "_model_module_version": "1.5.0",
            "_model_name": "FloatProgressModel",
            "_view_count": null,
            "_view_module": "@jupyter-widgets/controls",
            "_view_module_version": "1.5.0",
            "_view_name": "ProgressView",
            "bar_style": "success",
            "description": "",
            "description_tooltip": null,
            "layout": "IPY_MODEL_f9a00116e6b5446089d908cedd29fc35",
            "max": 1648877,
            "min": 0,
            "orientation": "horizontal",
            "style": "IPY_MODEL_1053661193a641e4bc952ea39c27a52d",
            "value": 1648877
          }
        },
        "4b4446c3c8d941b19f76f28d5d6f4c81": {
          "model_module": "@jupyter-widgets/base",
          "model_module_version": "1.2.0",
          "model_name": "LayoutModel",
          "state": {
            "_model_module": "@jupyter-widgets/base",
            "_model_module_version": "1.2.0",
            "_model_name": "LayoutModel",
            "_view_count": null,
            "_view_module": "@jupyter-widgets/base",
            "_view_module_version": "1.2.0",
            "_view_name": "LayoutView",
            "align_content": null,
            "align_items": null,
            "align_self": null,
            "border": null,
            "bottom": null,
            "display": null,
            "flex": null,
            "flex_flow": null,
            "grid_area": null,
            "grid_auto_columns": null,
            "grid_auto_flow": null,
            "grid_auto_rows": null,
            "grid_column": null,
            "grid_gap": null,
            "grid_row": null,
            "grid_template_areas": null,
            "grid_template_columns": null,
            "grid_template_rows": null,
            "height": null,
            "justify_content": null,
            "justify_items": null,
            "left": null,
            "margin": null,
            "max_height": null,
            "max_width": null,
            "min_height": null,
            "min_width": null,
            "object_fit": null,
            "object_position": null,
            "order": null,
            "overflow": null,
            "overflow_x": null,
            "overflow_y": null,
            "padding": null,
            "right": null,
            "top": null,
            "visibility": null,
            "width": null
          }
        },
        "52768b065d5c4f019cf2dd922500b34d": {
          "model_module": "@jupyter-widgets/controls",
          "model_module_version": "1.5.0",
          "model_name": "HBoxModel",
          "state": {
            "_dom_classes": [],
            "_model_module": "@jupyter-widgets/controls",
            "_model_module_version": "1.5.0",
            "_model_name": "HBoxModel",
            "_view_count": null,
            "_view_module": "@jupyter-widgets/controls",
            "_view_module_version": "1.5.0",
            "_view_name": "HBoxView",
            "box_style": "",
            "children": [
              "IPY_MODEL_a46ada0e1db84b7ba85ad0e4fc844357",
              "IPY_MODEL_39556ce91bf54abab1f38592d5743aa4",
              "IPY_MODEL_773a7282d6e44647b473b161f6688379"
            ],
            "layout": "IPY_MODEL_4b4446c3c8d941b19f76f28d5d6f4c81"
          }
        },
        "53475be78da04d4e8c47097283f7e932": {
          "model_module": "@jupyter-widgets/base",
          "model_module_version": "1.2.0",
          "model_name": "LayoutModel",
          "state": {
            "_model_module": "@jupyter-widgets/base",
            "_model_module_version": "1.2.0",
            "_model_name": "LayoutModel",
            "_view_count": null,
            "_view_module": "@jupyter-widgets/base",
            "_view_module_version": "1.2.0",
            "_view_name": "LayoutView",
            "align_content": null,
            "align_items": null,
            "align_self": null,
            "border": null,
            "bottom": null,
            "display": null,
            "flex": null,
            "flex_flow": null,
            "grid_area": null,
            "grid_auto_columns": null,
            "grid_auto_flow": null,
            "grid_auto_rows": null,
            "grid_column": null,
            "grid_gap": null,
            "grid_row": null,
            "grid_template_areas": null,
            "grid_template_columns": null,
            "grid_template_rows": null,
            "height": null,
            "justify_content": null,
            "justify_items": null,
            "left": null,
            "margin": null,
            "max_height": null,
            "max_width": null,
            "min_height": null,
            "min_width": null,
            "object_fit": null,
            "object_position": null,
            "order": null,
            "overflow": null,
            "overflow_x": null,
            "overflow_y": null,
            "padding": null,
            "right": null,
            "top": null,
            "visibility": null,
            "width": null
          }
        },
        "5cb89b7d6f69439ea61f0f5dae39fd84": {
          "model_module": "@jupyter-widgets/base",
          "model_module_version": "1.2.0",
          "model_name": "LayoutModel",
          "state": {
            "_model_module": "@jupyter-widgets/base",
            "_model_module_version": "1.2.0",
            "_model_name": "LayoutModel",
            "_view_count": null,
            "_view_module": "@jupyter-widgets/base",
            "_view_module_version": "1.2.0",
            "_view_name": "LayoutView",
            "align_content": null,
            "align_items": null,
            "align_self": null,
            "border": null,
            "bottom": null,
            "display": null,
            "flex": null,
            "flex_flow": null,
            "grid_area": null,
            "grid_auto_columns": null,
            "grid_auto_flow": null,
            "grid_auto_rows": null,
            "grid_column": null,
            "grid_gap": null,
            "grid_row": null,
            "grid_template_areas": null,
            "grid_template_columns": null,
            "grid_template_rows": null,
            "height": null,
            "justify_content": null,
            "justify_items": null,
            "left": null,
            "margin": null,
            "max_height": null,
            "max_width": null,
            "min_height": null,
            "min_width": null,
            "object_fit": null,
            "object_position": null,
            "order": null,
            "overflow": null,
            "overflow_x": null,
            "overflow_y": null,
            "padding": null,
            "right": null,
            "top": null,
            "visibility": null,
            "width": null
          }
        },
        "5f1f977b8d0143c2a66a6c23657cd029": {
          "model_module": "@jupyter-widgets/controls",
          "model_module_version": "1.5.0",
          "model_name": "HTMLModel",
          "state": {
            "_dom_classes": [],
            "_model_module": "@jupyter-widgets/controls",
            "_model_module_version": "1.5.0",
            "_model_name": "HTMLModel",
            "_view_count": null,
            "_view_module": "@jupyter-widgets/controls",
            "_view_module_version": "1.5.0",
            "_view_name": "HTMLView",
            "description": "",
            "description_tooltip": null,
            "layout": "IPY_MODEL_f869edb0b9e94bd8bc7067bd3566fcdc",
            "placeholder": "​",
            "style": "IPY_MODEL_73ed2414f62545aea2478e967f933d66",
            "value": "100%"
          }
        },
        "73ed2414f62545aea2478e967f933d66": {
          "model_module": "@jupyter-widgets/controls",
          "model_module_version": "1.5.0",
          "model_name": "DescriptionStyleModel",
          "state": {
            "_model_module": "@jupyter-widgets/controls",
            "_model_module_version": "1.5.0",
            "_model_name": "DescriptionStyleModel",
            "_view_count": null,
            "_view_module": "@jupyter-widgets/base",
            "_view_module_version": "1.2.0",
            "_view_name": "StyleView",
            "description_width": ""
          }
        },
        "7632ca33bc9346cb951a1c7b6a35902f": {
          "model_module": "@jupyter-widgets/base",
          "model_module_version": "1.2.0",
          "model_name": "LayoutModel",
          "state": {
            "_model_module": "@jupyter-widgets/base",
            "_model_module_version": "1.2.0",
            "_model_name": "LayoutModel",
            "_view_count": null,
            "_view_module": "@jupyter-widgets/base",
            "_view_module_version": "1.2.0",
            "_view_name": "LayoutView",
            "align_content": null,
            "align_items": null,
            "align_self": null,
            "border": null,
            "bottom": null,
            "display": null,
            "flex": null,
            "flex_flow": null,
            "grid_area": null,
            "grid_auto_columns": null,
            "grid_auto_flow": null,
            "grid_auto_rows": null,
            "grid_column": null,
            "grid_gap": null,
            "grid_row": null,
            "grid_template_areas": null,
            "grid_template_columns": null,
            "grid_template_rows": null,
            "height": null,
            "justify_content": null,
            "justify_items": null,
            "left": null,
            "margin": null,
            "max_height": null,
            "max_width": null,
            "min_height": null,
            "min_width": null,
            "object_fit": null,
            "object_position": null,
            "order": null,
            "overflow": null,
            "overflow_x": null,
            "overflow_y": null,
            "padding": null,
            "right": null,
            "top": null,
            "visibility": null,
            "width": null
          }
        },
        "773a7282d6e44647b473b161f6688379": {
          "model_module": "@jupyter-widgets/controls",
          "model_module_version": "1.5.0",
          "model_name": "HTMLModel",
          "state": {
            "_dom_classes": [],
            "_model_module": "@jupyter-widgets/controls",
            "_model_module_version": "1.5.0",
            "_model_name": "HTMLModel",
            "_view_count": null,
            "_view_module": "@jupyter-widgets/controls",
            "_view_module_version": "1.5.0",
            "_view_name": "HTMLView",
            "description": "",
            "description_tooltip": null,
            "layout": "IPY_MODEL_f23da95e88d9416cb240074b570987cf",
            "placeholder": "​",
            "style": "IPY_MODEL_1e168a93460d4e95bd10ac8a3e334ca3",
            "value": " 9912422/9912422 [00:00&lt;00:00, 36030402.63it/s]"
          }
        },
        "83c09fca85564a73ae5040fff82cdf98": {
          "model_module": "@jupyter-widgets/controls",
          "model_module_version": "1.5.0",
          "model_name": "HBoxModel",
          "state": {
            "_dom_classes": [],
            "_model_module": "@jupyter-widgets/controls",
            "_model_module_version": "1.5.0",
            "_model_name": "HBoxModel",
            "_view_count": null,
            "_view_module": "@jupyter-widgets/controls",
            "_view_module_version": "1.5.0",
            "_view_name": "HBoxView",
            "box_style": "",
            "children": [
              "IPY_MODEL_88e58e09897942eea1a5c6d156283ffc",
              "IPY_MODEL_027bce033aef403d873b1dc8b6351c9f",
              "IPY_MODEL_9d4cecb827d64084961b478e491dfe81"
            ],
            "layout": "IPY_MODEL_3ead458a3bbb4a5ca785b1000cc6ccbc"
          }
        },
        "86bdf93c7a1d49a897376f70e1ac8f4b": {
          "model_module": "@jupyter-widgets/base",
          "model_module_version": "1.2.0",
          "model_name": "LayoutModel",
          "state": {
            "_model_module": "@jupyter-widgets/base",
            "_model_module_version": "1.2.0",
            "_model_name": "LayoutModel",
            "_view_count": null,
            "_view_module": "@jupyter-widgets/base",
            "_view_module_version": "1.2.0",
            "_view_name": "LayoutView",
            "align_content": null,
            "align_items": null,
            "align_self": null,
            "border": null,
            "bottom": null,
            "display": null,
            "flex": null,
            "flex_flow": null,
            "grid_area": null,
            "grid_auto_columns": null,
            "grid_auto_flow": null,
            "grid_auto_rows": null,
            "grid_column": null,
            "grid_gap": null,
            "grid_row": null,
            "grid_template_areas": null,
            "grid_template_columns": null,
            "grid_template_rows": null,
            "height": null,
            "justify_content": null,
            "justify_items": null,
            "left": null,
            "margin": null,
            "max_height": null,
            "max_width": null,
            "min_height": null,
            "min_width": null,
            "object_fit": null,
            "object_position": null,
            "order": null,
            "overflow": null,
            "overflow_x": null,
            "overflow_y": null,
            "padding": null,
            "right": null,
            "top": null,
            "visibility": null,
            "width": null
          }
        },
        "88e58e09897942eea1a5c6d156283ffc": {
          "model_module": "@jupyter-widgets/controls",
          "model_module_version": "1.5.0",
          "model_name": "HTMLModel",
          "state": {
            "_dom_classes": [],
            "_model_module": "@jupyter-widgets/controls",
            "_model_module_version": "1.5.0",
            "_model_name": "HTMLModel",
            "_view_count": null,
            "_view_module": "@jupyter-widgets/controls",
            "_view_module_version": "1.5.0",
            "_view_name": "HTMLView",
            "description": "",
            "description_tooltip": null,
            "layout": "IPY_MODEL_c24b50401ca547e99e5931e9db557d80",
            "placeholder": "​",
            "style": "IPY_MODEL_f91ef89c457c4be2b0ea692bb1e48161",
            "value": "100%"
          }
        },
        "89ede7402af04c0785a4ae73becf8b52": {
          "model_module": "@jupyter-widgets/controls",
          "model_module_version": "1.5.0",
          "model_name": "HTMLModel",
          "state": {
            "_dom_classes": [],
            "_model_module": "@jupyter-widgets/controls",
            "_model_module_version": "1.5.0",
            "_model_name": "HTMLModel",
            "_view_count": null,
            "_view_module": "@jupyter-widgets/controls",
            "_view_module_version": "1.5.0",
            "_view_name": "HTMLView",
            "description": "",
            "description_tooltip": null,
            "layout": "IPY_MODEL_0d7190fa3e3a4ddc921c5daf7d2be809",
            "placeholder": "​",
            "style": "IPY_MODEL_8f564ba1e58c44408cd8872db660802f",
            "value": " 1648877/1648877 [00:00&lt;00:00, 18397731.89it/s]"
          }
        },
        "8da2078e487041d8bc3859df476e678d": {
          "model_module": "@jupyter-widgets/controls",
          "model_module_version": "1.5.0",
          "model_name": "DescriptionStyleModel",
          "state": {
            "_model_module": "@jupyter-widgets/controls",
            "_model_module_version": "1.5.0",
            "_model_name": "DescriptionStyleModel",
            "_view_count": null,
            "_view_module": "@jupyter-widgets/base",
            "_view_module_version": "1.2.0",
            "_view_name": "StyleView",
            "description_width": ""
          }
        },
        "8f564ba1e58c44408cd8872db660802f": {
          "model_module": "@jupyter-widgets/controls",
          "model_module_version": "1.5.0",
          "model_name": "DescriptionStyleModel",
          "state": {
            "_model_module": "@jupyter-widgets/controls",
            "_model_module_version": "1.5.0",
            "_model_name": "DescriptionStyleModel",
            "_view_count": null,
            "_view_module": "@jupyter-widgets/base",
            "_view_module_version": "1.2.0",
            "_view_name": "StyleView",
            "description_width": ""
          }
        },
        "90edc61272d449ca9c4b9d596ed6667c": {
          "model_module": "@jupyter-widgets/base",
          "model_module_version": "1.2.0",
          "model_name": "LayoutModel",
          "state": {
            "_model_module": "@jupyter-widgets/base",
            "_model_module_version": "1.2.0",
            "_model_name": "LayoutModel",
            "_view_count": null,
            "_view_module": "@jupyter-widgets/base",
            "_view_module_version": "1.2.0",
            "_view_name": "LayoutView",
            "align_content": null,
            "align_items": null,
            "align_self": null,
            "border": null,
            "bottom": null,
            "display": null,
            "flex": null,
            "flex_flow": null,
            "grid_area": null,
            "grid_auto_columns": null,
            "grid_auto_flow": null,
            "grid_auto_rows": null,
            "grid_column": null,
            "grid_gap": null,
            "grid_row": null,
            "grid_template_areas": null,
            "grid_template_columns": null,
            "grid_template_rows": null,
            "height": null,
            "justify_content": null,
            "justify_items": null,
            "left": null,
            "margin": null,
            "max_height": null,
            "max_width": null,
            "min_height": null,
            "min_width": null,
            "object_fit": null,
            "object_position": null,
            "order": null,
            "overflow": null,
            "overflow_x": null,
            "overflow_y": null,
            "padding": null,
            "right": null,
            "top": null,
            "visibility": null,
            "width": null
          }
        },
        "950ed92a918c4f4f8e3ed66caf56157b": {
          "model_module": "@jupyter-widgets/controls",
          "model_module_version": "1.5.0",
          "model_name": "HBoxModel",
          "state": {
            "_dom_classes": [],
            "_model_module": "@jupyter-widgets/controls",
            "_model_module_version": "1.5.0",
            "_model_name": "HBoxModel",
            "_view_count": null,
            "_view_module": "@jupyter-widgets/controls",
            "_view_module_version": "1.5.0",
            "_view_name": "HBoxView",
            "box_style": "",
            "children": [
              "IPY_MODEL_d569ff3f2c3745ec8b3fd2907e8f050c",
              "IPY_MODEL_c991707d88e7494cac3082fa056c6aea",
              "IPY_MODEL_e5a9b33ec0b54777b32a7667b8bf721e"
            ],
            "layout": "IPY_MODEL_3fc7ac133d294243a09684bfde8fe957"
          }
        },
        "9c8e3aefa5294a27bcbd78db007e847a": {
          "model_module": "@jupyter-widgets/base",
          "model_module_version": "1.2.0",
          "model_name": "LayoutModel",
          "state": {
            "_model_module": "@jupyter-widgets/base",
            "_model_module_version": "1.2.0",
            "_model_name": "LayoutModel",
            "_view_count": null,
            "_view_module": "@jupyter-widgets/base",
            "_view_module_version": "1.2.0",
            "_view_name": "LayoutView",
            "align_content": null,
            "align_items": null,
            "align_self": null,
            "border": null,
            "bottom": null,
            "display": null,
            "flex": null,
            "flex_flow": null,
            "grid_area": null,
            "grid_auto_columns": null,
            "grid_auto_flow": null,
            "grid_auto_rows": null,
            "grid_column": null,
            "grid_gap": null,
            "grid_row": null,
            "grid_template_areas": null,
            "grid_template_columns": null,
            "grid_template_rows": null,
            "height": null,
            "justify_content": null,
            "justify_items": null,
            "left": null,
            "margin": null,
            "max_height": null,
            "max_width": null,
            "min_height": null,
            "min_width": null,
            "object_fit": null,
            "object_position": null,
            "order": null,
            "overflow": null,
            "overflow_x": null,
            "overflow_y": null,
            "padding": null,
            "right": null,
            "top": null,
            "visibility": null,
            "width": null
          }
        },
        "9d4cecb827d64084961b478e491dfe81": {
          "model_module": "@jupyter-widgets/controls",
          "model_module_version": "1.5.0",
          "model_name": "HTMLModel",
          "state": {
            "_dom_classes": [],
            "_model_module": "@jupyter-widgets/controls",
            "_model_module_version": "1.5.0",
            "_model_name": "HTMLModel",
            "_view_count": null,
            "_view_module": "@jupyter-widgets/controls",
            "_view_module_version": "1.5.0",
            "_view_name": "HTMLView",
            "description": "",
            "description_tooltip": null,
            "layout": "IPY_MODEL_9c8e3aefa5294a27bcbd78db007e847a",
            "placeholder": "​",
            "style": "IPY_MODEL_ea9becb68eb24f4ababbfa8f276eb061",
            "value": " 170498071/170498071 [00:05&lt;00:00, 31980616.04it/s]"
          }
        },
        "a46ada0e1db84b7ba85ad0e4fc844357": {
          "model_module": "@jupyter-widgets/controls",
          "model_module_version": "1.5.0",
          "model_name": "HTMLModel",
          "state": {
            "_dom_classes": [],
            "_model_module": "@jupyter-widgets/controls",
            "_model_module_version": "1.5.0",
            "_model_name": "HTMLModel",
            "_view_count": null,
            "_view_module": "@jupyter-widgets/controls",
            "_view_module_version": "1.5.0",
            "_view_name": "HTMLView",
            "description": "",
            "description_tooltip": null,
            "layout": "IPY_MODEL_03c3f6deb9b04f44b2845d5b853242d7",
            "placeholder": "​",
            "style": "IPY_MODEL_ed007b5d82d941098ccade1d7e0f6e0b",
            "value": "100%"
          }
        },
        "a51c2898ef3f49ca87a2ed18bd416000": {
          "model_module": "@jupyter-widgets/controls",
          "model_module_version": "1.5.0",
          "model_name": "ProgressStyleModel",
          "state": {
            "_model_module": "@jupyter-widgets/controls",
            "_model_module_version": "1.5.0",
            "_model_name": "ProgressStyleModel",
            "_view_count": null,
            "_view_module": "@jupyter-widgets/base",
            "_view_module_version": "1.2.0",
            "_view_name": "StyleView",
            "bar_color": null,
            "description_width": ""
          }
        },
        "abcec5624aed40909ba93ef7c3456539": {
          "model_module": "@jupyter-widgets/controls",
          "model_module_version": "1.5.0",
          "model_name": "ProgressStyleModel",
          "state": {
            "_model_module": "@jupyter-widgets/controls",
            "_model_module_version": "1.5.0",
            "_model_name": "ProgressStyleModel",
            "_view_count": null,
            "_view_module": "@jupyter-widgets/base",
            "_view_module_version": "1.2.0",
            "_view_name": "StyleView",
            "bar_color": null,
            "description_width": ""
          }
        },
        "b4ad1bcefcf34134a0f48cef31ba87a5": {
          "model_module": "@jupyter-widgets/controls",
          "model_module_version": "1.5.0",
          "model_name": "DescriptionStyleModel",
          "state": {
            "_model_module": "@jupyter-widgets/controls",
            "_model_module_version": "1.5.0",
            "_model_name": "DescriptionStyleModel",
            "_view_count": null,
            "_view_module": "@jupyter-widgets/base",
            "_view_module_version": "1.2.0",
            "_view_name": "StyleView",
            "description_width": ""
          }
        },
        "c24b50401ca547e99e5931e9db557d80": {
          "model_module": "@jupyter-widgets/base",
          "model_module_version": "1.2.0",
          "model_name": "LayoutModel",
          "state": {
            "_model_module": "@jupyter-widgets/base",
            "_model_module_version": "1.2.0",
            "_model_name": "LayoutModel",
            "_view_count": null,
            "_view_module": "@jupyter-widgets/base",
            "_view_module_version": "1.2.0",
            "_view_name": "LayoutView",
            "align_content": null,
            "align_items": null,
            "align_self": null,
            "border": null,
            "bottom": null,
            "display": null,
            "flex": null,
            "flex_flow": null,
            "grid_area": null,
            "grid_auto_columns": null,
            "grid_auto_flow": null,
            "grid_auto_rows": null,
            "grid_column": null,
            "grid_gap": null,
            "grid_row": null,
            "grid_template_areas": null,
            "grid_template_columns": null,
            "grid_template_rows": null,
            "height": null,
            "justify_content": null,
            "justify_items": null,
            "left": null,
            "margin": null,
            "max_height": null,
            "max_width": null,
            "min_height": null,
            "min_width": null,
            "object_fit": null,
            "object_position": null,
            "order": null,
            "overflow": null,
            "overflow_x": null,
            "overflow_y": null,
            "padding": null,
            "right": null,
            "top": null,
            "visibility": null,
            "width": null
          }
        },
        "c4dd274be5694f689e6721cb3f618774": {
          "model_module": "@jupyter-widgets/controls",
          "model_module_version": "1.5.0",
          "model_name": "FloatProgressModel",
          "state": {
            "_dom_classes": [],
            "_model_module": "@jupyter-widgets/controls",
            "_model_module_version": "1.5.0",
            "_model_name": "FloatProgressModel",
            "_view_count": null,
            "_view_module": "@jupyter-widgets/controls",
            "_view_module_version": "1.5.0",
            "_view_name": "ProgressView",
            "bar_style": "success",
            "description": "",
            "description_tooltip": null,
            "layout": "IPY_MODEL_df48d6e7fad940a58777360b76c38d67",
            "max": 4542,
            "min": 0,
            "orientation": "horizontal",
            "style": "IPY_MODEL_abcec5624aed40909ba93ef7c3456539",
            "value": 4542
          }
        },
        "c991707d88e7494cac3082fa056c6aea": {
          "model_module": "@jupyter-widgets/controls",
          "model_module_version": "1.5.0",
          "model_name": "FloatProgressModel",
          "state": {
            "_dom_classes": [],
            "_model_module": "@jupyter-widgets/controls",
            "_model_module_version": "1.5.0",
            "_model_name": "FloatProgressModel",
            "_view_count": null,
            "_view_module": "@jupyter-widgets/controls",
            "_view_module_version": "1.5.0",
            "_view_name": "ProgressView",
            "bar_style": "success",
            "description": "",
            "description_tooltip": null,
            "layout": "IPY_MODEL_90edc61272d449ca9c4b9d596ed6667c",
            "max": 28881,
            "min": 0,
            "orientation": "horizontal",
            "style": "IPY_MODEL_3a24b78b614648d09ba24e28c5c8ecaa",
            "value": 28881
          }
        },
        "d306e632810143ad80246d59e0cf2458": {
          "model_module": "@jupyter-widgets/controls",
          "model_module_version": "1.5.0",
          "model_name": "HTMLModel",
          "state": {
            "_dom_classes": [],
            "_model_module": "@jupyter-widgets/controls",
            "_model_module_version": "1.5.0",
            "_model_name": "HTMLModel",
            "_view_count": null,
            "_view_module": "@jupyter-widgets/controls",
            "_view_module_version": "1.5.0",
            "_view_name": "HTMLView",
            "description": "",
            "description_tooltip": null,
            "layout": "IPY_MODEL_f650a664139f4408a70dc1d0a500d394",
            "placeholder": "​",
            "style": "IPY_MODEL_b4ad1bcefcf34134a0f48cef31ba87a5",
            "value": " 4542/4542 [00:00&lt;00:00, 39638.23it/s]"
          }
        },
        "d569ff3f2c3745ec8b3fd2907e8f050c": {
          "model_module": "@jupyter-widgets/controls",
          "model_module_version": "1.5.0",
          "model_name": "HTMLModel",
          "state": {
            "_dom_classes": [],
            "_model_module": "@jupyter-widgets/controls",
            "_model_module_version": "1.5.0",
            "_model_name": "HTMLModel",
            "_view_count": null,
            "_view_module": "@jupyter-widgets/controls",
            "_view_module_version": "1.5.0",
            "_view_name": "HTMLView",
            "description": "",
            "description_tooltip": null,
            "layout": "IPY_MODEL_f55cced9f831464597560a6be459c175",
            "placeholder": "​",
            "style": "IPY_MODEL_317c6123f11a4754a8d3cd7370309176",
            "value": "100%"
          }
        },
        "d78b0bc7f0d5474e908f88d19417d0a1": {
          "model_module": "@jupyter-widgets/controls",
          "model_module_version": "1.5.0",
          "model_name": "ProgressStyleModel",
          "state": {
            "_model_module": "@jupyter-widgets/controls",
            "_model_module_version": "1.5.0",
            "_model_name": "ProgressStyleModel",
            "_view_count": null,
            "_view_module": "@jupyter-widgets/base",
            "_view_module_version": "1.2.0",
            "_view_name": "StyleView",
            "bar_color": null,
            "description_width": ""
          }
        },
        "df48d6e7fad940a58777360b76c38d67": {
          "model_module": "@jupyter-widgets/base",
          "model_module_version": "1.2.0",
          "model_name": "LayoutModel",
          "state": {
            "_model_module": "@jupyter-widgets/base",
            "_model_module_version": "1.2.0",
            "_model_name": "LayoutModel",
            "_view_count": null,
            "_view_module": "@jupyter-widgets/base",
            "_view_module_version": "1.2.0",
            "_view_name": "LayoutView",
            "align_content": null,
            "align_items": null,
            "align_self": null,
            "border": null,
            "bottom": null,
            "display": null,
            "flex": null,
            "flex_flow": null,
            "grid_area": null,
            "grid_auto_columns": null,
            "grid_auto_flow": null,
            "grid_auto_rows": null,
            "grid_column": null,
            "grid_gap": null,
            "grid_row": null,
            "grid_template_areas": null,
            "grid_template_columns": null,
            "grid_template_rows": null,
            "height": null,
            "justify_content": null,
            "justify_items": null,
            "left": null,
            "margin": null,
            "max_height": null,
            "max_width": null,
            "min_height": null,
            "min_width": null,
            "object_fit": null,
            "object_position": null,
            "order": null,
            "overflow": null,
            "overflow_x": null,
            "overflow_y": null,
            "padding": null,
            "right": null,
            "top": null,
            "visibility": null,
            "width": null
          }
        },
        "e41b9fea996d4974b4640997751c824a": {
          "model_module": "@jupyter-widgets/controls",
          "model_module_version": "1.5.0",
          "model_name": "HBoxModel",
          "state": {
            "_dom_classes": [],
            "_model_module": "@jupyter-widgets/controls",
            "_model_module_version": "1.5.0",
            "_model_name": "HBoxModel",
            "_view_count": null,
            "_view_module": "@jupyter-widgets/controls",
            "_view_module_version": "1.5.0",
            "_view_name": "HBoxView",
            "box_style": "",
            "children": [
              "IPY_MODEL_5f1f977b8d0143c2a66a6c23657cd029",
              "IPY_MODEL_c4dd274be5694f689e6721cb3f618774",
              "IPY_MODEL_d306e632810143ad80246d59e0cf2458"
            ],
            "layout": "IPY_MODEL_7632ca33bc9346cb951a1c7b6a35902f"
          }
        },
        "e5a9b33ec0b54777b32a7667b8bf721e": {
          "model_module": "@jupyter-widgets/controls",
          "model_module_version": "1.5.0",
          "model_name": "HTMLModel",
          "state": {
            "_dom_classes": [],
            "_model_module": "@jupyter-widgets/controls",
            "_model_module_version": "1.5.0",
            "_model_name": "HTMLModel",
            "_view_count": null,
            "_view_module": "@jupyter-widgets/controls",
            "_view_module_version": "1.5.0",
            "_view_name": "HTMLView",
            "description": "",
            "description_tooltip": null,
            "layout": "IPY_MODEL_3abe886991ac47be82bed2f68221680e",
            "placeholder": "​",
            "style": "IPY_MODEL_0601c774ac294afd915511900e910809",
            "value": " 28881/28881 [00:00&lt;00:00, 555543.45it/s]"
          }
        },
        "ea9becb68eb24f4ababbfa8f276eb061": {
          "model_module": "@jupyter-widgets/controls",
          "model_module_version": "1.5.0",
          "model_name": "DescriptionStyleModel",
          "state": {
            "_model_module": "@jupyter-widgets/controls",
            "_model_module_version": "1.5.0",
            "_model_name": "DescriptionStyleModel",
            "_view_count": null,
            "_view_module": "@jupyter-widgets/base",
            "_view_module_version": "1.2.0",
            "_view_name": "StyleView",
            "description_width": ""
          }
        },
        "ed007b5d82d941098ccade1d7e0f6e0b": {
          "model_module": "@jupyter-widgets/controls",
          "model_module_version": "1.5.0",
          "model_name": "DescriptionStyleModel",
          "state": {
            "_model_module": "@jupyter-widgets/controls",
            "_model_module_version": "1.5.0",
            "_model_name": "DescriptionStyleModel",
            "_view_count": null,
            "_view_module": "@jupyter-widgets/base",
            "_view_module_version": "1.2.0",
            "_view_name": "StyleView",
            "description_width": ""
          }
        },
        "f23da95e88d9416cb240074b570987cf": {
          "model_module": "@jupyter-widgets/base",
          "model_module_version": "1.2.0",
          "model_name": "LayoutModel",
          "state": {
            "_model_module": "@jupyter-widgets/base",
            "_model_module_version": "1.2.0",
            "_model_name": "LayoutModel",
            "_view_count": null,
            "_view_module": "@jupyter-widgets/base",
            "_view_module_version": "1.2.0",
            "_view_name": "LayoutView",
            "align_content": null,
            "align_items": null,
            "align_self": null,
            "border": null,
            "bottom": null,
            "display": null,
            "flex": null,
            "flex_flow": null,
            "grid_area": null,
            "grid_auto_columns": null,
            "grid_auto_flow": null,
            "grid_auto_rows": null,
            "grid_column": null,
            "grid_gap": null,
            "grid_row": null,
            "grid_template_areas": null,
            "grid_template_columns": null,
            "grid_template_rows": null,
            "height": null,
            "justify_content": null,
            "justify_items": null,
            "left": null,
            "margin": null,
            "max_height": null,
            "max_width": null,
            "min_height": null,
            "min_width": null,
            "object_fit": null,
            "object_position": null,
            "order": null,
            "overflow": null,
            "overflow_x": null,
            "overflow_y": null,
            "padding": null,
            "right": null,
            "top": null,
            "visibility": null,
            "width": null
          }
        },
        "f55cced9f831464597560a6be459c175": {
          "model_module": "@jupyter-widgets/base",
          "model_module_version": "1.2.0",
          "model_name": "LayoutModel",
          "state": {
            "_model_module": "@jupyter-widgets/base",
            "_model_module_version": "1.2.0",
            "_model_name": "LayoutModel",
            "_view_count": null,
            "_view_module": "@jupyter-widgets/base",
            "_view_module_version": "1.2.0",
            "_view_name": "LayoutView",
            "align_content": null,
            "align_items": null,
            "align_self": null,
            "border": null,
            "bottom": null,
            "display": null,
            "flex": null,
            "flex_flow": null,
            "grid_area": null,
            "grid_auto_columns": null,
            "grid_auto_flow": null,
            "grid_auto_rows": null,
            "grid_column": null,
            "grid_gap": null,
            "grid_row": null,
            "grid_template_areas": null,
            "grid_template_columns": null,
            "grid_template_rows": null,
            "height": null,
            "justify_content": null,
            "justify_items": null,
            "left": null,
            "margin": null,
            "max_height": null,
            "max_width": null,
            "min_height": null,
            "min_width": null,
            "object_fit": null,
            "object_position": null,
            "order": null,
            "overflow": null,
            "overflow_x": null,
            "overflow_y": null,
            "padding": null,
            "right": null,
            "top": null,
            "visibility": null,
            "width": null
          }
        },
        "f650a664139f4408a70dc1d0a500d394": {
          "model_module": "@jupyter-widgets/base",
          "model_module_version": "1.2.0",
          "model_name": "LayoutModel",
          "state": {
            "_model_module": "@jupyter-widgets/base",
            "_model_module_version": "1.2.0",
            "_model_name": "LayoutModel",
            "_view_count": null,
            "_view_module": "@jupyter-widgets/base",
            "_view_module_version": "1.2.0",
            "_view_name": "LayoutView",
            "align_content": null,
            "align_items": null,
            "align_self": null,
            "border": null,
            "bottom": null,
            "display": null,
            "flex": null,
            "flex_flow": null,
            "grid_area": null,
            "grid_auto_columns": null,
            "grid_auto_flow": null,
            "grid_auto_rows": null,
            "grid_column": null,
            "grid_gap": null,
            "grid_row": null,
            "grid_template_areas": null,
            "grid_template_columns": null,
            "grid_template_rows": null,
            "height": null,
            "justify_content": null,
            "justify_items": null,
            "left": null,
            "margin": null,
            "max_height": null,
            "max_width": null,
            "min_height": null,
            "min_width": null,
            "object_fit": null,
            "object_position": null,
            "order": null,
            "overflow": null,
            "overflow_x": null,
            "overflow_y": null,
            "padding": null,
            "right": null,
            "top": null,
            "visibility": null,
            "width": null
          }
        },
        "f869edb0b9e94bd8bc7067bd3566fcdc": {
          "model_module": "@jupyter-widgets/base",
          "model_module_version": "1.2.0",
          "model_name": "LayoutModel",
          "state": {
            "_model_module": "@jupyter-widgets/base",
            "_model_module_version": "1.2.0",
            "_model_name": "LayoutModel",
            "_view_count": null,
            "_view_module": "@jupyter-widgets/base",
            "_view_module_version": "1.2.0",
            "_view_name": "LayoutView",
            "align_content": null,
            "align_items": null,
            "align_self": null,
            "border": null,
            "bottom": null,
            "display": null,
            "flex": null,
            "flex_flow": null,
            "grid_area": null,
            "grid_auto_columns": null,
            "grid_auto_flow": null,
            "grid_auto_rows": null,
            "grid_column": null,
            "grid_gap": null,
            "grid_row": null,
            "grid_template_areas": null,
            "grid_template_columns": null,
            "grid_template_rows": null,
            "height": null,
            "justify_content": null,
            "justify_items": null,
            "left": null,
            "margin": null,
            "max_height": null,
            "max_width": null,
            "min_height": null,
            "min_width": null,
            "object_fit": null,
            "object_position": null,
            "order": null,
            "overflow": null,
            "overflow_x": null,
            "overflow_y": null,
            "padding": null,
            "right": null,
            "top": null,
            "visibility": null,
            "width": null
          }
        },
        "f91ef89c457c4be2b0ea692bb1e48161": {
          "model_module": "@jupyter-widgets/controls",
          "model_module_version": "1.5.0",
          "model_name": "DescriptionStyleModel",
          "state": {
            "_model_module": "@jupyter-widgets/controls",
            "_model_module_version": "1.5.0",
            "_model_name": "DescriptionStyleModel",
            "_view_count": null,
            "_view_module": "@jupyter-widgets/base",
            "_view_module_version": "1.2.0",
            "_view_name": "StyleView",
            "description_width": ""
          }
        },
        "f9a00116e6b5446089d908cedd29fc35": {
          "model_module": "@jupyter-widgets/base",
          "model_module_version": "1.2.0",
          "model_name": "LayoutModel",
          "state": {
            "_model_module": "@jupyter-widgets/base",
            "_model_module_version": "1.2.0",
            "_model_name": "LayoutModel",
            "_view_count": null,
            "_view_module": "@jupyter-widgets/base",
            "_view_module_version": "1.2.0",
            "_view_name": "LayoutView",
            "align_content": null,
            "align_items": null,
            "align_self": null,
            "border": null,
            "bottom": null,
            "display": null,
            "flex": null,
            "flex_flow": null,
            "grid_area": null,
            "grid_auto_columns": null,
            "grid_auto_flow": null,
            "grid_auto_rows": null,
            "grid_column": null,
            "grid_gap": null,
            "grid_row": null,
            "grid_template_areas": null,
            "grid_template_columns": null,
            "grid_template_rows": null,
            "height": null,
            "justify_content": null,
            "justify_items": null,
            "left": null,
            "margin": null,
            "max_height": null,
            "max_width": null,
            "min_height": null,
            "min_width": null,
            "object_fit": null,
            "object_position": null,
            "order": null,
            "overflow": null,
            "overflow_x": null,
            "overflow_y": null,
            "padding": null,
            "right": null,
            "top": null,
            "visibility": null,
            "width": null
          }
        }
      }
    }
  },
  "nbformat": 4,
  "nbformat_minor": 0
}
